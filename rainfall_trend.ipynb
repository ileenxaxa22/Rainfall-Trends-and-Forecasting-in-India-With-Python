{
  "nbformat": 4,
  "nbformat_minor": 0,
  "metadata": {
    "colab": {
      "provenance": []
    },
    "kernelspec": {
      "name": "python3",
      "display_name": "Python 3"
    },
    "language_info": {
      "name": "python"
    }
  },
  "cells": [
    {
      "cell_type": "markdown",
      "source": [
        "# **Rainfall bold text Trends and Forecasting in India**"
      ],
      "metadata": {
        "id": "_dd5CZDgs7z6"
      }
    },
    {
      "cell_type": "code",
      "execution_count": 55,
      "metadata": {
        "id": "TKA1FLDdQ8i4"
      },
      "outputs": [],
      "source": [
        "import pandas as pd"
      ]
    },
    {
      "cell_type": "code",
      "source": [
        "#importing datasets\n",
        "rainfall_data = pd.read_csv('/content/rainfall_area-wt_India_1901-2015.csv')\n",
        "print(rainfall_data.head())"
      ],
      "metadata": {
        "colab": {
          "base_uri": "https://localhost:8080/"
        },
        "collapsed": true,
        "id": "9yQ0xd_wR4we",
        "outputId": "094908f8-517b-4d57-b60e-aa6bb3010f10"
      },
      "execution_count": 4,
      "outputs": [
        {
          "output_type": "stream",
          "name": "stdout",
          "text": [
            "  REGION  YEAR   JAN   FEB   MAR   APR   MAY    JUN    JUL    AUG    SEP  \\\n",
            "0  INDIA  1901  34.7  37.7  18.0  39.3  50.8  113.4  242.2  272.9  124.4   \n",
            "1  INDIA  1902   7.4   4.3  19.0  43.5  48.3  108.8  284.0  199.7  201.5   \n",
            "2  INDIA  1903  17.0   8.3  31.3  17.1  59.5  118.3  297.0  270.4  199.1   \n",
            "3  INDIA  1904  14.4   9.6  31.8  33.1  72.4  164.8  261.0  206.4  129.6   \n",
            "4  INDIA  1905  25.3  20.9  42.7  33.7  55.7   93.3  252.8  200.8  178.4   \n",
            "\n",
            "     OCT   NOV   DEC  ANNUAL  Jan-Feb  Mar-May  Jun-Sep  Oct-Dec  \n",
            "0   52.7  38.0   8.3  1032.3     72.4    108.1    752.8     99.0  \n",
            "1   61.5  27.9  24.4  1030.2     11.7    110.8    794.0    113.8  \n",
            "2  117.9  36.9  17.7  1190.5     25.3    107.9    884.8    172.5  \n",
            "3   69.0  11.2  16.3  1019.8     24.0    137.4    761.8     96.6  \n",
            "4   51.4   9.7  10.5   975.3     46.2    132.2    725.4     71.6  \n"
          ]
        }
      ]
    },
    {
      "cell_type": "markdown",
      "source": [
        "### Analyzing Annual Rainfall Trends Over Time"
      ],
      "metadata": {
        "id": "_jsYvS9cuoem"
      }
    },
    {
      "cell_type": "code",
      "source": [
        "#import plotly libraries\n",
        "import plotly.express as px\n",
        "import plotly.graph_objects as go"
      ],
      "metadata": {
        "id": "Dkito0kuR3Qc"
      },
      "execution_count": 56,
      "outputs": []
    },
    {
      "cell_type": "code",
      "source": [
        "from re import template\n",
        "#analyze trends in annual rainfall over time\n",
        "annual_rainfall = rainfall_data[['YEAR','ANNUAL']]\n",
        "fig_annual = go.Figure()\n",
        "fig_annual.add_trace(go.Scatter(\n",
        "    x=annual_rainfall['YEAR'],\n",
        "    y=annual_rainfall['ANNUAL'],\n",
        "    mode='lines',\n",
        "    name='Annual Rainfall',\n",
        "    line= dict(color='blue', width=2),\n",
        "    opacity=0.8\n",
        "    ))\n",
        "fig_annual.add_trace(go.Scatter(\n",
        "    x=annual_rainfall['YEAR'],\n",
        "    y=[annual_rainfall['ANNUAL'].mean()]*len(annual_rainfall),\n",
        "    mode='lines',\n",
        "    name='Mean Rainfall',\n",
        "    line= dict(color='red', width=2, dash='dash'),\n",
        "    ))\n",
        "\n",
        "fig_annual.update_layout(\n",
        "    title='Trends in Annual Rainfall in India (1901-2015)',\n",
        "    xaxis_title='Year',\n",
        "    yaxis_title='Rainfall (mm)',\n",
        "    font=dict(size=12),\n",
        "    template ='plotly_white',\n",
        "    legend=dict(title=\"Legend\"),\n",
        "    height = 500,\n",
        "    width = 800\n",
        "    )\n",
        "fig_annual.show()"
      ],
      "metadata": {
        "colab": {
          "base_uri": "https://localhost:8080/",
          "height": 517
        },
        "id": "A0LLAXAaS75Z",
        "outputId": "6e78d396-e5f7-4988-a392-df2dbcc29f07"
      },
      "execution_count": 57,
      "outputs": [
        {
          "output_type": "display_data",
          "data": {
            "text/html": [
              "<html>\n",
              "<head><meta charset=\"utf-8\" /></head>\n",
              "<body>\n",
              "    <div>            <script src=\"https://cdnjs.cloudflare.com/ajax/libs/mathjax/2.7.5/MathJax.js?config=TeX-AMS-MML_SVG\"></script><script type=\"text/javascript\">if (window.MathJax && window.MathJax.Hub && window.MathJax.Hub.Config) {window.MathJax.Hub.Config({SVG: {font: \"STIX-Web\"}});}</script>                <script type=\"text/javascript\">window.PlotlyConfig = {MathJaxConfig: 'local'};</script>\n",
              "        <script charset=\"utf-8\" src=\"https://cdn.plot.ly/plotly-2.35.2.min.js\"></script>                <div id=\"e92dcdaa-497c-4aa5-9bb7-f930df7c6fa6\" class=\"plotly-graph-div\" style=\"height:500px; width:800px;\"></div>            <script type=\"text/javascript\">                                    window.PLOTLYENV=window.PLOTLYENV || {};                                    if (document.getElementById(\"e92dcdaa-497c-4aa5-9bb7-f930df7c6fa6\")) {                    Plotly.newPlot(                        \"e92dcdaa-497c-4aa5-9bb7-f930df7c6fa6\",                        [{\"line\":{\"color\":\"blue\",\"width\":2},\"mode\":\"lines\",\"name\":\"Annual Rainfall\",\"opacity\":0.8,\"x\":[1901,1902,1903,1904,1905,1906,1907,1908,1909,1910,1911,1912,1913,1914,1915,1916,1917,1918,1919,1920,1921,1922,1923,1924,1925,1926,1927,1928,1929,1930,1931,1932,1933,1934,1935,1936,1937,1938,1939,1940,1941,1942,1943,1944,1945,1946,1947,1948,1949,1950,1951,1952,1953,1954,1955,1956,1957,1958,1959,1960,1961,1962,1963,1964,1965,1966,1967,1968,1969,1970,1971,1972,1973,1974,1975,1976,1977,1978,1979,1980,1981,1982,1983,1984,1985,1986,1987,1988,1989,1990,1991,1992,1993,1994,1995,1996,1997,1998,1999,2000,2001,2002,2003,2004,2005,2006,2007,2008,2009,2010,2011,2012,2013,2014,2015],\"y\":[1032.3,1030.2,1190.5,1019.8,975.3,1144.1,1039.7,1096.6,1158.1,1200.3,1047.5,1078.1,1068.9,1214.3,1137.2,1337.1,1480.3,1026.2,1308.9,1047.9,1240.2,1211.9,1176.3,1268.3,1210.4,1246.8,1262.6,1218.4,1208.5,1209.4,1314.6,1218.9,1393.5,1227.6,1143.4,1341.7,1218.1,1306.7,1125.9,1214.6,1080.9,1292.7,1282.1,1319.1,1225.8,1332.6,1236.6,1341.9,1272.4,1172.5,1061.3,1108.2,1222.9,1180.3,1298.3,1386.2,1178.2,1331.0,1382.1,1149.0,1403.0,1196.4,1210.2,1235.1,938.4,1064.0,1148.3,1054.2,1147.7,1247.0,1218.0,948.5,1214.0,1043.7,1290.2,1124.8,1270.4,1239.3,1023.4,1189.5,1171.6,1086.8,1331.5,1155.9,1140.0,1126.6,1078.9,1351.0,1122.4,1400.6,1159.9,1121.3,1201.9,1295.6,1243.6,1181.8,1171.4,1243.5,1132.0,1050.4,1083.3,920.8,1174.5,1071.3,1232.5,1199.4,1215.6,1132.1,959.3,1200.5,1110.1,1073.5,1216.2,1033.7,1093.2],\"type\":\"scatter\"},{\"line\":{\"color\":\"red\",\"dash\":\"dash\",\"width\":2},\"mode\":\"lines\",\"name\":\"Mean Rainfall\",\"x\":[1901,1902,1903,1904,1905,1906,1907,1908,1909,1910,1911,1912,1913,1914,1915,1916,1917,1918,1919,1920,1921,1922,1923,1924,1925,1926,1927,1928,1929,1930,1931,1932,1933,1934,1935,1936,1937,1938,1939,1940,1941,1942,1943,1944,1945,1946,1947,1948,1949,1950,1951,1952,1953,1954,1955,1956,1957,1958,1959,1960,1961,1962,1963,1964,1965,1966,1967,1968,1969,1970,1971,1972,1973,1974,1975,1976,1977,1978,1979,1980,1981,1982,1983,1984,1985,1986,1987,1988,1989,1990,1991,1992,1993,1994,1995,1996,1997,1998,1999,2000,2001,2002,2003,2004,2005,2006,2007,2008,2009,2010,2011,2012,2013,2014,2015],\"y\":[1182.0347826086959,1182.0347826086959,1182.0347826086959,1182.0347826086959,1182.0347826086959,1182.0347826086959,1182.0347826086959,1182.0347826086959,1182.0347826086959,1182.0347826086959,1182.0347826086959,1182.0347826086959,1182.0347826086959,1182.0347826086959,1182.0347826086959,1182.0347826086959,1182.0347826086959,1182.0347826086959,1182.0347826086959,1182.0347826086959,1182.0347826086959,1182.0347826086959,1182.0347826086959,1182.0347826086959,1182.0347826086959,1182.0347826086959,1182.0347826086959,1182.0347826086959,1182.0347826086959,1182.0347826086959,1182.0347826086959,1182.0347826086959,1182.0347826086959,1182.0347826086959,1182.0347826086959,1182.0347826086959,1182.0347826086959,1182.0347826086959,1182.0347826086959,1182.0347826086959,1182.0347826086959,1182.0347826086959,1182.0347826086959,1182.0347826086959,1182.0347826086959,1182.0347826086959,1182.0347826086959,1182.0347826086959,1182.0347826086959,1182.0347826086959,1182.0347826086959,1182.0347826086959,1182.0347826086959,1182.0347826086959,1182.0347826086959,1182.0347826086959,1182.0347826086959,1182.0347826086959,1182.0347826086959,1182.0347826086959,1182.0347826086959,1182.0347826086959,1182.0347826086959,1182.0347826086959,1182.0347826086959,1182.0347826086959,1182.0347826086959,1182.0347826086959,1182.0347826086959,1182.0347826086959,1182.0347826086959,1182.0347826086959,1182.0347826086959,1182.0347826086959,1182.0347826086959,1182.0347826086959,1182.0347826086959,1182.0347826086959,1182.0347826086959,1182.0347826086959,1182.0347826086959,1182.0347826086959,1182.0347826086959,1182.0347826086959,1182.0347826086959,1182.0347826086959,1182.0347826086959,1182.0347826086959,1182.0347826086959,1182.0347826086959,1182.0347826086959,1182.0347826086959,1182.0347826086959,1182.0347826086959,1182.0347826086959,1182.0347826086959,1182.0347826086959,1182.0347826086959,1182.0347826086959,1182.0347826086959,1182.0347826086959,1182.0347826086959,1182.0347826086959,1182.0347826086959,1182.0347826086959,1182.0347826086959,1182.0347826086959,1182.0347826086959,1182.0347826086959,1182.0347826086959,1182.0347826086959,1182.0347826086959,1182.0347826086959,1182.0347826086959,1182.0347826086959],\"type\":\"scatter\"}],                        {\"template\":{\"data\":{\"barpolar\":[{\"marker\":{\"line\":{\"color\":\"white\",\"width\":0.5},\"pattern\":{\"fillmode\":\"overlay\",\"size\":10,\"solidity\":0.2}},\"type\":\"barpolar\"}],\"bar\":[{\"error_x\":{\"color\":\"#2a3f5f\"},\"error_y\":{\"color\":\"#2a3f5f\"},\"marker\":{\"line\":{\"color\":\"white\",\"width\":0.5},\"pattern\":{\"fillmode\":\"overlay\",\"size\":10,\"solidity\":0.2}},\"type\":\"bar\"}],\"carpet\":[{\"aaxis\":{\"endlinecolor\":\"#2a3f5f\",\"gridcolor\":\"#C8D4E3\",\"linecolor\":\"#C8D4E3\",\"minorgridcolor\":\"#C8D4E3\",\"startlinecolor\":\"#2a3f5f\"},\"baxis\":{\"endlinecolor\":\"#2a3f5f\",\"gridcolor\":\"#C8D4E3\",\"linecolor\":\"#C8D4E3\",\"minorgridcolor\":\"#C8D4E3\",\"startlinecolor\":\"#2a3f5f\"},\"type\":\"carpet\"}],\"choropleth\":[{\"colorbar\":{\"outlinewidth\":0,\"ticks\":\"\"},\"type\":\"choropleth\"}],\"contourcarpet\":[{\"colorbar\":{\"outlinewidth\":0,\"ticks\":\"\"},\"type\":\"contourcarpet\"}],\"contour\":[{\"colorbar\":{\"outlinewidth\":0,\"ticks\":\"\"},\"colorscale\":[[0.0,\"#0d0887\"],[0.1111111111111111,\"#46039f\"],[0.2222222222222222,\"#7201a8\"],[0.3333333333333333,\"#9c179e\"],[0.4444444444444444,\"#bd3786\"],[0.5555555555555556,\"#d8576b\"],[0.6666666666666666,\"#ed7953\"],[0.7777777777777778,\"#fb9f3a\"],[0.8888888888888888,\"#fdca26\"],[1.0,\"#f0f921\"]],\"type\":\"contour\"}],\"heatmapgl\":[{\"colorbar\":{\"outlinewidth\":0,\"ticks\":\"\"},\"colorscale\":[[0.0,\"#0d0887\"],[0.1111111111111111,\"#46039f\"],[0.2222222222222222,\"#7201a8\"],[0.3333333333333333,\"#9c179e\"],[0.4444444444444444,\"#bd3786\"],[0.5555555555555556,\"#d8576b\"],[0.6666666666666666,\"#ed7953\"],[0.7777777777777778,\"#fb9f3a\"],[0.8888888888888888,\"#fdca26\"],[1.0,\"#f0f921\"]],\"type\":\"heatmapgl\"}],\"heatmap\":[{\"colorbar\":{\"outlinewidth\":0,\"ticks\":\"\"},\"colorscale\":[[0.0,\"#0d0887\"],[0.1111111111111111,\"#46039f\"],[0.2222222222222222,\"#7201a8\"],[0.3333333333333333,\"#9c179e\"],[0.4444444444444444,\"#bd3786\"],[0.5555555555555556,\"#d8576b\"],[0.6666666666666666,\"#ed7953\"],[0.7777777777777778,\"#fb9f3a\"],[0.8888888888888888,\"#fdca26\"],[1.0,\"#f0f921\"]],\"type\":\"heatmap\"}],\"histogram2dcontour\":[{\"colorbar\":{\"outlinewidth\":0,\"ticks\":\"\"},\"colorscale\":[[0.0,\"#0d0887\"],[0.1111111111111111,\"#46039f\"],[0.2222222222222222,\"#7201a8\"],[0.3333333333333333,\"#9c179e\"],[0.4444444444444444,\"#bd3786\"],[0.5555555555555556,\"#d8576b\"],[0.6666666666666666,\"#ed7953\"],[0.7777777777777778,\"#fb9f3a\"],[0.8888888888888888,\"#fdca26\"],[1.0,\"#f0f921\"]],\"type\":\"histogram2dcontour\"}],\"histogram2d\":[{\"colorbar\":{\"outlinewidth\":0,\"ticks\":\"\"},\"colorscale\":[[0.0,\"#0d0887\"],[0.1111111111111111,\"#46039f\"],[0.2222222222222222,\"#7201a8\"],[0.3333333333333333,\"#9c179e\"],[0.4444444444444444,\"#bd3786\"],[0.5555555555555556,\"#d8576b\"],[0.6666666666666666,\"#ed7953\"],[0.7777777777777778,\"#fb9f3a\"],[0.8888888888888888,\"#fdca26\"],[1.0,\"#f0f921\"]],\"type\":\"histogram2d\"}],\"histogram\":[{\"marker\":{\"pattern\":{\"fillmode\":\"overlay\",\"size\":10,\"solidity\":0.2}},\"type\":\"histogram\"}],\"mesh3d\":[{\"colorbar\":{\"outlinewidth\":0,\"ticks\":\"\"},\"type\":\"mesh3d\"}],\"parcoords\":[{\"line\":{\"colorbar\":{\"outlinewidth\":0,\"ticks\":\"\"}},\"type\":\"parcoords\"}],\"pie\":[{\"automargin\":true,\"type\":\"pie\"}],\"scatter3d\":[{\"line\":{\"colorbar\":{\"outlinewidth\":0,\"ticks\":\"\"}},\"marker\":{\"colorbar\":{\"outlinewidth\":0,\"ticks\":\"\"}},\"type\":\"scatter3d\"}],\"scattercarpet\":[{\"marker\":{\"colorbar\":{\"outlinewidth\":0,\"ticks\":\"\"}},\"type\":\"scattercarpet\"}],\"scattergeo\":[{\"marker\":{\"colorbar\":{\"outlinewidth\":0,\"ticks\":\"\"}},\"type\":\"scattergeo\"}],\"scattergl\":[{\"marker\":{\"colorbar\":{\"outlinewidth\":0,\"ticks\":\"\"}},\"type\":\"scattergl\"}],\"scattermapbox\":[{\"marker\":{\"colorbar\":{\"outlinewidth\":0,\"ticks\":\"\"}},\"type\":\"scattermapbox\"}],\"scatterpolargl\":[{\"marker\":{\"colorbar\":{\"outlinewidth\":0,\"ticks\":\"\"}},\"type\":\"scatterpolargl\"}],\"scatterpolar\":[{\"marker\":{\"colorbar\":{\"outlinewidth\":0,\"ticks\":\"\"}},\"type\":\"scatterpolar\"}],\"scatter\":[{\"fillpattern\":{\"fillmode\":\"overlay\",\"size\":10,\"solidity\":0.2},\"type\":\"scatter\"}],\"scatterternary\":[{\"marker\":{\"colorbar\":{\"outlinewidth\":0,\"ticks\":\"\"}},\"type\":\"scatterternary\"}],\"surface\":[{\"colorbar\":{\"outlinewidth\":0,\"ticks\":\"\"},\"colorscale\":[[0.0,\"#0d0887\"],[0.1111111111111111,\"#46039f\"],[0.2222222222222222,\"#7201a8\"],[0.3333333333333333,\"#9c179e\"],[0.4444444444444444,\"#bd3786\"],[0.5555555555555556,\"#d8576b\"],[0.6666666666666666,\"#ed7953\"],[0.7777777777777778,\"#fb9f3a\"],[0.8888888888888888,\"#fdca26\"],[1.0,\"#f0f921\"]],\"type\":\"surface\"}],\"table\":[{\"cells\":{\"fill\":{\"color\":\"#EBF0F8\"},\"line\":{\"color\":\"white\"}},\"header\":{\"fill\":{\"color\":\"#C8D4E3\"},\"line\":{\"color\":\"white\"}},\"type\":\"table\"}]},\"layout\":{\"annotationdefaults\":{\"arrowcolor\":\"#2a3f5f\",\"arrowhead\":0,\"arrowwidth\":1},\"autotypenumbers\":\"strict\",\"coloraxis\":{\"colorbar\":{\"outlinewidth\":0,\"ticks\":\"\"}},\"colorscale\":{\"diverging\":[[0,\"#8e0152\"],[0.1,\"#c51b7d\"],[0.2,\"#de77ae\"],[0.3,\"#f1b6da\"],[0.4,\"#fde0ef\"],[0.5,\"#f7f7f7\"],[0.6,\"#e6f5d0\"],[0.7,\"#b8e186\"],[0.8,\"#7fbc41\"],[0.9,\"#4d9221\"],[1,\"#276419\"]],\"sequential\":[[0.0,\"#0d0887\"],[0.1111111111111111,\"#46039f\"],[0.2222222222222222,\"#7201a8\"],[0.3333333333333333,\"#9c179e\"],[0.4444444444444444,\"#bd3786\"],[0.5555555555555556,\"#d8576b\"],[0.6666666666666666,\"#ed7953\"],[0.7777777777777778,\"#fb9f3a\"],[0.8888888888888888,\"#fdca26\"],[1.0,\"#f0f921\"]],\"sequentialminus\":[[0.0,\"#0d0887\"],[0.1111111111111111,\"#46039f\"],[0.2222222222222222,\"#7201a8\"],[0.3333333333333333,\"#9c179e\"],[0.4444444444444444,\"#bd3786\"],[0.5555555555555556,\"#d8576b\"],[0.6666666666666666,\"#ed7953\"],[0.7777777777777778,\"#fb9f3a\"],[0.8888888888888888,\"#fdca26\"],[1.0,\"#f0f921\"]]},\"colorway\":[\"#636efa\",\"#EF553B\",\"#00cc96\",\"#ab63fa\",\"#FFA15A\",\"#19d3f3\",\"#FF6692\",\"#B6E880\",\"#FF97FF\",\"#FECB52\"],\"font\":{\"color\":\"#2a3f5f\"},\"geo\":{\"bgcolor\":\"white\",\"lakecolor\":\"white\",\"landcolor\":\"white\",\"showlakes\":true,\"showland\":true,\"subunitcolor\":\"#C8D4E3\"},\"hoverlabel\":{\"align\":\"left\"},\"hovermode\":\"closest\",\"mapbox\":{\"style\":\"light\"},\"paper_bgcolor\":\"white\",\"plot_bgcolor\":\"white\",\"polar\":{\"angularaxis\":{\"gridcolor\":\"#EBF0F8\",\"linecolor\":\"#EBF0F8\",\"ticks\":\"\"},\"bgcolor\":\"white\",\"radialaxis\":{\"gridcolor\":\"#EBF0F8\",\"linecolor\":\"#EBF0F8\",\"ticks\":\"\"}},\"scene\":{\"xaxis\":{\"backgroundcolor\":\"white\",\"gridcolor\":\"#DFE8F3\",\"gridwidth\":2,\"linecolor\":\"#EBF0F8\",\"showbackground\":true,\"ticks\":\"\",\"zerolinecolor\":\"#EBF0F8\"},\"yaxis\":{\"backgroundcolor\":\"white\",\"gridcolor\":\"#DFE8F3\",\"gridwidth\":2,\"linecolor\":\"#EBF0F8\",\"showbackground\":true,\"ticks\":\"\",\"zerolinecolor\":\"#EBF0F8\"},\"zaxis\":{\"backgroundcolor\":\"white\",\"gridcolor\":\"#DFE8F3\",\"gridwidth\":2,\"linecolor\":\"#EBF0F8\",\"showbackground\":true,\"ticks\":\"\",\"zerolinecolor\":\"#EBF0F8\"}},\"shapedefaults\":{\"line\":{\"color\":\"#2a3f5f\"}},\"ternary\":{\"aaxis\":{\"gridcolor\":\"#DFE8F3\",\"linecolor\":\"#A2B1C6\",\"ticks\":\"\"},\"baxis\":{\"gridcolor\":\"#DFE8F3\",\"linecolor\":\"#A2B1C6\",\"ticks\":\"\"},\"bgcolor\":\"white\",\"caxis\":{\"gridcolor\":\"#DFE8F3\",\"linecolor\":\"#A2B1C6\",\"ticks\":\"\"}},\"title\":{\"x\":0.05},\"xaxis\":{\"automargin\":true,\"gridcolor\":\"#EBF0F8\",\"linecolor\":\"#EBF0F8\",\"ticks\":\"\",\"title\":{\"standoff\":15},\"zerolinecolor\":\"#EBF0F8\",\"zerolinewidth\":2},\"yaxis\":{\"automargin\":true,\"gridcolor\":\"#EBF0F8\",\"linecolor\":\"#EBF0F8\",\"ticks\":\"\",\"title\":{\"standoff\":15},\"zerolinecolor\":\"#EBF0F8\",\"zerolinewidth\":2}}},\"font\":{\"size\":12},\"title\":{\"text\":\"Trends in Annual Rainfall in India (1901-2015)\"},\"xaxis\":{\"title\":{\"text\":\"Year\"}},\"yaxis\":{\"title\":{\"text\":\"Rainfall (mm)\"}},\"legend\":{\"title\":{\"text\":\"Legend\"}},\"height\":500,\"width\":800},                        {\"responsive\": true}                    ).then(function(){\n",
              "                            \n",
              "var gd = document.getElementById('e92dcdaa-497c-4aa5-9bb7-f930df7c6fa6');\n",
              "var x = new MutationObserver(function (mutations, observer) {{\n",
              "        var display = window.getComputedStyle(gd).display;\n",
              "        if (!display || display === 'none') {{\n",
              "            console.log([gd, 'removed!']);\n",
              "            Plotly.purge(gd);\n",
              "            observer.disconnect();\n",
              "        }}\n",
              "}});\n",
              "\n",
              "// Listen for the removal of the full notebook cells\n",
              "var notebookContainer = gd.closest('#notebook-container');\n",
              "if (notebookContainer) {{\n",
              "    x.observe(notebookContainer, {childList: true});\n",
              "}}\n",
              "\n",
              "// Listen for the clearing of the current output cell\n",
              "var outputEl = gd.closest('.output');\n",
              "if (outputEl) {{\n",
              "    x.observe(outputEl, {childList: true});\n",
              "}}\n",
              "\n",
              "                        })                };                            </script>        </div>\n",
              "</body>\n",
              "</html>"
            ]
          },
          "metadata": {}
        }
      ]
    },
    {
      "cell_type": "code",
      "source": [
        "#identify months with the highest and the lowest rainfall on average\n",
        "monthly_columns = ['JAN',   'FEB',   'MAR',   'APR',   'MAY',    'JUN',    'JUL',    'AUG',    'SEP',   'OCT',   'NOV',  'DEC']\n",
        "monthly_avg = rainfall_data[monthly_columns].mean()\n",
        "\n",
        "highest_rainfall_month = monthly_avg.idxmax()\n",
        "lowest_rainfall_month = monthly_avg.idxmin()\n",
        "print(f\"The month with the highest average rainfall is {highest_rainfall_month} with an average of {monthly_avg[highest_rainfall_month]:.2f} mm.\")\n",
        "print(f\"The month with the lowest average rainfall is {lowest_rainfall_month} with an average of {monthly_avg[lowest_rainfall_month]:.2f} mm.\")"
      ],
      "metadata": {
        "colab": {
          "base_uri": "https://localhost:8080/"
        },
        "id": "AeWaKG_M1qs8",
        "outputId": "acf829a8-7d5d-465d-f495-d6e797d4dda2"
      },
      "execution_count": null,
      "outputs": [
        {
          "output_type": "stream",
          "name": "stdout",
          "text": [
            "The month with the highest average rainfall is JUL with an average of 291.02 mm.\n",
            "The month with the lowest average rainfall is DEC with an average of 14.98 mm.\n"
          ]
        }
      ]
    },
    {
      "cell_type": "code",
      "source": [
        "#plotting the bar graph\n",
        "fig_monthly = px.bar(\n",
        "    x=monthly_avg.index,\n",
        "    y=monthly_avg.values,\n",
        "    labels={'x':'Month', 'y':'Average Rainfall (mm)'},\n",
        "    title='Average Monthly Rainfall in India (1901-2015)',\n",
        "    text = monthly_avg.values\n",
        ")\n",
        "fig_monthly.add_hline(\n",
        "    y=monthly_avg.mean(),\n",
        "    line_dash=\"dash\",\n",
        "    line_color=\"red\",\n",
        "    annotation_text=\"Mean Rainfall\",\n",
        "    annotation_position=\"top right\"\n",
        "    )\n",
        "fig_monthly.update_traces(marker_color='blue', marker_line_color='rgb(8,48,107)',\n",
        "                          marker_line_width=1.5, opacity=0.6)\n",
        "fig_monthly.update_layout(\n",
        "    template ='plotly_white',\n",
        "    height = 500)\n",
        "fig_monthly.show()"
      ],
      "metadata": {
        "colab": {
          "base_uri": "https://localhost:8080/",
          "height": 517
        },
        "id": "awesQjbamUQc",
        "outputId": "b73f5c26-3ebc-4009-8b36-6538c2b6ef8a"
      },
      "execution_count": null,
      "outputs": [
        {
          "output_type": "display_data",
          "data": {
            "text/html": [
              "<html>\n",
              "<head><meta charset=\"utf-8\" /></head>\n",
              "<body>\n",
              "    <div>            <script src=\"https://cdnjs.cloudflare.com/ajax/libs/mathjax/2.7.5/MathJax.js?config=TeX-AMS-MML_SVG\"></script><script type=\"text/javascript\">if (window.MathJax && window.MathJax.Hub && window.MathJax.Hub.Config) {window.MathJax.Hub.Config({SVG: {font: \"STIX-Web\"}});}</script>                <script type=\"text/javascript\">window.PlotlyConfig = {MathJaxConfig: 'local'};</script>\n",
              "        <script charset=\"utf-8\" src=\"https://cdn.plot.ly/plotly-2.35.2.min.js\"></script>                <div id=\"a7207f3d-9199-4922-babd-27495a921162\" class=\"plotly-graph-div\" style=\"height:500px; width:100%;\"></div>            <script type=\"text/javascript\">                                    window.PLOTLYENV=window.PLOTLYENV || {};                                    if (document.getElementById(\"a7207f3d-9199-4922-babd-27495a921162\")) {                    Plotly.newPlot(                        \"a7207f3d-9199-4922-babd-27495a921162\",                        [{\"alignmentgroup\":\"True\",\"hovertemplate\":\"Month=%{x}\\u003cbr\\u003eAverage Rainfall (mm)=%{y}\\u003cbr\\u003etext=%{text}\\u003cextra\\u003e\\u003c\\u002fextra\\u003e\",\"legendgroup\":\"\",\"marker\":{\"color\":\"blue\",\"pattern\":{\"shape\":\"\"},\"line\":{\"color\":\"rgb(8,48,107)\",\"width\":1.5}},\"name\":\"\",\"offsetgroup\":\"\",\"orientation\":\"v\",\"showlegend\":false,\"text\":[19.759130434782616,23.434782608695652,28.25478260869565,38.24173913043477,62.19391304347827,168.36,291.02260869565225,258.4008695652174,172.47304347826088,75.70173913043477,29.20521739130435,14.98],\"textposition\":\"auto\",\"x\":[\"JAN\",\"FEB\",\"MAR\",\"APR\",\"MAY\",\"JUN\",\"JUL\",\"AUG\",\"SEP\",\"OCT\",\"NOV\",\"DEC\"],\"xaxis\":\"x\",\"y\":[19.759130434782616,23.434782608695652,28.25478260869565,38.24173913043477,62.19391304347827,168.36,291.02260869565225,258.4008695652174,172.47304347826088,75.70173913043477,29.20521739130435,14.98],\"yaxis\":\"y\",\"type\":\"bar\",\"opacity\":0.6}],                        {\"template\":{\"data\":{\"barpolar\":[{\"marker\":{\"line\":{\"color\":\"white\",\"width\":0.5},\"pattern\":{\"fillmode\":\"overlay\",\"size\":10,\"solidity\":0.2}},\"type\":\"barpolar\"}],\"bar\":[{\"error_x\":{\"color\":\"#2a3f5f\"},\"error_y\":{\"color\":\"#2a3f5f\"},\"marker\":{\"line\":{\"color\":\"white\",\"width\":0.5},\"pattern\":{\"fillmode\":\"overlay\",\"size\":10,\"solidity\":0.2}},\"type\":\"bar\"}],\"carpet\":[{\"aaxis\":{\"endlinecolor\":\"#2a3f5f\",\"gridcolor\":\"#C8D4E3\",\"linecolor\":\"#C8D4E3\",\"minorgridcolor\":\"#C8D4E3\",\"startlinecolor\":\"#2a3f5f\"},\"baxis\":{\"endlinecolor\":\"#2a3f5f\",\"gridcolor\":\"#C8D4E3\",\"linecolor\":\"#C8D4E3\",\"minorgridcolor\":\"#C8D4E3\",\"startlinecolor\":\"#2a3f5f\"},\"type\":\"carpet\"}],\"choropleth\":[{\"colorbar\":{\"outlinewidth\":0,\"ticks\":\"\"},\"type\":\"choropleth\"}],\"contourcarpet\":[{\"colorbar\":{\"outlinewidth\":0,\"ticks\":\"\"},\"type\":\"contourcarpet\"}],\"contour\":[{\"colorbar\":{\"outlinewidth\":0,\"ticks\":\"\"},\"colorscale\":[[0.0,\"#0d0887\"],[0.1111111111111111,\"#46039f\"],[0.2222222222222222,\"#7201a8\"],[0.3333333333333333,\"#9c179e\"],[0.4444444444444444,\"#bd3786\"],[0.5555555555555556,\"#d8576b\"],[0.6666666666666666,\"#ed7953\"],[0.7777777777777778,\"#fb9f3a\"],[0.8888888888888888,\"#fdca26\"],[1.0,\"#f0f921\"]],\"type\":\"contour\"}],\"heatmapgl\":[{\"colorbar\":{\"outlinewidth\":0,\"ticks\":\"\"},\"colorscale\":[[0.0,\"#0d0887\"],[0.1111111111111111,\"#46039f\"],[0.2222222222222222,\"#7201a8\"],[0.3333333333333333,\"#9c179e\"],[0.4444444444444444,\"#bd3786\"],[0.5555555555555556,\"#d8576b\"],[0.6666666666666666,\"#ed7953\"],[0.7777777777777778,\"#fb9f3a\"],[0.8888888888888888,\"#fdca26\"],[1.0,\"#f0f921\"]],\"type\":\"heatmapgl\"}],\"heatmap\":[{\"colorbar\":{\"outlinewidth\":0,\"ticks\":\"\"},\"colorscale\":[[0.0,\"#0d0887\"],[0.1111111111111111,\"#46039f\"],[0.2222222222222222,\"#7201a8\"],[0.3333333333333333,\"#9c179e\"],[0.4444444444444444,\"#bd3786\"],[0.5555555555555556,\"#d8576b\"],[0.6666666666666666,\"#ed7953\"],[0.7777777777777778,\"#fb9f3a\"],[0.8888888888888888,\"#fdca26\"],[1.0,\"#f0f921\"]],\"type\":\"heatmap\"}],\"histogram2dcontour\":[{\"colorbar\":{\"outlinewidth\":0,\"ticks\":\"\"},\"colorscale\":[[0.0,\"#0d0887\"],[0.1111111111111111,\"#46039f\"],[0.2222222222222222,\"#7201a8\"],[0.3333333333333333,\"#9c179e\"],[0.4444444444444444,\"#bd3786\"],[0.5555555555555556,\"#d8576b\"],[0.6666666666666666,\"#ed7953\"],[0.7777777777777778,\"#fb9f3a\"],[0.8888888888888888,\"#fdca26\"],[1.0,\"#f0f921\"]],\"type\":\"histogram2dcontour\"}],\"histogram2d\":[{\"colorbar\":{\"outlinewidth\":0,\"ticks\":\"\"},\"colorscale\":[[0.0,\"#0d0887\"],[0.1111111111111111,\"#46039f\"],[0.2222222222222222,\"#7201a8\"],[0.3333333333333333,\"#9c179e\"],[0.4444444444444444,\"#bd3786\"],[0.5555555555555556,\"#d8576b\"],[0.6666666666666666,\"#ed7953\"],[0.7777777777777778,\"#fb9f3a\"],[0.8888888888888888,\"#fdca26\"],[1.0,\"#f0f921\"]],\"type\":\"histogram2d\"}],\"histogram\":[{\"marker\":{\"pattern\":{\"fillmode\":\"overlay\",\"size\":10,\"solidity\":0.2}},\"type\":\"histogram\"}],\"mesh3d\":[{\"colorbar\":{\"outlinewidth\":0,\"ticks\":\"\"},\"type\":\"mesh3d\"}],\"parcoords\":[{\"line\":{\"colorbar\":{\"outlinewidth\":0,\"ticks\":\"\"}},\"type\":\"parcoords\"}],\"pie\":[{\"automargin\":true,\"type\":\"pie\"}],\"scatter3d\":[{\"line\":{\"colorbar\":{\"outlinewidth\":0,\"ticks\":\"\"}},\"marker\":{\"colorbar\":{\"outlinewidth\":0,\"ticks\":\"\"}},\"type\":\"scatter3d\"}],\"scattercarpet\":[{\"marker\":{\"colorbar\":{\"outlinewidth\":0,\"ticks\":\"\"}},\"type\":\"scattercarpet\"}],\"scattergeo\":[{\"marker\":{\"colorbar\":{\"outlinewidth\":0,\"ticks\":\"\"}},\"type\":\"scattergeo\"}],\"scattergl\":[{\"marker\":{\"colorbar\":{\"outlinewidth\":0,\"ticks\":\"\"}},\"type\":\"scattergl\"}],\"scattermapbox\":[{\"marker\":{\"colorbar\":{\"outlinewidth\":0,\"ticks\":\"\"}},\"type\":\"scattermapbox\"}],\"scatterpolargl\":[{\"marker\":{\"colorbar\":{\"outlinewidth\":0,\"ticks\":\"\"}},\"type\":\"scatterpolargl\"}],\"scatterpolar\":[{\"marker\":{\"colorbar\":{\"outlinewidth\":0,\"ticks\":\"\"}},\"type\":\"scatterpolar\"}],\"scatter\":[{\"fillpattern\":{\"fillmode\":\"overlay\",\"size\":10,\"solidity\":0.2},\"type\":\"scatter\"}],\"scatterternary\":[{\"marker\":{\"colorbar\":{\"outlinewidth\":0,\"ticks\":\"\"}},\"type\":\"scatterternary\"}],\"surface\":[{\"colorbar\":{\"outlinewidth\":0,\"ticks\":\"\"},\"colorscale\":[[0.0,\"#0d0887\"],[0.1111111111111111,\"#46039f\"],[0.2222222222222222,\"#7201a8\"],[0.3333333333333333,\"#9c179e\"],[0.4444444444444444,\"#bd3786\"],[0.5555555555555556,\"#d8576b\"],[0.6666666666666666,\"#ed7953\"],[0.7777777777777778,\"#fb9f3a\"],[0.8888888888888888,\"#fdca26\"],[1.0,\"#f0f921\"]],\"type\":\"surface\"}],\"table\":[{\"cells\":{\"fill\":{\"color\":\"#EBF0F8\"},\"line\":{\"color\":\"white\"}},\"header\":{\"fill\":{\"color\":\"#C8D4E3\"},\"line\":{\"color\":\"white\"}},\"type\":\"table\"}]},\"layout\":{\"annotationdefaults\":{\"arrowcolor\":\"#2a3f5f\",\"arrowhead\":0,\"arrowwidth\":1},\"autotypenumbers\":\"strict\",\"coloraxis\":{\"colorbar\":{\"outlinewidth\":0,\"ticks\":\"\"}},\"colorscale\":{\"diverging\":[[0,\"#8e0152\"],[0.1,\"#c51b7d\"],[0.2,\"#de77ae\"],[0.3,\"#f1b6da\"],[0.4,\"#fde0ef\"],[0.5,\"#f7f7f7\"],[0.6,\"#e6f5d0\"],[0.7,\"#b8e186\"],[0.8,\"#7fbc41\"],[0.9,\"#4d9221\"],[1,\"#276419\"]],\"sequential\":[[0.0,\"#0d0887\"],[0.1111111111111111,\"#46039f\"],[0.2222222222222222,\"#7201a8\"],[0.3333333333333333,\"#9c179e\"],[0.4444444444444444,\"#bd3786\"],[0.5555555555555556,\"#d8576b\"],[0.6666666666666666,\"#ed7953\"],[0.7777777777777778,\"#fb9f3a\"],[0.8888888888888888,\"#fdca26\"],[1.0,\"#f0f921\"]],\"sequentialminus\":[[0.0,\"#0d0887\"],[0.1111111111111111,\"#46039f\"],[0.2222222222222222,\"#7201a8\"],[0.3333333333333333,\"#9c179e\"],[0.4444444444444444,\"#bd3786\"],[0.5555555555555556,\"#d8576b\"],[0.6666666666666666,\"#ed7953\"],[0.7777777777777778,\"#fb9f3a\"],[0.8888888888888888,\"#fdca26\"],[1.0,\"#f0f921\"]]},\"colorway\":[\"#636efa\",\"#EF553B\",\"#00cc96\",\"#ab63fa\",\"#FFA15A\",\"#19d3f3\",\"#FF6692\",\"#B6E880\",\"#FF97FF\",\"#FECB52\"],\"font\":{\"color\":\"#2a3f5f\"},\"geo\":{\"bgcolor\":\"white\",\"lakecolor\":\"white\",\"landcolor\":\"white\",\"showlakes\":true,\"showland\":true,\"subunitcolor\":\"#C8D4E3\"},\"hoverlabel\":{\"align\":\"left\"},\"hovermode\":\"closest\",\"mapbox\":{\"style\":\"light\"},\"paper_bgcolor\":\"white\",\"plot_bgcolor\":\"white\",\"polar\":{\"angularaxis\":{\"gridcolor\":\"#EBF0F8\",\"linecolor\":\"#EBF0F8\",\"ticks\":\"\"},\"bgcolor\":\"white\",\"radialaxis\":{\"gridcolor\":\"#EBF0F8\",\"linecolor\":\"#EBF0F8\",\"ticks\":\"\"}},\"scene\":{\"xaxis\":{\"backgroundcolor\":\"white\",\"gridcolor\":\"#DFE8F3\",\"gridwidth\":2,\"linecolor\":\"#EBF0F8\",\"showbackground\":true,\"ticks\":\"\",\"zerolinecolor\":\"#EBF0F8\"},\"yaxis\":{\"backgroundcolor\":\"white\",\"gridcolor\":\"#DFE8F3\",\"gridwidth\":2,\"linecolor\":\"#EBF0F8\",\"showbackground\":true,\"ticks\":\"\",\"zerolinecolor\":\"#EBF0F8\"},\"zaxis\":{\"backgroundcolor\":\"white\",\"gridcolor\":\"#DFE8F3\",\"gridwidth\":2,\"linecolor\":\"#EBF0F8\",\"showbackground\":true,\"ticks\":\"\",\"zerolinecolor\":\"#EBF0F8\"}},\"shapedefaults\":{\"line\":{\"color\":\"#2a3f5f\"}},\"ternary\":{\"aaxis\":{\"gridcolor\":\"#DFE8F3\",\"linecolor\":\"#A2B1C6\",\"ticks\":\"\"},\"baxis\":{\"gridcolor\":\"#DFE8F3\",\"linecolor\":\"#A2B1C6\",\"ticks\":\"\"},\"bgcolor\":\"white\",\"caxis\":{\"gridcolor\":\"#DFE8F3\",\"linecolor\":\"#A2B1C6\",\"ticks\":\"\"}},\"title\":{\"x\":0.05},\"xaxis\":{\"automargin\":true,\"gridcolor\":\"#EBF0F8\",\"linecolor\":\"#EBF0F8\",\"ticks\":\"\",\"title\":{\"standoff\":15},\"zerolinecolor\":\"#EBF0F8\",\"zerolinewidth\":2},\"yaxis\":{\"automargin\":true,\"gridcolor\":\"#EBF0F8\",\"linecolor\":\"#EBF0F8\",\"ticks\":\"\",\"title\":{\"standoff\":15},\"zerolinecolor\":\"#EBF0F8\",\"zerolinewidth\":2}}},\"xaxis\":{\"anchor\":\"y\",\"domain\":[0.0,1.0],\"title\":{\"text\":\"Month\"}},\"yaxis\":{\"anchor\":\"x\",\"domain\":[0.0,1.0],\"title\":{\"text\":\"Average Rainfall (mm)\"}},\"legend\":{\"tracegroupgap\":0},\"title\":{\"text\":\"Average Monthly Rainfall in India (1901-2015)\"},\"barmode\":\"relative\",\"shapes\":[{\"line\":{\"color\":\"red\",\"dash\":\"dash\"},\"type\":\"line\",\"x0\":0,\"x1\":1,\"xref\":\"x domain\",\"y0\":98.50231884057972,\"y1\":98.50231884057972,\"yref\":\"y\"}],\"annotations\":[{\"showarrow\":false,\"text\":\"Mean Rainfall\",\"x\":1,\"xanchor\":\"right\",\"xref\":\"x domain\",\"y\":98.50231884057972,\"yanchor\":\"bottom\",\"yref\":\"y\"}],\"height\":500},                        {\"responsive\": true}                    ).then(function(){\n",
              "                            \n",
              "var gd = document.getElementById('a7207f3d-9199-4922-babd-27495a921162');\n",
              "var x = new MutationObserver(function (mutations, observer) {{\n",
              "        var display = window.getComputedStyle(gd).display;\n",
              "        if (!display || display === 'none') {{\n",
              "            console.log([gd, 'removed!']);\n",
              "            Plotly.purge(gd);\n",
              "            observer.disconnect();\n",
              "        }}\n",
              "}});\n",
              "\n",
              "// Listen for the removal of the full notebook cells\n",
              "var notebookContainer = gd.closest('#notebook-container');\n",
              "if (notebookContainer) {{\n",
              "    x.observe(notebookContainer, {childList: true});\n",
              "}}\n",
              "\n",
              "// Listen for the clearing of the current output cell\n",
              "var outputEl = gd.closest('.output');\n",
              "if (outputEl) {{\n",
              "    x.observe(outputEl, {childList: true});\n",
              "}}\n",
              "\n",
              "                        })                };                            </script>        </div>\n",
              "</body>\n",
              "</html>"
            ]
          },
          "metadata": {}
        }
      ]
    },
    {
      "cell_type": "code",
      "source": [
        "total_avg = monthly_avg.mean()\n",
        "print(total_avg)"
      ],
      "metadata": {
        "colab": {
          "base_uri": "https://localhost:8080/"
        },
        "id": "DFZGfAF3mXmN",
        "outputId": "4ea33627-1449-4ac1-b2c2-fb99b9464ad2"
      },
      "execution_count": null,
      "outputs": [
        {
          "output_type": "stream",
          "name": "stdout",
          "text": [
            "98.50231884057972\n"
          ]
        }
      ]
    },
    {
      "cell_type": "code",
      "source": [
        "#seasonal rainfall distributation\n",
        "seasonal_columns = ['Jan-Feb', 'Mar-May', 'Jun-Sep', 'Oct-Dec']\n",
        "seasonal_avg = rainfall_data[seasonal_columns].mean()\n",
        "print(seasonal_avg)"
      ],
      "metadata": {
        "colab": {
          "base_uri": "https://localhost:8080/"
        },
        "id": "6BLkpM4zooF0",
        "outputId": "8f00fb0d-818e-4b98-b8a9-b62cff7c84da"
      },
      "execution_count": null,
      "outputs": [
        {
          "output_type": "stream",
          "name": "stdout",
          "text": [
            "Jan-Feb     43.189565\n",
            "Mar-May    128.694783\n",
            "Jun-Sep    890.260870\n",
            "Oct-Dec    119.882609\n",
            "dtype: float64\n"
          ]
        }
      ]
    },
    {
      "cell_type": "code",
      "source": [
        "#plotting the bar\n",
        "fig_seasonal = px.bar(\n",
        "    x=seasonal_avg.index,\n",
        "    y=seasonal_avg.values,\n",
        "    labels={'x':'Season', 'y':'Average Rainfall (mm)'},\n",
        "    title='Seasonal Rainfall Distributtion in India (1901-2015)',\n",
        "    text = seasonal_avg.values,\n",
        "    color = seasonal_avg.values,\n",
        "    color_continuous_scale = ['#6439FF','#AD49E1','#921A40','#E65C19']\n",
        ")\n",
        "fig_seasonal.update_traces(marker_line_color='black',\n",
        "                          marker_line_width=1.5, opacity=0.6)\n",
        "fig_seasonal.update_layout(\n",
        "    template ='plotly_white',\n",
        "    height = 500,\n",
        "    coloraxis_colorbar=dict(title='mm')\n",
        ")\n",
        "fig_seasonal.show()\n"
      ],
      "metadata": {
        "colab": {
          "base_uri": "https://localhost:8080/",
          "height": 517
        },
        "id": "B1HRzQGlpufo",
        "outputId": "d6e385f9-e00e-49aa-8fab-ee7b53b8431b"
      },
      "execution_count": null,
      "outputs": [
        {
          "output_type": "display_data",
          "data": {
            "text/html": [
              "<html>\n",
              "<head><meta charset=\"utf-8\" /></head>\n",
              "<body>\n",
              "    <div>            <script src=\"https://cdnjs.cloudflare.com/ajax/libs/mathjax/2.7.5/MathJax.js?config=TeX-AMS-MML_SVG\"></script><script type=\"text/javascript\">if (window.MathJax && window.MathJax.Hub && window.MathJax.Hub.Config) {window.MathJax.Hub.Config({SVG: {font: \"STIX-Web\"}});}</script>                <script type=\"text/javascript\">window.PlotlyConfig = {MathJaxConfig: 'local'};</script>\n",
              "        <script charset=\"utf-8\" src=\"https://cdn.plot.ly/plotly-2.35.2.min.js\"></script>                <div id=\"fc025de1-42cc-4f68-a21a-390393a19a8b\" class=\"plotly-graph-div\" style=\"height:500px; width:100%;\"></div>            <script type=\"text/javascript\">                                    window.PLOTLYENV=window.PLOTLYENV || {};                                    if (document.getElementById(\"fc025de1-42cc-4f68-a21a-390393a19a8b\")) {                    Plotly.newPlot(                        \"fc025de1-42cc-4f68-a21a-390393a19a8b\",                        [{\"alignmentgroup\":\"True\",\"hovertemplate\":\"Season=%{x}\\u003cbr\\u003eAverage Rainfall (mm)=%{y}\\u003cbr\\u003etext=%{text}\\u003cbr\\u003ecolor=%{marker.color}\\u003cextra\\u003e\\u003c\\u002fextra\\u003e\",\"legendgroup\":\"\",\"marker\":{\"color\":[43.18956521739129,128.69478260869565,890.2608695652175,119.88260869565218],\"coloraxis\":\"coloraxis\",\"pattern\":{\"shape\":\"\"},\"line\":{\"color\":\"black\",\"width\":1.5}},\"name\":\"\",\"offsetgroup\":\"\",\"orientation\":\"v\",\"showlegend\":false,\"text\":[43.18956521739129,128.69478260869565,890.2608695652175,119.88260869565218],\"textposition\":\"auto\",\"x\":[\"Jan-Feb\",\"Mar-May\",\"Jun-Sep\",\"Oct-Dec\"],\"xaxis\":\"x\",\"y\":[43.18956521739129,128.69478260869565,890.2608695652175,119.88260869565218],\"yaxis\":\"y\",\"type\":\"bar\",\"opacity\":0.6}],                        {\"template\":{\"data\":{\"barpolar\":[{\"marker\":{\"line\":{\"color\":\"white\",\"width\":0.5},\"pattern\":{\"fillmode\":\"overlay\",\"size\":10,\"solidity\":0.2}},\"type\":\"barpolar\"}],\"bar\":[{\"error_x\":{\"color\":\"#2a3f5f\"},\"error_y\":{\"color\":\"#2a3f5f\"},\"marker\":{\"line\":{\"color\":\"white\",\"width\":0.5},\"pattern\":{\"fillmode\":\"overlay\",\"size\":10,\"solidity\":0.2}},\"type\":\"bar\"}],\"carpet\":[{\"aaxis\":{\"endlinecolor\":\"#2a3f5f\",\"gridcolor\":\"#C8D4E3\",\"linecolor\":\"#C8D4E3\",\"minorgridcolor\":\"#C8D4E3\",\"startlinecolor\":\"#2a3f5f\"},\"baxis\":{\"endlinecolor\":\"#2a3f5f\",\"gridcolor\":\"#C8D4E3\",\"linecolor\":\"#C8D4E3\",\"minorgridcolor\":\"#C8D4E3\",\"startlinecolor\":\"#2a3f5f\"},\"type\":\"carpet\"}],\"choropleth\":[{\"colorbar\":{\"outlinewidth\":0,\"ticks\":\"\"},\"type\":\"choropleth\"}],\"contourcarpet\":[{\"colorbar\":{\"outlinewidth\":0,\"ticks\":\"\"},\"type\":\"contourcarpet\"}],\"contour\":[{\"colorbar\":{\"outlinewidth\":0,\"ticks\":\"\"},\"colorscale\":[[0.0,\"#0d0887\"],[0.1111111111111111,\"#46039f\"],[0.2222222222222222,\"#7201a8\"],[0.3333333333333333,\"#9c179e\"],[0.4444444444444444,\"#bd3786\"],[0.5555555555555556,\"#d8576b\"],[0.6666666666666666,\"#ed7953\"],[0.7777777777777778,\"#fb9f3a\"],[0.8888888888888888,\"#fdca26\"],[1.0,\"#f0f921\"]],\"type\":\"contour\"}],\"heatmapgl\":[{\"colorbar\":{\"outlinewidth\":0,\"ticks\":\"\"},\"colorscale\":[[0.0,\"#0d0887\"],[0.1111111111111111,\"#46039f\"],[0.2222222222222222,\"#7201a8\"],[0.3333333333333333,\"#9c179e\"],[0.4444444444444444,\"#bd3786\"],[0.5555555555555556,\"#d8576b\"],[0.6666666666666666,\"#ed7953\"],[0.7777777777777778,\"#fb9f3a\"],[0.8888888888888888,\"#fdca26\"],[1.0,\"#f0f921\"]],\"type\":\"heatmapgl\"}],\"heatmap\":[{\"colorbar\":{\"outlinewidth\":0,\"ticks\":\"\"},\"colorscale\":[[0.0,\"#0d0887\"],[0.1111111111111111,\"#46039f\"],[0.2222222222222222,\"#7201a8\"],[0.3333333333333333,\"#9c179e\"],[0.4444444444444444,\"#bd3786\"],[0.5555555555555556,\"#d8576b\"],[0.6666666666666666,\"#ed7953\"],[0.7777777777777778,\"#fb9f3a\"],[0.8888888888888888,\"#fdca26\"],[1.0,\"#f0f921\"]],\"type\":\"heatmap\"}],\"histogram2dcontour\":[{\"colorbar\":{\"outlinewidth\":0,\"ticks\":\"\"},\"colorscale\":[[0.0,\"#0d0887\"],[0.1111111111111111,\"#46039f\"],[0.2222222222222222,\"#7201a8\"],[0.3333333333333333,\"#9c179e\"],[0.4444444444444444,\"#bd3786\"],[0.5555555555555556,\"#d8576b\"],[0.6666666666666666,\"#ed7953\"],[0.7777777777777778,\"#fb9f3a\"],[0.8888888888888888,\"#fdca26\"],[1.0,\"#f0f921\"]],\"type\":\"histogram2dcontour\"}],\"histogram2d\":[{\"colorbar\":{\"outlinewidth\":0,\"ticks\":\"\"},\"colorscale\":[[0.0,\"#0d0887\"],[0.1111111111111111,\"#46039f\"],[0.2222222222222222,\"#7201a8\"],[0.3333333333333333,\"#9c179e\"],[0.4444444444444444,\"#bd3786\"],[0.5555555555555556,\"#d8576b\"],[0.6666666666666666,\"#ed7953\"],[0.7777777777777778,\"#fb9f3a\"],[0.8888888888888888,\"#fdca26\"],[1.0,\"#f0f921\"]],\"type\":\"histogram2d\"}],\"histogram\":[{\"marker\":{\"pattern\":{\"fillmode\":\"overlay\",\"size\":10,\"solidity\":0.2}},\"type\":\"histogram\"}],\"mesh3d\":[{\"colorbar\":{\"outlinewidth\":0,\"ticks\":\"\"},\"type\":\"mesh3d\"}],\"parcoords\":[{\"line\":{\"colorbar\":{\"outlinewidth\":0,\"ticks\":\"\"}},\"type\":\"parcoords\"}],\"pie\":[{\"automargin\":true,\"type\":\"pie\"}],\"scatter3d\":[{\"line\":{\"colorbar\":{\"outlinewidth\":0,\"ticks\":\"\"}},\"marker\":{\"colorbar\":{\"outlinewidth\":0,\"ticks\":\"\"}},\"type\":\"scatter3d\"}],\"scattercarpet\":[{\"marker\":{\"colorbar\":{\"outlinewidth\":0,\"ticks\":\"\"}},\"type\":\"scattercarpet\"}],\"scattergeo\":[{\"marker\":{\"colorbar\":{\"outlinewidth\":0,\"ticks\":\"\"}},\"type\":\"scattergeo\"}],\"scattergl\":[{\"marker\":{\"colorbar\":{\"outlinewidth\":0,\"ticks\":\"\"}},\"type\":\"scattergl\"}],\"scattermapbox\":[{\"marker\":{\"colorbar\":{\"outlinewidth\":0,\"ticks\":\"\"}},\"type\":\"scattermapbox\"}],\"scatterpolargl\":[{\"marker\":{\"colorbar\":{\"outlinewidth\":0,\"ticks\":\"\"}},\"type\":\"scatterpolargl\"}],\"scatterpolar\":[{\"marker\":{\"colorbar\":{\"outlinewidth\":0,\"ticks\":\"\"}},\"type\":\"scatterpolar\"}],\"scatter\":[{\"fillpattern\":{\"fillmode\":\"overlay\",\"size\":10,\"solidity\":0.2},\"type\":\"scatter\"}],\"scatterternary\":[{\"marker\":{\"colorbar\":{\"outlinewidth\":0,\"ticks\":\"\"}},\"type\":\"scatterternary\"}],\"surface\":[{\"colorbar\":{\"outlinewidth\":0,\"ticks\":\"\"},\"colorscale\":[[0.0,\"#0d0887\"],[0.1111111111111111,\"#46039f\"],[0.2222222222222222,\"#7201a8\"],[0.3333333333333333,\"#9c179e\"],[0.4444444444444444,\"#bd3786\"],[0.5555555555555556,\"#d8576b\"],[0.6666666666666666,\"#ed7953\"],[0.7777777777777778,\"#fb9f3a\"],[0.8888888888888888,\"#fdca26\"],[1.0,\"#f0f921\"]],\"type\":\"surface\"}],\"table\":[{\"cells\":{\"fill\":{\"color\":\"#EBF0F8\"},\"line\":{\"color\":\"white\"}},\"header\":{\"fill\":{\"color\":\"#C8D4E3\"},\"line\":{\"color\":\"white\"}},\"type\":\"table\"}]},\"layout\":{\"annotationdefaults\":{\"arrowcolor\":\"#2a3f5f\",\"arrowhead\":0,\"arrowwidth\":1},\"autotypenumbers\":\"strict\",\"coloraxis\":{\"colorbar\":{\"outlinewidth\":0,\"ticks\":\"\"}},\"colorscale\":{\"diverging\":[[0,\"#8e0152\"],[0.1,\"#c51b7d\"],[0.2,\"#de77ae\"],[0.3,\"#f1b6da\"],[0.4,\"#fde0ef\"],[0.5,\"#f7f7f7\"],[0.6,\"#e6f5d0\"],[0.7,\"#b8e186\"],[0.8,\"#7fbc41\"],[0.9,\"#4d9221\"],[1,\"#276419\"]],\"sequential\":[[0.0,\"#0d0887\"],[0.1111111111111111,\"#46039f\"],[0.2222222222222222,\"#7201a8\"],[0.3333333333333333,\"#9c179e\"],[0.4444444444444444,\"#bd3786\"],[0.5555555555555556,\"#d8576b\"],[0.6666666666666666,\"#ed7953\"],[0.7777777777777778,\"#fb9f3a\"],[0.8888888888888888,\"#fdca26\"],[1.0,\"#f0f921\"]],\"sequentialminus\":[[0.0,\"#0d0887\"],[0.1111111111111111,\"#46039f\"],[0.2222222222222222,\"#7201a8\"],[0.3333333333333333,\"#9c179e\"],[0.4444444444444444,\"#bd3786\"],[0.5555555555555556,\"#d8576b\"],[0.6666666666666666,\"#ed7953\"],[0.7777777777777778,\"#fb9f3a\"],[0.8888888888888888,\"#fdca26\"],[1.0,\"#f0f921\"]]},\"colorway\":[\"#636efa\",\"#EF553B\",\"#00cc96\",\"#ab63fa\",\"#FFA15A\",\"#19d3f3\",\"#FF6692\",\"#B6E880\",\"#FF97FF\",\"#FECB52\"],\"font\":{\"color\":\"#2a3f5f\"},\"geo\":{\"bgcolor\":\"white\",\"lakecolor\":\"white\",\"landcolor\":\"white\",\"showlakes\":true,\"showland\":true,\"subunitcolor\":\"#C8D4E3\"},\"hoverlabel\":{\"align\":\"left\"},\"hovermode\":\"closest\",\"mapbox\":{\"style\":\"light\"},\"paper_bgcolor\":\"white\",\"plot_bgcolor\":\"white\",\"polar\":{\"angularaxis\":{\"gridcolor\":\"#EBF0F8\",\"linecolor\":\"#EBF0F8\",\"ticks\":\"\"},\"bgcolor\":\"white\",\"radialaxis\":{\"gridcolor\":\"#EBF0F8\",\"linecolor\":\"#EBF0F8\",\"ticks\":\"\"}},\"scene\":{\"xaxis\":{\"backgroundcolor\":\"white\",\"gridcolor\":\"#DFE8F3\",\"gridwidth\":2,\"linecolor\":\"#EBF0F8\",\"showbackground\":true,\"ticks\":\"\",\"zerolinecolor\":\"#EBF0F8\"},\"yaxis\":{\"backgroundcolor\":\"white\",\"gridcolor\":\"#DFE8F3\",\"gridwidth\":2,\"linecolor\":\"#EBF0F8\",\"showbackground\":true,\"ticks\":\"\",\"zerolinecolor\":\"#EBF0F8\"},\"zaxis\":{\"backgroundcolor\":\"white\",\"gridcolor\":\"#DFE8F3\",\"gridwidth\":2,\"linecolor\":\"#EBF0F8\",\"showbackground\":true,\"ticks\":\"\",\"zerolinecolor\":\"#EBF0F8\"}},\"shapedefaults\":{\"line\":{\"color\":\"#2a3f5f\"}},\"ternary\":{\"aaxis\":{\"gridcolor\":\"#DFE8F3\",\"linecolor\":\"#A2B1C6\",\"ticks\":\"\"},\"baxis\":{\"gridcolor\":\"#DFE8F3\",\"linecolor\":\"#A2B1C6\",\"ticks\":\"\"},\"bgcolor\":\"white\",\"caxis\":{\"gridcolor\":\"#DFE8F3\",\"linecolor\":\"#A2B1C6\",\"ticks\":\"\"}},\"title\":{\"x\":0.05},\"xaxis\":{\"automargin\":true,\"gridcolor\":\"#EBF0F8\",\"linecolor\":\"#EBF0F8\",\"ticks\":\"\",\"title\":{\"standoff\":15},\"zerolinecolor\":\"#EBF0F8\",\"zerolinewidth\":2},\"yaxis\":{\"automargin\":true,\"gridcolor\":\"#EBF0F8\",\"linecolor\":\"#EBF0F8\",\"ticks\":\"\",\"title\":{\"standoff\":15},\"zerolinecolor\":\"#EBF0F8\",\"zerolinewidth\":2}}},\"xaxis\":{\"anchor\":\"y\",\"domain\":[0.0,1.0],\"title\":{\"text\":\"Season\"}},\"yaxis\":{\"anchor\":\"x\",\"domain\":[0.0,1.0],\"title\":{\"text\":\"Average Rainfall (mm)\"}},\"coloraxis\":{\"colorbar\":{\"title\":{\"text\":\"mm\"}},\"colorscale\":[[0.0,\"#6439FF\"],[0.3333333333333333,\"#AD49E1\"],[0.6666666666666666,\"#921A40\"],[1.0,\"#E65C19\"]]},\"legend\":{\"tracegroupgap\":0},\"title\":{\"text\":\"Seasonal Rainfall Distributtion in India (1901-2015)\"},\"barmode\":\"relative\",\"height\":500},                        {\"responsive\": true}                    ).then(function(){\n",
              "                            \n",
              "var gd = document.getElementById('fc025de1-42cc-4f68-a21a-390393a19a8b');\n",
              "var x = new MutationObserver(function (mutations, observer) {{\n",
              "        var display = window.getComputedStyle(gd).display;\n",
              "        if (!display || display === 'none') {{\n",
              "            console.log([gd, 'removed!']);\n",
              "            Plotly.purge(gd);\n",
              "            observer.disconnect();\n",
              "        }}\n",
              "}});\n",
              "\n",
              "// Listen for the removal of the full notebook cells\n",
              "var notebookContainer = gd.closest('#notebook-container');\n",
              "if (notebookContainer) {{\n",
              "    x.observe(notebookContainer, {childList: true});\n",
              "}}\n",
              "\n",
              "// Listen for the clearing of the current output cell\n",
              "var outputEl = gd.closest('.output');\n",
              "if (outputEl) {{\n",
              "    x.observe(outputEl, {childList: true});\n",
              "}}\n",
              "\n",
              "                        })                };                            </script>        </div>\n",
              "</body>\n",
              "</html>"
            ]
          },
          "metadata": {}
        }
      ]
    },
    {
      "cell_type": "markdown",
      "source": [
        "### Assessing the Impact of Climate Change in the Rainfall Trends in India"
      ],
      "metadata": {
        "id": "3FeDb3kpuvnF"
      }
    },
    {
      "cell_type": "code",
      "source": [
        "#calculating rolling averages to assess climate change impact"
      ],
      "metadata": {
        "id": "JxGeITLEqrxZ"
      },
      "execution_count": null,
      "outputs": []
    },
    {
      "cell_type": "code",
      "source": [
        "rainfall_data['10 year Rolling Avg'] = rainfall_data['ANNUAL'].rolling(window=10).mean()\n",
        "print(rainfall_data[['YEAR', '10 year Rolling Avg']].head(20))"
      ],
      "metadata": {
        "colab": {
          "base_uri": "https://localhost:8080/"
        },
        "id": "53LpIZ17p7lA",
        "outputId": "3aff2eba-704c-4054-fc47-493285becf0e"
      },
      "execution_count": null,
      "outputs": [
        {
          "output_type": "stream",
          "name": "stdout",
          "text": [
            "    YEAR  10 year Rolling Avg\n",
            "0   1901                  NaN\n",
            "1   1902                  NaN\n",
            "2   1903                  NaN\n",
            "3   1904                  NaN\n",
            "4   1905                  NaN\n",
            "5   1906                  NaN\n",
            "6   1907                  NaN\n",
            "7   1908                  NaN\n",
            "8   1909                  NaN\n",
            "9   1910              1088.69\n",
            "10  1911              1090.21\n",
            "11  1912              1095.00\n",
            "12  1913              1082.84\n",
            "13  1914              1102.29\n",
            "14  1915              1118.48\n",
            "15  1916              1137.78\n",
            "16  1917              1181.84\n",
            "17  1918              1174.80\n",
            "18  1919              1189.88\n",
            "19  1920              1174.64\n"
          ]
        }
      ]
    },
    {
      "cell_type": "code",
      "source": [
        "#plotting the graphs\n",
        "#plot the annual avg\n",
        "fig_climate_change = go.Figure()\n",
        "fig_climate_change.add_trace(go.Scatter(\n",
        "    x=rainfall_data['YEAR'],\n",
        "    y=rainfall_data['ANNUAL'],\n",
        "    mode='lines',\n",
        "    name='Annual Rainfall',\n",
        "    line= dict(color='blue', width=2),\n",
        "    opacity=0.8\n",
        "    ))\n",
        "#plot the rolling avg\n",
        "fig_climate_change.add_trace(go.Scatter(\n",
        "    x=rainfall_data['YEAR'],\n",
        "    y=rainfall_data['10 year Rolling Avg'],\n",
        "    mode='lines',\n",
        "    line= dict(color='red', width=2),\n",
        "    name='10 Year Rolling Average'\n",
        "    ))\n",
        "fig_climate_change.update_layout(\n",
        "    title='Impact of Climate Change on Rainfall in India (1901-2015)',\n",
        "    xaxis_title='Year',\n",
        "    yaxis_title='Rainfall (mm)',\n",
        "    font=dict(size=12),\n",
        "    template ='plotly_white',\n",
        "    legend=dict(title=\"Legend\"),\n",
        "    height = 500,\n",
        "    width = 800\n",
        "    )\n",
        "fig_climate_change.show()"
      ],
      "metadata": {
        "colab": {
          "base_uri": "https://localhost:8080/",
          "height": 537
        },
        "id": "7lVEVfGtzpU7",
        "outputId": "cff5bf94-ff5d-4c44-f605-7daccdd1e59d"
      },
      "execution_count": null,
      "outputs": [
        {
          "output_type": "display_data",
          "data": {
            "text/html": [
              "<html>\n",
              "<head><meta charset=\"utf-8\" /></head>\n",
              "<body>\n",
              "    <div>            <script src=\"https://cdnjs.cloudflare.com/ajax/libs/mathjax/2.7.5/MathJax.js?config=TeX-AMS-MML_SVG\"></script><script type=\"text/javascript\">if (window.MathJax && window.MathJax.Hub && window.MathJax.Hub.Config) {window.MathJax.Hub.Config({SVG: {font: \"STIX-Web\"}});}</script>                <script type=\"text/javascript\">window.PlotlyConfig = {MathJaxConfig: 'local'};</script>\n",
              "        <script charset=\"utf-8\" src=\"https://cdn.plot.ly/plotly-2.35.2.min.js\"></script>                <div id=\"23405b0b-ec93-402e-abdd-7fc5699a340b\" class=\"plotly-graph-div\" style=\"height:500px; width:800px;\"></div>            <script type=\"text/javascript\">                                    window.PLOTLYENV=window.PLOTLYENV || {};                                    if (document.getElementById(\"23405b0b-ec93-402e-abdd-7fc5699a340b\")) {                    Plotly.newPlot(                        \"23405b0b-ec93-402e-abdd-7fc5699a340b\",                        [{\"line\":{\"color\":\"blue\",\"width\":2},\"mode\":\"lines\",\"name\":\"Annual Rainfall\",\"opacity\":0.8,\"x\":[1901,1902,1903,1904,1905,1906,1907,1908,1909,1910,1911,1912,1913,1914,1915,1916,1917,1918,1919,1920,1921,1922,1923,1924,1925,1926,1927,1928,1929,1930,1931,1932,1933,1934,1935,1936,1937,1938,1939,1940,1941,1942,1943,1944,1945,1946,1947,1948,1949,1950,1951,1952,1953,1954,1955,1956,1957,1958,1959,1960,1961,1962,1963,1964,1965,1966,1967,1968,1969,1970,1971,1972,1973,1974,1975,1976,1977,1978,1979,1980,1981,1982,1983,1984,1985,1986,1987,1988,1989,1990,1991,1992,1993,1994,1995,1996,1997,1998,1999,2000,2001,2002,2003,2004,2005,2006,2007,2008,2009,2010,2011,2012,2013,2014,2015],\"y\":[1032.3,1030.2,1190.5,1019.8,975.3,1144.1,1039.7,1096.6,1158.1,1200.3,1047.5,1078.1,1068.9,1214.3,1137.2,1337.1,1480.3,1026.2,1308.9,1047.9,1240.2,1211.9,1176.3,1268.3,1210.4,1246.8,1262.6,1218.4,1208.5,1209.4,1314.6,1218.9,1393.5,1227.6,1143.4,1341.7,1218.1,1306.7,1125.9,1214.6,1080.9,1292.7,1282.1,1319.1,1225.8,1332.6,1236.6,1341.9,1272.4,1172.5,1061.3,1108.2,1222.9,1180.3,1298.3,1386.2,1178.2,1331.0,1382.1,1149.0,1403.0,1196.4,1210.2,1235.1,938.4,1064.0,1148.3,1054.2,1147.7,1247.0,1218.0,948.5,1214.0,1043.7,1290.2,1124.8,1270.4,1239.3,1023.4,1189.5,1171.6,1086.8,1331.5,1155.9,1140.0,1126.6,1078.9,1351.0,1122.4,1400.6,1159.9,1121.3,1201.9,1295.6,1243.6,1181.8,1171.4,1243.5,1132.0,1050.4,1083.3,920.8,1174.5,1071.3,1232.5,1199.4,1215.6,1132.1,959.3,1200.5,1110.1,1073.5,1216.2,1033.7,1093.2],\"type\":\"scatter\"},{\"line\":{\"color\":\"red\",\"width\":2},\"mode\":\"lines\",\"name\":\"10 Year Rolling Average\",\"x\":[1901,1902,1903,1904,1905,1906,1907,1908,1909,1910,1911,1912,1913,1914,1915,1916,1917,1918,1919,1920,1921,1922,1923,1924,1925,1926,1927,1928,1929,1930,1931,1932,1933,1934,1935,1936,1937,1938,1939,1940,1941,1942,1943,1944,1945,1946,1947,1948,1949,1950,1951,1952,1953,1954,1955,1956,1957,1958,1959,1960,1961,1962,1963,1964,1965,1966,1967,1968,1969,1970,1971,1972,1973,1974,1975,1976,1977,1978,1979,1980,1981,1982,1983,1984,1985,1986,1987,1988,1989,1990,1991,1992,1993,1994,1995,1996,1997,1998,1999,2000,2001,2002,2003,2004,2005,2006,2007,2008,2009,2010,2011,2012,2013,2014,2015],\"y\":[null,null,null,null,null,null,null,null,null,1088.69,1090.21,1095.0,1082.84,1102.29,1118.48,1137.7800000000002,1181.84,1174.8,1189.8799999999999,1174.6399999999999,1193.91,1207.29,1218.03,1223.43,1230.75,1221.72,1199.95,1219.17,1209.1299999999999,1225.2800000000002,1232.72,1233.42,1255.14,1251.0700000000002,1244.3700000000001,1253.8600000000001,1249.41,1258.2400000000002,1249.98,1250.5,1227.13,1234.51,1223.37,1232.52,1240.7599999999998,1239.85,1241.7,1245.2199999999998,1259.8700000000001,1255.6599999999999,1253.7,1235.25,1229.3300000000002,1215.45,1222.7,1228.06,1222.22,1221.13,1232.1,1229.75,1263.92,1272.74,1271.4699999999998,1276.95,1240.96,1208.74,1205.75,1178.07,1154.6299999999999,1164.4299999999998,1145.9299999999998,1121.1399999999999,1121.52,1102.3799999999999,1137.56,1143.64,1155.85,1174.3600000000001,1161.9299999999998,1156.1799999999998,1151.54,1165.37,1177.12,1188.3400000000001,1173.3200000000002,1173.5,1154.35,1165.52,1175.42,1196.5300000000002,1195.3600000000001,1198.81,1185.85,1199.82,1210.1799999999998,1215.7,1224.95,1214.2,1215.16,1180.1399999999999,1172.48,1152.43,1149.69,1127.26,1126.15,1127.91,1132.33,1121.19,1103.9199999999998,1118.9299999999998,1121.6100000000001,1136.8799999999999,1141.05,1137.29,1123.3600000000001],\"type\":\"scatter\"}],                        {\"template\":{\"data\":{\"barpolar\":[{\"marker\":{\"line\":{\"color\":\"white\",\"width\":0.5},\"pattern\":{\"fillmode\":\"overlay\",\"size\":10,\"solidity\":0.2}},\"type\":\"barpolar\"}],\"bar\":[{\"error_x\":{\"color\":\"#2a3f5f\"},\"error_y\":{\"color\":\"#2a3f5f\"},\"marker\":{\"line\":{\"color\":\"white\",\"width\":0.5},\"pattern\":{\"fillmode\":\"overlay\",\"size\":10,\"solidity\":0.2}},\"type\":\"bar\"}],\"carpet\":[{\"aaxis\":{\"endlinecolor\":\"#2a3f5f\",\"gridcolor\":\"#C8D4E3\",\"linecolor\":\"#C8D4E3\",\"minorgridcolor\":\"#C8D4E3\",\"startlinecolor\":\"#2a3f5f\"},\"baxis\":{\"endlinecolor\":\"#2a3f5f\",\"gridcolor\":\"#C8D4E3\",\"linecolor\":\"#C8D4E3\",\"minorgridcolor\":\"#C8D4E3\",\"startlinecolor\":\"#2a3f5f\"},\"type\":\"carpet\"}],\"choropleth\":[{\"colorbar\":{\"outlinewidth\":0,\"ticks\":\"\"},\"type\":\"choropleth\"}],\"contourcarpet\":[{\"colorbar\":{\"outlinewidth\":0,\"ticks\":\"\"},\"type\":\"contourcarpet\"}],\"contour\":[{\"colorbar\":{\"outlinewidth\":0,\"ticks\":\"\"},\"colorscale\":[[0.0,\"#0d0887\"],[0.1111111111111111,\"#46039f\"],[0.2222222222222222,\"#7201a8\"],[0.3333333333333333,\"#9c179e\"],[0.4444444444444444,\"#bd3786\"],[0.5555555555555556,\"#d8576b\"],[0.6666666666666666,\"#ed7953\"],[0.7777777777777778,\"#fb9f3a\"],[0.8888888888888888,\"#fdca26\"],[1.0,\"#f0f921\"]],\"type\":\"contour\"}],\"heatmapgl\":[{\"colorbar\":{\"outlinewidth\":0,\"ticks\":\"\"},\"colorscale\":[[0.0,\"#0d0887\"],[0.1111111111111111,\"#46039f\"],[0.2222222222222222,\"#7201a8\"],[0.3333333333333333,\"#9c179e\"],[0.4444444444444444,\"#bd3786\"],[0.5555555555555556,\"#d8576b\"],[0.6666666666666666,\"#ed7953\"],[0.7777777777777778,\"#fb9f3a\"],[0.8888888888888888,\"#fdca26\"],[1.0,\"#f0f921\"]],\"type\":\"heatmapgl\"}],\"heatmap\":[{\"colorbar\":{\"outlinewidth\":0,\"ticks\":\"\"},\"colorscale\":[[0.0,\"#0d0887\"],[0.1111111111111111,\"#46039f\"],[0.2222222222222222,\"#7201a8\"],[0.3333333333333333,\"#9c179e\"],[0.4444444444444444,\"#bd3786\"],[0.5555555555555556,\"#d8576b\"],[0.6666666666666666,\"#ed7953\"],[0.7777777777777778,\"#fb9f3a\"],[0.8888888888888888,\"#fdca26\"],[1.0,\"#f0f921\"]],\"type\":\"heatmap\"}],\"histogram2dcontour\":[{\"colorbar\":{\"outlinewidth\":0,\"ticks\":\"\"},\"colorscale\":[[0.0,\"#0d0887\"],[0.1111111111111111,\"#46039f\"],[0.2222222222222222,\"#7201a8\"],[0.3333333333333333,\"#9c179e\"],[0.4444444444444444,\"#bd3786\"],[0.5555555555555556,\"#d8576b\"],[0.6666666666666666,\"#ed7953\"],[0.7777777777777778,\"#fb9f3a\"],[0.8888888888888888,\"#fdca26\"],[1.0,\"#f0f921\"]],\"type\":\"histogram2dcontour\"}],\"histogram2d\":[{\"colorbar\":{\"outlinewidth\":0,\"ticks\":\"\"},\"colorscale\":[[0.0,\"#0d0887\"],[0.1111111111111111,\"#46039f\"],[0.2222222222222222,\"#7201a8\"],[0.3333333333333333,\"#9c179e\"],[0.4444444444444444,\"#bd3786\"],[0.5555555555555556,\"#d8576b\"],[0.6666666666666666,\"#ed7953\"],[0.7777777777777778,\"#fb9f3a\"],[0.8888888888888888,\"#fdca26\"],[1.0,\"#f0f921\"]],\"type\":\"histogram2d\"}],\"histogram\":[{\"marker\":{\"pattern\":{\"fillmode\":\"overlay\",\"size\":10,\"solidity\":0.2}},\"type\":\"histogram\"}],\"mesh3d\":[{\"colorbar\":{\"outlinewidth\":0,\"ticks\":\"\"},\"type\":\"mesh3d\"}],\"parcoords\":[{\"line\":{\"colorbar\":{\"outlinewidth\":0,\"ticks\":\"\"}},\"type\":\"parcoords\"}],\"pie\":[{\"automargin\":true,\"type\":\"pie\"}],\"scatter3d\":[{\"line\":{\"colorbar\":{\"outlinewidth\":0,\"ticks\":\"\"}},\"marker\":{\"colorbar\":{\"outlinewidth\":0,\"ticks\":\"\"}},\"type\":\"scatter3d\"}],\"scattercarpet\":[{\"marker\":{\"colorbar\":{\"outlinewidth\":0,\"ticks\":\"\"}},\"type\":\"scattercarpet\"}],\"scattergeo\":[{\"marker\":{\"colorbar\":{\"outlinewidth\":0,\"ticks\":\"\"}},\"type\":\"scattergeo\"}],\"scattergl\":[{\"marker\":{\"colorbar\":{\"outlinewidth\":0,\"ticks\":\"\"}},\"type\":\"scattergl\"}],\"scattermapbox\":[{\"marker\":{\"colorbar\":{\"outlinewidth\":0,\"ticks\":\"\"}},\"type\":\"scattermapbox\"}],\"scatterpolargl\":[{\"marker\":{\"colorbar\":{\"outlinewidth\":0,\"ticks\":\"\"}},\"type\":\"scatterpolargl\"}],\"scatterpolar\":[{\"marker\":{\"colorbar\":{\"outlinewidth\":0,\"ticks\":\"\"}},\"type\":\"scatterpolar\"}],\"scatter\":[{\"fillpattern\":{\"fillmode\":\"overlay\",\"size\":10,\"solidity\":0.2},\"type\":\"scatter\"}],\"scatterternary\":[{\"marker\":{\"colorbar\":{\"outlinewidth\":0,\"ticks\":\"\"}},\"type\":\"scatterternary\"}],\"surface\":[{\"colorbar\":{\"outlinewidth\":0,\"ticks\":\"\"},\"colorscale\":[[0.0,\"#0d0887\"],[0.1111111111111111,\"#46039f\"],[0.2222222222222222,\"#7201a8\"],[0.3333333333333333,\"#9c179e\"],[0.4444444444444444,\"#bd3786\"],[0.5555555555555556,\"#d8576b\"],[0.6666666666666666,\"#ed7953\"],[0.7777777777777778,\"#fb9f3a\"],[0.8888888888888888,\"#fdca26\"],[1.0,\"#f0f921\"]],\"type\":\"surface\"}],\"table\":[{\"cells\":{\"fill\":{\"color\":\"#EBF0F8\"},\"line\":{\"color\":\"white\"}},\"header\":{\"fill\":{\"color\":\"#C8D4E3\"},\"line\":{\"color\":\"white\"}},\"type\":\"table\"}]},\"layout\":{\"annotationdefaults\":{\"arrowcolor\":\"#2a3f5f\",\"arrowhead\":0,\"arrowwidth\":1},\"autotypenumbers\":\"strict\",\"coloraxis\":{\"colorbar\":{\"outlinewidth\":0,\"ticks\":\"\"}},\"colorscale\":{\"diverging\":[[0,\"#8e0152\"],[0.1,\"#c51b7d\"],[0.2,\"#de77ae\"],[0.3,\"#f1b6da\"],[0.4,\"#fde0ef\"],[0.5,\"#f7f7f7\"],[0.6,\"#e6f5d0\"],[0.7,\"#b8e186\"],[0.8,\"#7fbc41\"],[0.9,\"#4d9221\"],[1,\"#276419\"]],\"sequential\":[[0.0,\"#0d0887\"],[0.1111111111111111,\"#46039f\"],[0.2222222222222222,\"#7201a8\"],[0.3333333333333333,\"#9c179e\"],[0.4444444444444444,\"#bd3786\"],[0.5555555555555556,\"#d8576b\"],[0.6666666666666666,\"#ed7953\"],[0.7777777777777778,\"#fb9f3a\"],[0.8888888888888888,\"#fdca26\"],[1.0,\"#f0f921\"]],\"sequentialminus\":[[0.0,\"#0d0887\"],[0.1111111111111111,\"#46039f\"],[0.2222222222222222,\"#7201a8\"],[0.3333333333333333,\"#9c179e\"],[0.4444444444444444,\"#bd3786\"],[0.5555555555555556,\"#d8576b\"],[0.6666666666666666,\"#ed7953\"],[0.7777777777777778,\"#fb9f3a\"],[0.8888888888888888,\"#fdca26\"],[1.0,\"#f0f921\"]]},\"colorway\":[\"#636efa\",\"#EF553B\",\"#00cc96\",\"#ab63fa\",\"#FFA15A\",\"#19d3f3\",\"#FF6692\",\"#B6E880\",\"#FF97FF\",\"#FECB52\"],\"font\":{\"color\":\"#2a3f5f\"},\"geo\":{\"bgcolor\":\"white\",\"lakecolor\":\"white\",\"landcolor\":\"white\",\"showlakes\":true,\"showland\":true,\"subunitcolor\":\"#C8D4E3\"},\"hoverlabel\":{\"align\":\"left\"},\"hovermode\":\"closest\",\"mapbox\":{\"style\":\"light\"},\"paper_bgcolor\":\"white\",\"plot_bgcolor\":\"white\",\"polar\":{\"angularaxis\":{\"gridcolor\":\"#EBF0F8\",\"linecolor\":\"#EBF0F8\",\"ticks\":\"\"},\"bgcolor\":\"white\",\"radialaxis\":{\"gridcolor\":\"#EBF0F8\",\"linecolor\":\"#EBF0F8\",\"ticks\":\"\"}},\"scene\":{\"xaxis\":{\"backgroundcolor\":\"white\",\"gridcolor\":\"#DFE8F3\",\"gridwidth\":2,\"linecolor\":\"#EBF0F8\",\"showbackground\":true,\"ticks\":\"\",\"zerolinecolor\":\"#EBF0F8\"},\"yaxis\":{\"backgroundcolor\":\"white\",\"gridcolor\":\"#DFE8F3\",\"gridwidth\":2,\"linecolor\":\"#EBF0F8\",\"showbackground\":true,\"ticks\":\"\",\"zerolinecolor\":\"#EBF0F8\"},\"zaxis\":{\"backgroundcolor\":\"white\",\"gridcolor\":\"#DFE8F3\",\"gridwidth\":2,\"linecolor\":\"#EBF0F8\",\"showbackground\":true,\"ticks\":\"\",\"zerolinecolor\":\"#EBF0F8\"}},\"shapedefaults\":{\"line\":{\"color\":\"#2a3f5f\"}},\"ternary\":{\"aaxis\":{\"gridcolor\":\"#DFE8F3\",\"linecolor\":\"#A2B1C6\",\"ticks\":\"\"},\"baxis\":{\"gridcolor\":\"#DFE8F3\",\"linecolor\":\"#A2B1C6\",\"ticks\":\"\"},\"bgcolor\":\"white\",\"caxis\":{\"gridcolor\":\"#DFE8F3\",\"linecolor\":\"#A2B1C6\",\"ticks\":\"\"}},\"title\":{\"x\":0.05},\"xaxis\":{\"automargin\":true,\"gridcolor\":\"#EBF0F8\",\"linecolor\":\"#EBF0F8\",\"ticks\":\"\",\"title\":{\"standoff\":15},\"zerolinecolor\":\"#EBF0F8\",\"zerolinewidth\":2},\"yaxis\":{\"automargin\":true,\"gridcolor\":\"#EBF0F8\",\"linecolor\":\"#EBF0F8\",\"ticks\":\"\",\"title\":{\"standoff\":15},\"zerolinecolor\":\"#EBF0F8\",\"zerolinewidth\":2}}},\"font\":{\"size\":12},\"title\":{\"text\":\"Impact of Climate Change on Rainfall in India (1901-2015)\"},\"xaxis\":{\"title\":{\"text\":\"Year\"}},\"yaxis\":{\"title\":{\"text\":\"Rainfall (mm)\"}},\"legend\":{\"title\":{\"text\":\"Legend\"}},\"height\":500,\"width\":800},                        {\"responsive\": true}                    ).then(function(){\n",
              "                            \n",
              "var gd = document.getElementById('23405b0b-ec93-402e-abdd-7fc5699a340b');\n",
              "var x = new MutationObserver(function (mutations, observer) {{\n",
              "        var display = window.getComputedStyle(gd).display;\n",
              "        if (!display || display === 'none') {{\n",
              "            console.log([gd, 'removed!']);\n",
              "            Plotly.purge(gd);\n",
              "            observer.disconnect();\n",
              "        }}\n",
              "}});\n",
              "\n",
              "// Listen for the removal of the full notebook cells\n",
              "var notebookContainer = gd.closest('#notebook-container');\n",
              "if (notebookContainer) {{\n",
              "    x.observe(notebookContainer, {childList: true});\n",
              "}}\n",
              "\n",
              "// Listen for the clearing of the current output cell\n",
              "var outputEl = gd.closest('.output');\n",
              "if (outputEl) {{\n",
              "    x.observe(outputEl, {childList: true});\n",
              "}}\n",
              "\n",
              "                        })                };                            </script>        </div>\n",
              "</body>\n",
              "</html>"
            ]
          },
          "metadata": {}
        }
      ]
    },
    {
      "cell_type": "markdown",
      "source": [
        "using statistical thresholds (1.5 standard deviations below or above the mean), let’s identify years with extreme or deficient rainfall.\n"
      ],
      "metadata": {
        "id": "iaf-_CkY1TbW"
      }
    },
    {
      "cell_type": "code",
      "source": [
        "#finding the drought and extreme rainfall using statical test\n",
        "from scipy.stats import pearsonr"
      ],
      "metadata": {
        "id": "ffgetY_J1g8S"
      },
      "execution_count": 9,
      "outputs": []
    },
    {
      "cell_type": "code",
      "source": [
        "#identifying drought and extreme rainfall years\n",
        "mean_rainfall = rainfall_data['ANNUAL'].mean()\n",
        "std_rainfall = rainfall_data['ANNUAL'].std()\n",
        "\n",
        "#getting the years in the list which have drought and extreme rainfall\n",
        "dought_years = rainfall_data[rainfall_data['ANNUAL']< (mean_rainfall - 1.5*std_rainfall)]\n",
        "extreme_years = rainfall_data[rainfall_data['ANNUAL'] > (mean_rainfall + 1.5*std_rainfall)]\n",
        "# print(\"Years with drought:\", dought_years['YEAR'].tolist())\n",
        "# print(\"Years with extreme rainfall:\", extreme_years['YEAR'].tolist())\n"
      ],
      "metadata": {
        "colab": {
          "base_uri": "https://localhost:8080/"
        },
        "id": "-bcQHLoLEuQM",
        "outputId": "81104bf9-e0b3-4eff-ddce-ca27402139e0"
      },
      "execution_count": null,
      "outputs": [
        {
          "output_type": "stream",
          "name": "stdout",
          "text": [
            "Years with drought: [1905, 1965, 1972, 2002, 2009]\n",
            "Years with extreme rainfall: [1917, 1933, 1956, 1959, 1961, 1988, 1990]\n"
          ]
        }
      ]
    },
    {
      "cell_type": "code",
      "source": [
        "#correlation seasonal rainfall with annual rainfall totals\n",
        "seasonal_columns = ['Jan-Feb', 'Mar-May', 'Jun-Sep', 'Oct-Dec']\n",
        "annual_rainfall = rainfall_data['ANNUAL']\n",
        "# seasonal_rainfall = rainfall_data[seasonal_columns]\n",
        "# correlation_matrix = seasonal_rainfall.corrwith(annual_rainfall)\n",
        "# print(correlation_matrix)\n",
        "seasonal_correlation = {\n",
        "    season: pearsonr(rainfall_data[season], annual_rainfall)[0]\n",
        "    for season in seasonal_columns\n",
        "}"
      ],
      "metadata": {
        "id": "k0IC3oUEH1Ke"
      },
      "execution_count": 10,
      "outputs": []
    },
    {
      "cell_type": "code",
      "source": [
        "#displaying\n",
        "dought_years_summary = dought_years[['YEAR', 'ANNUAL']].reset_index(drop=True)\n",
        "extreme_years_summary = extreme_years[['YEAR', 'ANNUAL']].reset_index(drop=True)\n",
        "print(\"Years with drought:\")\n",
        "print(dought_years_summary)\n",
        "print(\"Years with extreme rainfall:\")\n",
        "print(extreme_years_summary)\n",
        "\n",
        "seasonal_correlation_summary = pd.Series(seasonal_correlation).reset_index()\n",
        "seasonal_correlation_summary.columns = ['Season', 'Correlation']\n",
        "print(\"Correlation between Seasonal Rainfall and Annual Rainfall:\")\n",
        "print(seasonal_correlation_summary)"
      ],
      "metadata": {
        "colab": {
          "base_uri": "https://localhost:8080/"
        },
        "id": "wEbF0YyRJD2B",
        "outputId": "bc136378-0061-4781-bf0d-64bfaa438a0c"
      },
      "execution_count": null,
      "outputs": [
        {
          "output_type": "stream",
          "name": "stdout",
          "text": [
            "Years with drought:\n",
            "   YEAR  ANNUAL\n",
            "0  1905   975.3\n",
            "1  1965   938.4\n",
            "2  1972   948.5\n",
            "3  2002   920.8\n",
            "4  2009   959.3\n",
            "Years with extreme rainfall:\n",
            "   YEAR  ANNUAL\n",
            "0  1917  1480.3\n",
            "1  1933  1393.5\n",
            "2  1956  1386.2\n",
            "3  1959  1382.1\n",
            "4  1961  1403.0\n",
            "5  1988  1351.0\n",
            "6  1990  1400.6\n",
            "Correlation between Seasonal Rainfall and Annual Rainfall:\n",
            "    Season  Correlation\n",
            "0  Jan-Feb     0.228913\n",
            "1  Mar-May     0.313057\n",
            "2  Jun-Sep     0.930027\n",
            "3  Oct-Dec     0.531648\n"
          ]
        }
      ]
    },
    {
      "cell_type": "code",
      "source": [],
      "metadata": {
        "id": "EgwAIHNW0d9F"
      },
      "execution_count": null,
      "outputs": []
    },
    {
      "cell_type": "markdown",
      "source": [
        "## Detecting Anomalies in the Rainfall Trends in India"
      ],
      "metadata": {
        "id": "Ii1iCzbs0hsF"
      }
    },
    {
      "cell_type": "code",
      "source": [
        "#using Isolation forest algorithms to identify anomalies\n",
        "from sklearn.ensemble import IsolationForest"
      ],
      "metadata": {
        "id": "4_bSrOYd0nUA"
      },
      "execution_count": 7,
      "outputs": []
    },
    {
      "cell_type": "code",
      "source": [
        "#detect anomlous rainfall years based on annual data\n",
        "isolation_forest = IsolationForest(contamination=0.05, random_state=42)\n",
        "rainfall_data['Annual_Anomaly'] = isolation_forest.fit_predict(rainfall_data[['ANNUAL']])\n",
        "\n",
        "#identify anomalies in annual rainfall\n",
        "annual_anomalies = rainfall_data[rainfall_data['Annual_Anomaly'] == -1].reset_index()\n",
        "print(annual_anomalies)\n",
        "print(\"Years with anomalies in annual rainfall:\")\n",
        "print(annual_anomalies[['YEAR', 'ANNUAL']])"
      ],
      "metadata": {
        "colab": {
          "base_uri": "https://localhost:8080/"
        },
        "id": "n0Nhhyq803IS",
        "outputId": "9954a8d0-1dad-47ed-bcf8-e679776e1dcb"
      },
      "execution_count": 8,
      "outputs": [
        {
          "output_type": "stream",
          "name": "stdout",
          "text": [
            "   index REGION  YEAR   JAN   FEB   MAR   APR   MAY    JUN    JUL  ...    SEP  \\\n",
            "0      4  INDIA  1905  25.3  20.9  42.7  33.7  55.7   93.3  252.8  ...  178.4   \n",
            "1     16  INDIA  1917   8.7  38.7  22.8  43.2  75.0  231.8  285.2  ...  281.0   \n",
            "2     64  INDIA  1965  10.9  26.0  26.4  43.6  51.2  115.8  269.2  ...  131.1   \n",
            "3     71  INDIA  1972   9.7  27.1  21.0  36.9  55.6  123.0  205.5  ...  129.1   \n",
            "4    101  INDIA  2002  16.8  21.0  22.9  38.9  57.7  170.1  138.9  ...  133.9   \n",
            "5    108  INDIA  2009  11.8  13.2  15.2  26.0  56.6   86.5  283.7  ...  140.3   \n",
            "\n",
            "     OCT   NOV   DEC  ANNUAL  Jan-Feb  Mar-May  Jun-Sep  Oct-Dec  \\\n",
            "0   51.4   9.7  10.5   975.3     46.2    132.2    725.4     71.6   \n",
            "1  158.8  28.2  10.3  1480.3     47.3    141.1   1094.5    197.3   \n",
            "2   33.5  17.4  21.1   938.4     36.9    121.2    708.4     72.0   \n",
            "3   66.0  30.3  22.3   948.5     36.8    113.6    679.5    118.6   \n",
            "4   54.4  14.7   5.2   920.8     37.8    119.5    689.2     74.3   \n",
            "5   70.1  53.2  10.8   959.3     25.0     97.8    702.4    134.1   \n",
            "\n",
            "   Annual_Anomaly  \n",
            "0              -1  \n",
            "1              -1  \n",
            "2              -1  \n",
            "3              -1  \n",
            "4              -1  \n",
            "5              -1  \n",
            "\n",
            "[6 rows x 21 columns]\n",
            "Years with anomalies in annual rainfall:\n",
            "   YEAR  ANNUAL\n",
            "0  1905   975.3\n",
            "1  1917  1480.3\n",
            "2  1965   938.4\n",
            "3  1972   948.5\n",
            "4  2002   920.8\n",
            "5  2009   959.3\n"
          ]
        }
      ]
    },
    {
      "cell_type": "code",
      "source": [
        "#detect anomalous months based on monthly data\n",
        "monthly_data = ['JAN',   'FEB',   'MAR',   'APR',   'MAY',    'JUN',    'JUL',    'AUG',    'SEP',   'OCT',   'NOV',  'DEC']\n",
        "monthly_anomalies = isolation_forest.fit_predict(rainfall_data[monthly_data])\n",
        "#add anomaly detection results for months\n",
        "rainfall_data['Monthly_Anomaly'] = monthly_anomalies\n",
        "monthly_anomalies_df = rainfall_data[rainfall_data['Monthly_Anomaly'] == -1][['YEAR'] + monthly_columns]\n",
        "\n",
        "print(monthly_anomalies_df)\n",
        "\n"
      ],
      "metadata": {
        "colab": {
          "base_uri": "https://localhost:8080/"
        },
        "id": "-fTTGKlpTsxE",
        "outputId": "9cf71d55-cbb8-4d6d-9d11-60b8430aaa49"
      },
      "execution_count": null,
      "outputs": [
        {
          "output_type": "stream",
          "name": "stdout",
          "text": [
            "    YEAR   JAN   FEB   MAR   APR    MAY    JUN    JUL    AUG    SEP    OCT  \\\n",
            "6   1907  16.2  46.0  37.8  62.8   32.6  154.4  225.4  310.4   96.9   22.7   \n",
            "10  1911  45.7   5.6  49.9  22.8   47.6  191.9  162.7  213.5  182.3   70.6   \n",
            "16  1917   8.7  38.7  22.8  43.2   75.0  231.8  285.2  296.5  281.0  158.8   \n",
            "17  1918  12.2   4.4  41.6  38.8  102.8  212.6  183.8  242.7  109.7   20.0   \n",
            "66  1967  11.2  13.4  63.3  29.1   42.4  144.9  304.6  262.9  170.4   40.3   \n",
            "89  1990  14.9  44.3  53.3  42.0  114.5  194.0  286.7  293.2  196.6  103.2   \n",
            "\n",
            "     NOV   DEC  \n",
            "6   22.5  12.1  \n",
            "10  42.8  12.0  \n",
            "16  28.2  10.3  \n",
            "17  41.1  16.4  \n",
            "66  11.4  54.4  \n",
            "89  29.5  28.4  \n"
          ]
        }
      ]
    },
    {
      "cell_type": "code",
      "source": [
        "#plotting the anomalies\n",
        "fig_annual_anomalies = go.Figure()\n",
        "\n",
        "fig_annual_anomalies.add_trace(go.Scatter(\n",
        "    x=rainfall_data['YEAR'],\n",
        "    y=rainfall_data['ANNUAL'],\n",
        "    mode='lines',\n",
        "    name='Annual Rainfall',\n",
        "    line=dict(color='blue', width=2),\n",
        "    opacity=0.8\n",
        "    ))\n",
        "fig_annual_anomalies.add_trace(go.Scatter(\n",
        "    x=annual_anomalies['YEAR'],\n",
        "    y=annual_anomalies['ANNUAL'],\n",
        "    mode='markers',\n",
        "    name='Anomalies',\n",
        "    marker=dict(color='red', size=10, symbol='x')\n",
        "))\n",
        "fig_annual_anomalies.add_hline(\n",
        "    y=rainfall_data['ANNUAL'].mean(),\n",
        "    line_dash=\"dash\",\n",
        "    line_color=\"green\",\n",
        "    annotation_text=\"Mean Rainfall\",\n",
        "    annotation_position=\"top right\"\n",
        "    )\n",
        "fig_annual_anomalies.update_layout(\n",
        "    title='Annual Rainfall Anomalies in India (1901-2015)',\n",
        "    xaxis_title='Year',\n",
        "    yaxis_title='Rainfall (mm)',\n",
        "    template='plotly_white',\n",
        "    legend=dict(title=\"Legend\"),\n",
        "    height=500,\n",
        "    width=800\n",
        ")\n",
        "fig_annual_anomalies.show()\n"
      ],
      "metadata": {
        "colab": {
          "base_uri": "https://localhost:8080/",
          "height": 517
        },
        "id": "dDz1kLpc5MKV",
        "outputId": "edf8a8f5-3e40-40a7-d10b-3abc07380e65"
      },
      "execution_count": null,
      "outputs": [
        {
          "output_type": "display_data",
          "data": {
            "text/html": [
              "<html>\n",
              "<head><meta charset=\"utf-8\" /></head>\n",
              "<body>\n",
              "    <div>            <script src=\"https://cdnjs.cloudflare.com/ajax/libs/mathjax/2.7.5/MathJax.js?config=TeX-AMS-MML_SVG\"></script><script type=\"text/javascript\">if (window.MathJax && window.MathJax.Hub && window.MathJax.Hub.Config) {window.MathJax.Hub.Config({SVG: {font: \"STIX-Web\"}});}</script>                <script type=\"text/javascript\">window.PlotlyConfig = {MathJaxConfig: 'local'};</script>\n",
              "        <script charset=\"utf-8\" src=\"https://cdn.plot.ly/plotly-2.35.2.min.js\"></script>                <div id=\"f935d1f2-ee47-4d6c-a965-7dc12cd95358\" class=\"plotly-graph-div\" style=\"height:500px; width:800px;\"></div>            <script type=\"text/javascript\">                                    window.PLOTLYENV=window.PLOTLYENV || {};                                    if (document.getElementById(\"f935d1f2-ee47-4d6c-a965-7dc12cd95358\")) {                    Plotly.newPlot(                        \"f935d1f2-ee47-4d6c-a965-7dc12cd95358\",                        [{\"line\":{\"color\":\"blue\",\"width\":2},\"mode\":\"lines\",\"name\":\"Annual Rainfall\",\"opacity\":0.8,\"x\":[1901,1902,1903,1904,1905,1906,1907,1908,1909,1910,1911,1912,1913,1914,1915,1916,1917,1918,1919,1920,1921,1922,1923,1924,1925,1926,1927,1928,1929,1930,1931,1932,1933,1934,1935,1936,1937,1938,1939,1940,1941,1942,1943,1944,1945,1946,1947,1948,1949,1950,1951,1952,1953,1954,1955,1956,1957,1958,1959,1960,1961,1962,1963,1964,1965,1966,1967,1968,1969,1970,1971,1972,1973,1974,1975,1976,1977,1978,1979,1980,1981,1982,1983,1984,1985,1986,1987,1988,1989,1990,1991,1992,1993,1994,1995,1996,1997,1998,1999,2000,2001,2002,2003,2004,2005,2006,2007,2008,2009,2010,2011,2012,2013,2014,2015],\"y\":[1032.3,1030.2,1190.5,1019.8,975.3,1144.1,1039.7,1096.6,1158.1,1200.3,1047.5,1078.1,1068.9,1214.3,1137.2,1337.1,1480.3,1026.2,1308.9,1047.9,1240.2,1211.9,1176.3,1268.3,1210.4,1246.8,1262.6,1218.4,1208.5,1209.4,1314.6,1218.9,1393.5,1227.6,1143.4,1341.7,1218.1,1306.7,1125.9,1214.6,1080.9,1292.7,1282.1,1319.1,1225.8,1332.6,1236.6,1341.9,1272.4,1172.5,1061.3,1108.2,1222.9,1180.3,1298.3,1386.2,1178.2,1331.0,1382.1,1149.0,1403.0,1196.4,1210.2,1235.1,938.4,1064.0,1148.3,1054.2,1147.7,1247.0,1218.0,948.5,1214.0,1043.7,1290.2,1124.8,1270.4,1239.3,1023.4,1189.5,1171.6,1086.8,1331.5,1155.9,1140.0,1126.6,1078.9,1351.0,1122.4,1400.6,1159.9,1121.3,1201.9,1295.6,1243.6,1181.8,1171.4,1243.5,1132.0,1050.4,1083.3,920.8,1174.5,1071.3,1232.5,1199.4,1215.6,1132.1,959.3,1200.5,1110.1,1073.5,1216.2,1033.7,1093.2],\"type\":\"scatter\"},{\"marker\":{\"color\":\"red\",\"size\":10,\"symbol\":\"x\"},\"mode\":\"markers\",\"name\":\"Anomalies\",\"x\":[1905,1917,1965,1972,2002,2009],\"y\":[975.3,1480.3,938.4,948.5,920.8,959.3],\"type\":\"scatter\"}],                        {\"template\":{\"data\":{\"barpolar\":[{\"marker\":{\"line\":{\"color\":\"white\",\"width\":0.5},\"pattern\":{\"fillmode\":\"overlay\",\"size\":10,\"solidity\":0.2}},\"type\":\"barpolar\"}],\"bar\":[{\"error_x\":{\"color\":\"#2a3f5f\"},\"error_y\":{\"color\":\"#2a3f5f\"},\"marker\":{\"line\":{\"color\":\"white\",\"width\":0.5},\"pattern\":{\"fillmode\":\"overlay\",\"size\":10,\"solidity\":0.2}},\"type\":\"bar\"}],\"carpet\":[{\"aaxis\":{\"endlinecolor\":\"#2a3f5f\",\"gridcolor\":\"#C8D4E3\",\"linecolor\":\"#C8D4E3\",\"minorgridcolor\":\"#C8D4E3\",\"startlinecolor\":\"#2a3f5f\"},\"baxis\":{\"endlinecolor\":\"#2a3f5f\",\"gridcolor\":\"#C8D4E3\",\"linecolor\":\"#C8D4E3\",\"minorgridcolor\":\"#C8D4E3\",\"startlinecolor\":\"#2a3f5f\"},\"type\":\"carpet\"}],\"choropleth\":[{\"colorbar\":{\"outlinewidth\":0,\"ticks\":\"\"},\"type\":\"choropleth\"}],\"contourcarpet\":[{\"colorbar\":{\"outlinewidth\":0,\"ticks\":\"\"},\"type\":\"contourcarpet\"}],\"contour\":[{\"colorbar\":{\"outlinewidth\":0,\"ticks\":\"\"},\"colorscale\":[[0.0,\"#0d0887\"],[0.1111111111111111,\"#46039f\"],[0.2222222222222222,\"#7201a8\"],[0.3333333333333333,\"#9c179e\"],[0.4444444444444444,\"#bd3786\"],[0.5555555555555556,\"#d8576b\"],[0.6666666666666666,\"#ed7953\"],[0.7777777777777778,\"#fb9f3a\"],[0.8888888888888888,\"#fdca26\"],[1.0,\"#f0f921\"]],\"type\":\"contour\"}],\"heatmapgl\":[{\"colorbar\":{\"outlinewidth\":0,\"ticks\":\"\"},\"colorscale\":[[0.0,\"#0d0887\"],[0.1111111111111111,\"#46039f\"],[0.2222222222222222,\"#7201a8\"],[0.3333333333333333,\"#9c179e\"],[0.4444444444444444,\"#bd3786\"],[0.5555555555555556,\"#d8576b\"],[0.6666666666666666,\"#ed7953\"],[0.7777777777777778,\"#fb9f3a\"],[0.8888888888888888,\"#fdca26\"],[1.0,\"#f0f921\"]],\"type\":\"heatmapgl\"}],\"heatmap\":[{\"colorbar\":{\"outlinewidth\":0,\"ticks\":\"\"},\"colorscale\":[[0.0,\"#0d0887\"],[0.1111111111111111,\"#46039f\"],[0.2222222222222222,\"#7201a8\"],[0.3333333333333333,\"#9c179e\"],[0.4444444444444444,\"#bd3786\"],[0.5555555555555556,\"#d8576b\"],[0.6666666666666666,\"#ed7953\"],[0.7777777777777778,\"#fb9f3a\"],[0.8888888888888888,\"#fdca26\"],[1.0,\"#f0f921\"]],\"type\":\"heatmap\"}],\"histogram2dcontour\":[{\"colorbar\":{\"outlinewidth\":0,\"ticks\":\"\"},\"colorscale\":[[0.0,\"#0d0887\"],[0.1111111111111111,\"#46039f\"],[0.2222222222222222,\"#7201a8\"],[0.3333333333333333,\"#9c179e\"],[0.4444444444444444,\"#bd3786\"],[0.5555555555555556,\"#d8576b\"],[0.6666666666666666,\"#ed7953\"],[0.7777777777777778,\"#fb9f3a\"],[0.8888888888888888,\"#fdca26\"],[1.0,\"#f0f921\"]],\"type\":\"histogram2dcontour\"}],\"histogram2d\":[{\"colorbar\":{\"outlinewidth\":0,\"ticks\":\"\"},\"colorscale\":[[0.0,\"#0d0887\"],[0.1111111111111111,\"#46039f\"],[0.2222222222222222,\"#7201a8\"],[0.3333333333333333,\"#9c179e\"],[0.4444444444444444,\"#bd3786\"],[0.5555555555555556,\"#d8576b\"],[0.6666666666666666,\"#ed7953\"],[0.7777777777777778,\"#fb9f3a\"],[0.8888888888888888,\"#fdca26\"],[1.0,\"#f0f921\"]],\"type\":\"histogram2d\"}],\"histogram\":[{\"marker\":{\"pattern\":{\"fillmode\":\"overlay\",\"size\":10,\"solidity\":0.2}},\"type\":\"histogram\"}],\"mesh3d\":[{\"colorbar\":{\"outlinewidth\":0,\"ticks\":\"\"},\"type\":\"mesh3d\"}],\"parcoords\":[{\"line\":{\"colorbar\":{\"outlinewidth\":0,\"ticks\":\"\"}},\"type\":\"parcoords\"}],\"pie\":[{\"automargin\":true,\"type\":\"pie\"}],\"scatter3d\":[{\"line\":{\"colorbar\":{\"outlinewidth\":0,\"ticks\":\"\"}},\"marker\":{\"colorbar\":{\"outlinewidth\":0,\"ticks\":\"\"}},\"type\":\"scatter3d\"}],\"scattercarpet\":[{\"marker\":{\"colorbar\":{\"outlinewidth\":0,\"ticks\":\"\"}},\"type\":\"scattercarpet\"}],\"scattergeo\":[{\"marker\":{\"colorbar\":{\"outlinewidth\":0,\"ticks\":\"\"}},\"type\":\"scattergeo\"}],\"scattergl\":[{\"marker\":{\"colorbar\":{\"outlinewidth\":0,\"ticks\":\"\"}},\"type\":\"scattergl\"}],\"scattermapbox\":[{\"marker\":{\"colorbar\":{\"outlinewidth\":0,\"ticks\":\"\"}},\"type\":\"scattermapbox\"}],\"scatterpolargl\":[{\"marker\":{\"colorbar\":{\"outlinewidth\":0,\"ticks\":\"\"}},\"type\":\"scatterpolargl\"}],\"scatterpolar\":[{\"marker\":{\"colorbar\":{\"outlinewidth\":0,\"ticks\":\"\"}},\"type\":\"scatterpolar\"}],\"scatter\":[{\"fillpattern\":{\"fillmode\":\"overlay\",\"size\":10,\"solidity\":0.2},\"type\":\"scatter\"}],\"scatterternary\":[{\"marker\":{\"colorbar\":{\"outlinewidth\":0,\"ticks\":\"\"}},\"type\":\"scatterternary\"}],\"surface\":[{\"colorbar\":{\"outlinewidth\":0,\"ticks\":\"\"},\"colorscale\":[[0.0,\"#0d0887\"],[0.1111111111111111,\"#46039f\"],[0.2222222222222222,\"#7201a8\"],[0.3333333333333333,\"#9c179e\"],[0.4444444444444444,\"#bd3786\"],[0.5555555555555556,\"#d8576b\"],[0.6666666666666666,\"#ed7953\"],[0.7777777777777778,\"#fb9f3a\"],[0.8888888888888888,\"#fdca26\"],[1.0,\"#f0f921\"]],\"type\":\"surface\"}],\"table\":[{\"cells\":{\"fill\":{\"color\":\"#EBF0F8\"},\"line\":{\"color\":\"white\"}},\"header\":{\"fill\":{\"color\":\"#C8D4E3\"},\"line\":{\"color\":\"white\"}},\"type\":\"table\"}]},\"layout\":{\"annotationdefaults\":{\"arrowcolor\":\"#2a3f5f\",\"arrowhead\":0,\"arrowwidth\":1},\"autotypenumbers\":\"strict\",\"coloraxis\":{\"colorbar\":{\"outlinewidth\":0,\"ticks\":\"\"}},\"colorscale\":{\"diverging\":[[0,\"#8e0152\"],[0.1,\"#c51b7d\"],[0.2,\"#de77ae\"],[0.3,\"#f1b6da\"],[0.4,\"#fde0ef\"],[0.5,\"#f7f7f7\"],[0.6,\"#e6f5d0\"],[0.7,\"#b8e186\"],[0.8,\"#7fbc41\"],[0.9,\"#4d9221\"],[1,\"#276419\"]],\"sequential\":[[0.0,\"#0d0887\"],[0.1111111111111111,\"#46039f\"],[0.2222222222222222,\"#7201a8\"],[0.3333333333333333,\"#9c179e\"],[0.4444444444444444,\"#bd3786\"],[0.5555555555555556,\"#d8576b\"],[0.6666666666666666,\"#ed7953\"],[0.7777777777777778,\"#fb9f3a\"],[0.8888888888888888,\"#fdca26\"],[1.0,\"#f0f921\"]],\"sequentialminus\":[[0.0,\"#0d0887\"],[0.1111111111111111,\"#46039f\"],[0.2222222222222222,\"#7201a8\"],[0.3333333333333333,\"#9c179e\"],[0.4444444444444444,\"#bd3786\"],[0.5555555555555556,\"#d8576b\"],[0.6666666666666666,\"#ed7953\"],[0.7777777777777778,\"#fb9f3a\"],[0.8888888888888888,\"#fdca26\"],[1.0,\"#f0f921\"]]},\"colorway\":[\"#636efa\",\"#EF553B\",\"#00cc96\",\"#ab63fa\",\"#FFA15A\",\"#19d3f3\",\"#FF6692\",\"#B6E880\",\"#FF97FF\",\"#FECB52\"],\"font\":{\"color\":\"#2a3f5f\"},\"geo\":{\"bgcolor\":\"white\",\"lakecolor\":\"white\",\"landcolor\":\"white\",\"showlakes\":true,\"showland\":true,\"subunitcolor\":\"#C8D4E3\"},\"hoverlabel\":{\"align\":\"left\"},\"hovermode\":\"closest\",\"mapbox\":{\"style\":\"light\"},\"paper_bgcolor\":\"white\",\"plot_bgcolor\":\"white\",\"polar\":{\"angularaxis\":{\"gridcolor\":\"#EBF0F8\",\"linecolor\":\"#EBF0F8\",\"ticks\":\"\"},\"bgcolor\":\"white\",\"radialaxis\":{\"gridcolor\":\"#EBF0F8\",\"linecolor\":\"#EBF0F8\",\"ticks\":\"\"}},\"scene\":{\"xaxis\":{\"backgroundcolor\":\"white\",\"gridcolor\":\"#DFE8F3\",\"gridwidth\":2,\"linecolor\":\"#EBF0F8\",\"showbackground\":true,\"ticks\":\"\",\"zerolinecolor\":\"#EBF0F8\"},\"yaxis\":{\"backgroundcolor\":\"white\",\"gridcolor\":\"#DFE8F3\",\"gridwidth\":2,\"linecolor\":\"#EBF0F8\",\"showbackground\":true,\"ticks\":\"\",\"zerolinecolor\":\"#EBF0F8\"},\"zaxis\":{\"backgroundcolor\":\"white\",\"gridcolor\":\"#DFE8F3\",\"gridwidth\":2,\"linecolor\":\"#EBF0F8\",\"showbackground\":true,\"ticks\":\"\",\"zerolinecolor\":\"#EBF0F8\"}},\"shapedefaults\":{\"line\":{\"color\":\"#2a3f5f\"}},\"ternary\":{\"aaxis\":{\"gridcolor\":\"#DFE8F3\",\"linecolor\":\"#A2B1C6\",\"ticks\":\"\"},\"baxis\":{\"gridcolor\":\"#DFE8F3\",\"linecolor\":\"#A2B1C6\",\"ticks\":\"\"},\"bgcolor\":\"white\",\"caxis\":{\"gridcolor\":\"#DFE8F3\",\"linecolor\":\"#A2B1C6\",\"ticks\":\"\"}},\"title\":{\"x\":0.05},\"xaxis\":{\"automargin\":true,\"gridcolor\":\"#EBF0F8\",\"linecolor\":\"#EBF0F8\",\"ticks\":\"\",\"title\":{\"standoff\":15},\"zerolinecolor\":\"#EBF0F8\",\"zerolinewidth\":2},\"yaxis\":{\"automargin\":true,\"gridcolor\":\"#EBF0F8\",\"linecolor\":\"#EBF0F8\",\"ticks\":\"\",\"title\":{\"standoff\":15},\"zerolinecolor\":\"#EBF0F8\",\"zerolinewidth\":2}}},\"shapes\":[{\"line\":{\"color\":\"green\",\"dash\":\"dash\"},\"type\":\"line\",\"x0\":0,\"x1\":1,\"xref\":\"x domain\",\"y0\":1182.0347826086959,\"y1\":1182.0347826086959,\"yref\":\"y\"}],\"annotations\":[{\"showarrow\":false,\"text\":\"Mean Rainfall\",\"x\":1,\"xanchor\":\"right\",\"xref\":\"x domain\",\"y\":1182.0347826086959,\"yanchor\":\"bottom\",\"yref\":\"y\"}],\"title\":{\"text\":\"Annual Rainfall Anomalies in India (1901-2015)\"},\"xaxis\":{\"title\":{\"text\":\"Year\"}},\"yaxis\":{\"title\":{\"text\":\"Rainfall (mm)\"}},\"legend\":{\"title\":{\"text\":\"Legend\"}},\"height\":500,\"width\":800},                        {\"responsive\": true}                    ).then(function(){\n",
              "                            \n",
              "var gd = document.getElementById('f935d1f2-ee47-4d6c-a965-7dc12cd95358');\n",
              "var x = new MutationObserver(function (mutations, observer) {{\n",
              "        var display = window.getComputedStyle(gd).display;\n",
              "        if (!display || display === 'none') {{\n",
              "            console.log([gd, 'removed!']);\n",
              "            Plotly.purge(gd);\n",
              "            observer.disconnect();\n",
              "        }}\n",
              "}});\n",
              "\n",
              "// Listen for the removal of the full notebook cells\n",
              "var notebookContainer = gd.closest('#notebook-container');\n",
              "if (notebookContainer) {{\n",
              "    x.observe(notebookContainer, {childList: true});\n",
              "}}\n",
              "\n",
              "// Listen for the clearing of the current output cell\n",
              "var outputEl = gd.closest('.output');\n",
              "if (outputEl) {{\n",
              "    x.observe(outputEl, {childList: true});\n",
              "}}\n",
              "\n",
              "                        })                };                            </script>        </div>\n",
              "</body>\n",
              "</html>"
            ]
          },
          "metadata": {}
        }
      ]
    },
    {
      "cell_type": "code",
      "source": [
        "#preparing for the monthly anomalies\n",
        "monthly_anomalies = []\n",
        "for column in monthly_columns:\n",
        "    for _, row in monthly_anomalies_df.iterrows():\n",
        "        monthly_anomalies.append({'Year': row['YEAR'], 'Month': column, 'Rainfall': row[column]})\n",
        "\n",
        "        monthly_anomalies_df_long = pd.DataFrame(monthly_anomalies)\n",
        "        #print(monthly_anomalies_df_long)\n",
        "fig_monthly_anomalies = px.line(\n",
        "    rainfall_data,\n",
        "    x='YEAR',\n",
        "    y=monthly_columns,\n",
        "    labels={'YEAR': 'Year', 'value': 'Rainfall (mm)','variable': 'Month'},\n",
        "    title='Monthly Rainfall Anomalies in India (1901-2015)',\n",
        "    color_discrete_sequence=px.colors.qualitative.Pastel\n",
        ")\n",
        "fig_monthly_anomalies.add_traces(go.Scatter(\n",
        "    x=monthly_anomalies_df_long['Year'],\n",
        "    y=monthly_anomalies_df_long['Rainfall'],\n",
        "    mode='markers',\n",
        "    name='Anomalies Months',\n",
        "    marker=dict(color='red', size=5, symbol='circle')\n",
        "))\n",
        "fig_monthly_anomalies.update_layout(\n",
        "    template='plotly_white',\n",
        "    legend=dict(title=\"Legend\"),\n",
        "    height=500,\n",
        "    width=800\n",
        ")\n",
        "fig_monthly_anomalies.show()"
      ],
      "metadata": {
        "colab": {
          "base_uri": "https://localhost:8080/",
          "height": 517
        },
        "id": "OObCj4caQyFG",
        "outputId": "ef445c51-7a6a-4163-af9d-0d9dbb38c9ee"
      },
      "execution_count": null,
      "outputs": [
        {
          "output_type": "display_data",
          "data": {
            "text/html": [
              "<html>\n",
              "<head><meta charset=\"utf-8\" /></head>\n",
              "<body>\n",
              "    <div>            <script src=\"https://cdnjs.cloudflare.com/ajax/libs/mathjax/2.7.5/MathJax.js?config=TeX-AMS-MML_SVG\"></script><script type=\"text/javascript\">if (window.MathJax && window.MathJax.Hub && window.MathJax.Hub.Config) {window.MathJax.Hub.Config({SVG: {font: \"STIX-Web\"}});}</script>                <script type=\"text/javascript\">window.PlotlyConfig = {MathJaxConfig: 'local'};</script>\n",
              "        <script charset=\"utf-8\" src=\"https://cdn.plot.ly/plotly-2.35.2.min.js\"></script>                <div id=\"4351ba2d-42ca-4975-a73c-8c718417fd10\" class=\"plotly-graph-div\" style=\"height:500px; width:800px;\"></div>            <script type=\"text/javascript\">                                    window.PLOTLYENV=window.PLOTLYENV || {};                                    if (document.getElementById(\"4351ba2d-42ca-4975-a73c-8c718417fd10\")) {                    Plotly.newPlot(                        \"4351ba2d-42ca-4975-a73c-8c718417fd10\",                        [{\"hovertemplate\":\"Month=JAN\\u003cbr\\u003eYear=%{x}\\u003cbr\\u003eRainfall (mm)=%{y}\\u003cextra\\u003e\\u003c\\u002fextra\\u003e\",\"legendgroup\":\"JAN\",\"line\":{\"color\":\"rgb(102, 197, 204)\",\"dash\":\"solid\"},\"marker\":{\"symbol\":\"circle\"},\"mode\":\"lines\",\"name\":\"JAN\",\"showlegend\":true,\"x\":[1901,1902,1903,1904,1905,1906,1907,1908,1909,1910,1911,1912,1913,1914,1915,1916,1917,1918,1919,1920,1921,1922,1923,1924,1925,1926,1927,1928,1929,1930,1931,1932,1933,1934,1935,1936,1937,1938,1939,1940,1941,1942,1943,1944,1945,1946,1947,1948,1949,1950,1951,1952,1953,1954,1955,1956,1957,1958,1959,1960,1961,1962,1963,1964,1965,1966,1967,1968,1969,1970,1971,1972,1973,1974,1975,1976,1977,1978,1979,1980,1981,1982,1983,1984,1985,1986,1987,1988,1989,1990,1991,1992,1993,1994,1995,1996,1997,1998,1999,2000,2001,2002,2003,2004,2005,2006,2007,2008,2009,2010,2011,2012,2013,2014,2015],\"xaxis\":\"x\",\"y\":[34.7,7.4,17.0,14.4,25.3,21.2,16.2,21.8,23.3,15.6,45.7,22.1,6.6,4.8,19.4,5.1,8.7,12.2,52.5,25.1,40.6,29.7,24.5,23.1,14.2,29.2,14.6,22.9,31.2,25.9,14.5,10.3,18.0,24.9,29.8,13.0,7.0,32.3,14.0,14.4,23.9,23.1,58.5,29.3,34.4,4.4,22.5,25.1,13.0,35.6,16.0,10.5,30.4,38.2,22.2,19.8,39.6,13.4,32.1,13.9,25.9,12.6,6.8,15.7,10.9,12.8,11.2,27.9,12.3,22.5,16.0,9.7,19.3,15.3,14.9,11.3,20.2,12.2,20.8,12.9,28.4,24.8,18.8,19.2,23.1,14.8,14.4,9.1,14.6,14.9,13.8,20.1,17.2,24.2,32.3,22.8,13.9,17.8,18.4,19.0,7.2,16.8,7.2,26.2,40.3,17.4,2.7,22.4,11.8,7.5,7.7,28.5,10.0,17.3,17.4],\"yaxis\":\"y\",\"type\":\"scattergl\"},{\"hovertemplate\":\"Month=FEB\\u003cbr\\u003eYear=%{x}\\u003cbr\\u003eRainfall (mm)=%{y}\\u003cextra\\u003e\\u003c\\u002fextra\\u003e\",\"legendgroup\":\"FEB\",\"line\":{\"color\":\"rgb(246, 207, 113)\",\"dash\":\"solid\"},\"marker\":{\"symbol\":\"circle\"},\"mode\":\"lines\",\"name\":\"FEB\",\"showlegend\":true,\"x\":[1901,1902,1903,1904,1905,1906,1907,1908,1909,1910,1911,1912,1913,1914,1915,1916,1917,1918,1919,1920,1921,1922,1923,1924,1925,1926,1927,1928,1929,1930,1931,1932,1933,1934,1935,1936,1937,1938,1939,1940,1941,1942,1943,1944,1945,1946,1947,1948,1949,1950,1951,1952,1953,1954,1955,1956,1957,1958,1959,1960,1961,1962,1963,1964,1965,1966,1967,1968,1969,1970,1971,1972,1973,1974,1975,1976,1977,1978,1979,1980,1981,1982,1983,1984,1985,1986,1987,1988,1989,1990,1991,1992,1993,1994,1995,1996,1997,1998,1999,2000,2001,2002,2003,2004,2005,2006,2007,2008,2009,2010,2011,2012,2013,2014,2015],\"xaxis\":\"x\",\"y\":[37.7,4.3,8.3,9.6,20.9,50.8,46.0,17.8,17.9,11.1,5.6,21.8,40.8,31.5,41.6,22.7,38.7,4.4,22.7,23.9,8.8,10.3,41.5,25.5,12.5,11.5,37.0,41.9,20.6,23.6,34.7,25.2,31.0,11.7,21.9,44.6,53.8,32.8,35.0,27.0,16.9,45.6,9.8,39.8,9.9,18.9,18.5,29.6,28.9,26.0,12.3,20.4,10.7,37.7,4.5,11.3,17.6,18.8,24.3,2.7,35.2,21.5,9.0,14.3,26.0,24.1,13.4,19.5,13.8,26.9,22.5,27.1,20.9,12.5,18.7,23.5,10.0,27.0,34.7,22.1,20.4,24.4,23.6,35.7,9.6,36.7,21.8,28.2,14.2,44.3,26.3,18.7,24.3,26.8,29.2,23.1,10.0,35.9,12.0,27.0,10.3,21.0,42.1,10.7,46.0,11.5,35.7,19.2,13.2,16.3,26.3,10.8,36.9,25.9,21.0],\"yaxis\":\"y\",\"type\":\"scattergl\"},{\"hovertemplate\":\"Month=MAR\\u003cbr\\u003eYear=%{x}\\u003cbr\\u003eRainfall (mm)=%{y}\\u003cextra\\u003e\\u003c\\u002fextra\\u003e\",\"legendgroup\":\"MAR\",\"line\":{\"color\":\"rgb(248, 156, 116)\",\"dash\":\"solid\"},\"marker\":{\"symbol\":\"circle\"},\"mode\":\"lines\",\"name\":\"MAR\",\"showlegend\":true,\"x\":[1901,1902,1903,1904,1905,1906,1907,1908,1909,1910,1911,1912,1913,1914,1915,1916,1917,1918,1919,1920,1921,1922,1923,1924,1925,1926,1927,1928,1929,1930,1931,1932,1933,1934,1935,1936,1937,1938,1939,1940,1941,1942,1943,1944,1945,1946,1947,1948,1949,1950,1951,1952,1953,1954,1955,1956,1957,1958,1959,1960,1961,1962,1963,1964,1965,1966,1967,1968,1969,1970,1971,1972,1973,1974,1975,1976,1977,1978,1979,1980,1981,1982,1983,1984,1985,1986,1987,1988,1989,1990,1991,1992,1993,1994,1995,1996,1997,1998,1999,2000,2001,2002,2003,2004,2005,2006,2007,2008,2009,2010,2011,2012,2013,2014,2015],\"xaxis\":\"x\",\"y\":[18.0,19.0,31.3,31.8,42.7,31.7,37.8,8.7,7.2,13.8,49.9,21.2,25.0,28.3,46.2,12.3,22.8,41.6,20.3,58.2,18.6,14.6,22.7,14.3,15.8,60.1,23.1,22.7,14.4,25.7,19.7,22.5,26.6,17.2,20.9,40.3,20.3,33.2,32.8,49.6,19.2,20.0,30.0,56.7,20.1,24.2,26.0,40.1,24.5,36.9,45.2,38.0,25.5,17.4,24.8,32.2,29.8,19.2,21.8,35.5,26.6,15.6,38.6,18.9,26.4,20.3,63.3,27.5,19.5,24.9,10.3,21.0,19.7,19.8,27.2,23.9,13.7,44.2,29.3,32.3,47.6,46.6,43.4,21.8,19.8,28.8,27.4,49.3,26.9,53.3,27.8,25.4,39.3,23.9,28.1,31.4,30.2,44.1,10.8,18.6,21.3,22.9,33.7,11.9,42.6,34.4,34.4,37.7,15.2,16.6,21.4,10.6,14.5,32.6,62.0],\"yaxis\":\"y\",\"type\":\"scattergl\"},{\"hovertemplate\":\"Month=APR\\u003cbr\\u003eYear=%{x}\\u003cbr\\u003eRainfall (mm)=%{y}\\u003cextra\\u003e\\u003c\\u002fextra\\u003e\",\"legendgroup\":\"APR\",\"line\":{\"color\":\"rgb(220, 176, 242)\",\"dash\":\"solid\"},\"marker\":{\"symbol\":\"circle\"},\"mode\":\"lines\",\"name\":\"APR\",\"showlegend\":true,\"x\":[1901,1902,1903,1904,1905,1906,1907,1908,1909,1910,1911,1912,1913,1914,1915,1916,1917,1918,1919,1920,1921,1922,1923,1924,1925,1926,1927,1928,1929,1930,1931,1932,1933,1934,1935,1936,1937,1938,1939,1940,1941,1942,1943,1944,1945,1946,1947,1948,1949,1950,1951,1952,1953,1954,1955,1956,1957,1958,1959,1960,1961,1962,1963,1964,1965,1966,1967,1968,1969,1970,1971,1972,1973,1974,1975,1976,1977,1978,1979,1980,1981,1982,1983,1984,1985,1986,1987,1988,1989,1990,1991,1992,1993,1994,1995,1996,1997,1998,1999,2000,2001,2002,2003,2004,2005,2006,2007,2008,2009,2010,2011,2012,2013,2014,2015],\"xaxis\":\"x\",\"y\":[39.3,43.5,17.1,33.1,33.7,16.1,62.8,33.3,63.0,29.2,22.8,40.0,26.1,46.3,36.4,36.1,43.2,38.8,33.5,38.8,43.5,31.5,32.1,31.7,44.0,42.7,37.4,34.6,55.2,53.2,37.4,31.3,50.1,47.2,44.2,34.3,56.1,35.3,42.3,28.1,31.3,46.6,50.1,33.2,47.0,48.0,39.3,42.4,52.7,28.9,55.7,32.8,38.3,23.1,31.9,31.2,40.9,36.6,25.9,20.0,28.9,43.5,50.1,40.1,43.6,32.0,29.1,32.4,39.7,29.2,52.3,36.9,27.0,32.2,27.5,35.6,67.0,32.9,20.9,34.1,36.3,50.7,57.7,43.7,37.9,48.1,41.3,41.5,33.1,42.0,49.2,23.5,26.1,45.0,31.4,31.1,45.1,41.6,19.1,35.0,45.5,38.9,35.5,50.6,38.5,30.4,33.6,32.6,26.0,42.1,41.0,48.5,29.4,20.2,69.4],\"yaxis\":\"y\",\"type\":\"scattergl\"},{\"hovertemplate\":\"Month=MAY\\u003cbr\\u003eYear=%{x}\\u003cbr\\u003eRainfall (mm)=%{y}\\u003cextra\\u003e\\u003c\\u002fextra\\u003e\",\"legendgroup\":\"MAY\",\"line\":{\"color\":\"rgb(135, 197, 95)\",\"dash\":\"solid\"},\"marker\":{\"symbol\":\"circle\"},\"mode\":\"lines\",\"name\":\"MAY\",\"showlegend\":true,\"x\":[1901,1902,1903,1904,1905,1906,1907,1908,1909,1910,1911,1912,1913,1914,1915,1916,1917,1918,1919,1920,1921,1922,1923,1924,1925,1926,1927,1928,1929,1930,1931,1932,1933,1934,1935,1936,1937,1938,1939,1940,1941,1942,1943,1944,1945,1946,1947,1948,1949,1950,1951,1952,1953,1954,1955,1956,1957,1958,1959,1960,1961,1962,1963,1964,1965,1966,1967,1968,1969,1970,1971,1972,1973,1974,1975,1976,1977,1978,1979,1980,1981,1982,1983,1984,1985,1986,1987,1988,1989,1990,1991,1992,1993,1994,1995,1996,1997,1998,1999,2000,2001,2002,2003,2004,2005,2006,2007,2008,2009,2010,2011,2012,2013,2014,2015],\"xaxis\":\"x\",\"y\":[50.8,48.3,59.5,72.4,55.7,36.7,32.6,45.4,52.1,41.5,47.6,43.0,73.2,69.5,62.7,59.5,75.0,102.8,60.5,53.9,49.4,49.0,60.7,64.4,104.1,58.6,51.8,54.3,65.7,56.7,59.3,85.3,103.2,48.0,35.8,82.9,57.1,70.6,40.2,81.2,80.3,65.8,95.7,61.1,53.8,71.3,55.0,90.1,89.1,49.3,59.9,66.4,47.3,53.0,74.2,84.4,72.1,79.9,75.4,56.6,77.1,70.6,59.6,51.6,51.2,57.0,42.4,46.7,63.2,68.3,74.9,55.6,56.0,63.3,49.7,44.2,83.8,58.5,51.7,54.7,67.0,59.6,71.1,59.5,60.1,48.7,66.3,68.8,55.9,114.5,67.5,56.2,69.5,52.1,80.7,55.6,47.0,51.5,94.3,73.5,61.3,57.7,38.6,74.5,50.3,80.7,50.4,45.2,56.6,69.0,51.6,32.1,56.5,72.8,53.8],\"yaxis\":\"y\",\"type\":\"scattergl\"},{\"hovertemplate\":\"Month=JUN\\u003cbr\\u003eYear=%{x}\\u003cbr\\u003eRainfall (mm)=%{y}\\u003cextra\\u003e\\u003c\\u002fextra\\u003e\",\"legendgroup\":\"JUN\",\"line\":{\"color\":\"rgb(158, 185, 243)\",\"dash\":\"solid\"},\"marker\":{\"symbol\":\"circle\"},\"mode\":\"lines\",\"name\":\"JUN\",\"showlegend\":true,\"x\":[1901,1902,1903,1904,1905,1906,1907,1908,1909,1910,1911,1912,1913,1914,1915,1916,1917,1918,1919,1920,1921,1922,1923,1924,1925,1926,1927,1928,1929,1930,1931,1932,1933,1934,1935,1936,1937,1938,1939,1940,1941,1942,1943,1944,1945,1946,1947,1948,1949,1950,1951,1952,1953,1954,1955,1956,1957,1958,1959,1960,1961,1962,1963,1964,1965,1966,1967,1968,1969,1970,1971,1972,1973,1974,1975,1976,1977,1978,1979,1980,1981,1982,1983,1984,1985,1986,1987,1988,1989,1990,1991,1992,1993,1994,1995,1996,1997,1998,1999,2000,2001,2002,2003,2004,2005,2006,2007,2008,2009,2010,2011,2012,2013,2014,2015],\"xaxis\":\"x\",\"y\":[113.4,108.8,118.3,164.8,93.3,177.1,154.4,126.4,208.2,213.5,191.9,106.8,214.4,159.3,155.9,235.2,231.8,212.6,195.2,163.9,193.9,202.7,102.7,135.5,209.2,99.0,179.4,179.1,194.8,182.2,134.5,142.5,218.2,215.2,159.6,249.0,163.0,275.5,172.2,175.5,172.6,190.7,168.5,157.1,158.5,213.8,130.4,164.2,163.1,134.0,160.9,165.6,162.6,143.2,178.3,211.7,155.0,123.9,168.7,159.1,192.1,136.3,165.5,176.4,115.8,177.4,144.9,148.0,129.8,212.8,228.5,123.0,147.5,122.8,177.6,155.0,187.3,210.4,141.3,229.4,153.0,136.9,152.2,192.0,156.2,182.7,133.2,159.0,186.3,194.0,184.2,139.2,170.8,206.0,140.6,183.4,171.6,164.3,171.3,184.5,215.1,170.1,164.5,167.8,146.9,151.4,201.4,208.8,86.5,140.9,182.8,125.0,217.9,95.5,192.8],\"yaxis\":\"y\",\"type\":\"scattergl\"},{\"hovertemplate\":\"Month=JUL\\u003cbr\\u003eYear=%{x}\\u003cbr\\u003eRainfall (mm)=%{y}\\u003cextra\\u003e\\u003c\\u002fextra\\u003e\",\"legendgroup\":\"JUL\",\"line\":{\"color\":\"rgb(254, 136, 177)\",\"dash\":\"solid\"},\"marker\":{\"symbol\":\"circle\"},\"mode\":\"lines\",\"name\":\"JUL\",\"showlegend\":true,\"x\":[1901,1902,1903,1904,1905,1906,1907,1908,1909,1910,1911,1912,1913,1914,1915,1916,1917,1918,1919,1920,1921,1922,1923,1924,1925,1926,1927,1928,1929,1930,1931,1932,1933,1934,1935,1936,1937,1938,1939,1940,1941,1942,1943,1944,1945,1946,1947,1948,1949,1950,1951,1952,1953,1954,1955,1956,1957,1958,1959,1960,1961,1962,1963,1964,1965,1966,1967,1968,1969,1970,1971,1972,1973,1974,1975,1976,1977,1978,1979,1980,1981,1982,1983,1984,1985,1986,1987,1988,1989,1990,1991,1992,1993,1994,1995,1996,1997,1998,1999,2000,2001,2002,2003,2004,2005,2006,2007,2008,2009,2010,2011,2012,2013,2014,2015],\"xaxis\":\"x\",\"y\":[242.2,284.0,297.0,261.0,252.8,285.4,225.4,327.2,309.4,250.3,162.7,329.0,272.4,347.3,230.0,267.1,285.2,183.8,309.3,297.5,297.5,317.8,339.5,328.0,306.8,320.9,351.0,306.6,298.8,292.5,325.9,335.5,284.0,285.5,318.4,296.4,339.7,304.5,277.0,313.8,240.8,345.1,312.5,354.7,335.0,319.3,315.0,347.8,319.0,331.2,253.4,286.5,321.6,295.6,236.3,363.0,306.5,320.0,377.1,318.6,339.1,282.9,257.8,344.3,269.2,251.9,304.6,309.6,318.7,245.2,268.7,205.5,279.3,280.3,308.4,297.2,326.9,292.1,239.3,298.3,308.6,232.3,282.5,286.5,289.3,261.4,221.8,383.4,302.3,286.7,281.4,270.2,307.5,353.4,325.7,266.4,281.5,282.1,262.7,267.6,281.1,138.9,305.6,241.7,340.3,298.5,295.8,250.0,283.7,293.6,243.0,258.1,305.4,258.8,242.4],\"yaxis\":\"y\",\"type\":\"scattergl\"},{\"hovertemplate\":\"Month=AUG\\u003cbr\\u003eYear=%{x}\\u003cbr\\u003eRainfall (mm)=%{y}\\u003cextra\\u003e\\u003c\\u002fextra\\u003e\",\"legendgroup\":\"AUG\",\"line\":{\"color\":\"rgb(201, 219, 116)\",\"dash\":\"solid\"},\"marker\":{\"symbol\":\"circle\"},\"mode\":\"lines\",\"name\":\"AUG\",\"showlegend\":true,\"x\":[1901,1902,1903,1904,1905,1906,1907,1908,1909,1910,1911,1912,1913,1914,1915,1916,1917,1918,1919,1920,1921,1922,1923,1924,1925,1926,1927,1928,1929,1930,1931,1932,1933,1934,1935,1936,1937,1938,1939,1940,1941,1942,1943,1944,1945,1946,1947,1948,1949,1950,1951,1952,1953,1954,1955,1956,1957,1958,1959,1960,1961,1962,1963,1964,1965,1966,1967,1968,1969,1970,1971,1972,1973,1974,1975,1976,1977,1978,1979,1980,1981,1982,1983,1984,1985,1986,1987,1988,1989,1990,1991,1992,1993,1994,1995,1996,1997,1998,1999,2000,2001,2002,2003,2004,2005,2006,2007,2008,2009,2010,2011,2012,2013,2014,2015],\"xaxis\":\"x\",\"y\":[272.9,199.7,270.4,206.4,200.8,251.1,310.4,312.8,235.0,289.8,213.5,261.3,193.9,240.8,230.1,310.5,296.5,242.7,289.5,191.7,278.5,222.7,277.0,263.1,238.9,335.5,259.3,232.8,246.9,214.5,309.0,239.1,316.5,300.7,248.2,241.8,210.5,251.5,234.4,282.2,230.7,293.4,234.8,291.6,247.7,296.6,291.1,281.8,244.0,235.3,222.6,256.8,301.9,232.1,320.6,260.1,277.7,325.3,266.6,253.2,288.4,277.0,317.2,274.6,192.3,216.1,262.9,212.0,272.4,313.6,269.0,221.8,312.5,232.0,290.6,295.5,247.5,284.5,211.3,267.1,239.2,275.9,307.6,262.9,233.5,233.5,243.2,303.3,238.2,293.2,263.2,288.0,205.4,287.9,268.8,295.4,260.0,250.0,217.8,225.2,210.0,246.2,247.8,252.5,192.0,302.6,259.2,264.3,191.9,272.3,284.6,263.9,248.4,237.9,205.2],\"yaxis\":\"y\",\"type\":\"scattergl\"},{\"hovertemplate\":\"Month=SEP\\u003cbr\\u003eYear=%{x}\\u003cbr\\u003eRainfall (mm)=%{y}\\u003cextra\\u003e\\u003c\\u002fextra\\u003e\",\"legendgroup\":\"SEP\",\"line\":{\"color\":\"rgb(139, 224, 164)\",\"dash\":\"solid\"},\"marker\":{\"symbol\":\"circle\"},\"mode\":\"lines\",\"name\":\"SEP\",\"showlegend\":true,\"x\":[1901,1902,1903,1904,1905,1906,1907,1908,1909,1910,1911,1912,1913,1914,1915,1916,1917,1918,1919,1920,1921,1922,1923,1924,1925,1926,1927,1928,1929,1930,1931,1932,1933,1934,1935,1936,1937,1938,1939,1940,1941,1942,1943,1944,1945,1946,1947,1948,1949,1950,1951,1952,1953,1954,1955,1956,1957,1958,1959,1960,1961,1962,1963,1964,1965,1966,1967,1968,1969,1970,1971,1972,1973,1974,1975,1976,1977,1978,1979,1980,1981,1982,1983,1984,1985,1986,1987,1988,1989,1990,1991,1992,1993,1994,1995,1996,1997,1998,1999,2000,2001,2002,2003,2004,2005,2006,2007,2008,2009,2010,2011,2012,2013,2014,2015],\"xaxis\":\"x\",\"y\":[124.4,201.5,199.1,129.6,178.4,182.7,96.9,150.5,163.6,186.8,182.3,120.3,108.4,194.3,172.0,201.6,281.0,109.7,163.6,123.0,206.6,202.7,178.7,242.5,141.7,211.0,173.1,144.4,126.6,176.7,193.6,182.0,215.5,169.0,187.1,194.5,175.0,170.7,155.8,125.5,156.1,184.4,212.8,158.3,215.5,145.0,238.9,179.4,225.6,203.7,124.4,120.7,179.2,248.7,218.7,165.0,132.3,229.8,239.3,180.4,236.2,212.0,165.4,198.9,131.1,148.8,170.4,129.3,174.9,212.1,147.7,129.1,182.5,142.1,228.7,144.7,147.5,161.1,135.7,145.6,186.6,125.3,255.3,145.4,151.7,125.5,151.3,220.4,164.1,196.6,139.8,170.3,211.2,150.7,181.1,146.4,150.1,201.1,186.1,135.3,109.2,133.9,179.9,123.6,200.7,175.4,215.1,165.7,140.3,195.6,190.5,197.7,148.4,187.9,131.8],\"yaxis\":\"y\",\"type\":\"scattergl\"},{\"hovertemplate\":\"Month=OCT\\u003cbr\\u003eYear=%{x}\\u003cbr\\u003eRainfall (mm)=%{y}\\u003cextra\\u003e\\u003c\\u002fextra\\u003e\",\"legendgroup\":\"OCT\",\"line\":{\"color\":\"rgb(180, 151, 231)\",\"dash\":\"solid\"},\"marker\":{\"symbol\":\"circle\"},\"mode\":\"lines\",\"name\":\"OCT\",\"showlegend\":true,\"x\":[1901,1902,1903,1904,1905,1906,1907,1908,1909,1910,1911,1912,1913,1914,1915,1916,1917,1918,1919,1920,1921,1922,1923,1924,1925,1926,1927,1928,1929,1930,1931,1932,1933,1934,1935,1936,1937,1938,1939,1940,1941,1942,1943,1944,1945,1946,1947,1948,1949,1950,1951,1952,1953,1954,1955,1956,1957,1958,1959,1960,1961,1962,1963,1964,1965,1966,1967,1968,1969,1970,1971,1972,1973,1974,1975,1976,1977,1978,1979,1980,1981,1982,1983,1984,1985,1986,1987,1988,1989,1990,1991,1992,1993,1994,1995,1996,1997,1998,1999,2000,2001,2002,2003,2004,2005,2006,2007,2008,2009,2010,2011,2012,2013,2014,2015],\"xaxis\":\"x\",\"y\":[52.7,61.5,117.9,69.0,51.4,49.6,22.7,37.5,38.3,107.4,70.6,55.9,67.0,48.5,90.3,138.2,158.8,20.0,92.5,44.1,71.1,61.0,60.9,66.2,68.8,57.3,69.2,128.8,92.4,94.8,124.5,69.2,94.4,63.5,49.1,66.9,95.4,77.3,91.8,60.9,62.7,35.5,87.5,92.6,81.9,83.4,69.4,59.8,97.7,56.3,73.7,79.6,84.6,73.9,151.3,152.3,65.1,119.5,120.0,69.0,122.8,77.7,98.1,65.9,33.5,56.7,40.3,67.7,54.1,73.9,100.6,66.0,114.3,102.4,120.9,32.0,83.4,48.8,50.1,50.3,43.1,51.9,86.5,60.3,114.7,70.6,93.0,55.1,50.7,103.2,60.4,64.3,86.8,79.9,80.2,95.9,59.0,106.1,116.0,40.6,97.7,54.4,92.7,88.8,96.2,52.3,55.3,50.5,70.1,67.7,36.5,59.8,128.9,60.9,42.9],\"yaxis\":\"y\",\"type\":\"scattergl\"},{\"hovertemplate\":\"Month=NOV\\u003cbr\\u003eYear=%{x}\\u003cbr\\u003eRainfall (mm)=%{y}\\u003cextra\\u003e\\u003c\\u002fextra\\u003e\",\"legendgroup\":\"NOV\",\"line\":{\"color\":\"rgb(179, 179, 179)\",\"dash\":\"solid\"},\"marker\":{\"symbol\":\"circle\"},\"mode\":\"lines\",\"name\":\"NOV\",\"showlegend\":true,\"x\":[1901,1902,1903,1904,1905,1906,1907,1908,1909,1910,1911,1912,1913,1914,1915,1916,1917,1918,1919,1920,1921,1922,1923,1924,1925,1926,1927,1928,1929,1930,1931,1932,1933,1934,1935,1936,1937,1938,1939,1940,1941,1942,1943,1944,1945,1946,1947,1948,1949,1950,1951,1952,1953,1954,1955,1956,1957,1958,1959,1960,1961,1962,1963,1964,1965,1966,1967,1968,1969,1970,1971,1972,1973,1974,1975,1976,1977,1978,1979,1980,1981,1982,1983,1984,1985,1986,1987,1988,1989,1990,1991,1992,1993,1994,1995,1996,1997,1998,1999,2000,2001,2002,2003,2004,2005,2006,2007,2008,2009,2010,2011,2012,2013,2014,2015],\"xaxis\":\"x\",\"y\":[38.0,27.9,36.9,11.2,9.7,17.8,22.5,6.5,9.8,35.0,42.8,50.8,17.4,21.1,44.1,45.6,28.2,41.1,49.8,24.5,14.5,55.5,19.4,57.9,39.9,10.6,55.9,23.6,18.5,54.1,40.6,59.9,20.0,32.9,17.2,55.0,19.8,17.9,28.9,38.8,26.8,18.2,16.7,29.0,16.8,72.7,7.6,71.8,10.1,27.4,31.3,9.1,12.5,3.6,26.1,42.6,27.6,29.9,25.8,31.6,20.5,18.0,27.5,21.9,17.4,49.3,11.4,21.6,37.2,15.8,15.5,30.3,17.7,10.2,22.8,54.4,67.1,48.9,74.2,23.1,27.2,44.6,10.0,13.8,18.5,47.7,43.6,15.6,19.3,29.5,28.8,40.3,28.2,25.6,36.7,13.3,55.5,38.7,19.7,14.7,18.5,14.7,10.2,16.9,27.2,32.1,15.2,25.1,53.2,56.7,18.4,28.9,13.7,13.5,39.4],\"yaxis\":\"y\",\"type\":\"scattergl\"},{\"hovertemplate\":\"Month=DEC\\u003cbr\\u003eYear=%{x}\\u003cbr\\u003eRainfall (mm)=%{y}\\u003cextra\\u003e\\u003c\\u002fextra\\u003e\",\"legendgroup\":\"DEC\",\"line\":{\"color\":\"rgb(102, 197, 204)\",\"dash\":\"solid\"},\"marker\":{\"symbol\":\"circle\"},\"mode\":\"lines\",\"name\":\"DEC\",\"showlegend\":true,\"x\":[1901,1902,1903,1904,1905,1906,1907,1908,1909,1910,1911,1912,1913,1914,1915,1916,1917,1918,1919,1920,1921,1922,1923,1924,1925,1926,1927,1928,1929,1930,1931,1932,1933,1934,1935,1936,1937,1938,1939,1940,1941,1942,1943,1944,1945,1946,1947,1948,1949,1950,1951,1952,1953,1954,1955,1956,1957,1958,1959,1960,1961,1962,1963,1964,1965,1966,1967,1968,1969,1970,1971,1972,1973,1974,1975,1976,1977,1978,1979,1980,1981,1982,1983,1984,1985,1986,1987,1988,1989,1990,1991,1992,1993,1994,1995,1996,1997,1998,1999,2000,2001,2002,2003,2004,2005,2006,2007,2008,2009,2010,2011,2012,2013,2014,2015],\"xaxis\":\"x\",\"y\":[8.3,24.4,17.7,16.3,10.5,23.9,12.1,8.7,30.2,6.4,12.0,5.8,23.9,22.5,8.5,3.1,10.3,16.4,19.5,3.3,17.2,14.5,16.6,16.1,14.4,10.4,10.8,26.6,43.4,9.7,21.0,15.9,16.0,11.7,11.3,23.0,20.4,5.2,1.6,17.4,19.7,24.2,5.2,15.6,5.1,34.9,23.0,9.8,4.9,7.9,5.9,21.8,8.0,13.7,9.6,12.7,14.1,14.7,5.2,8.3,10.2,28.7,14.6,12.5,21.1,17.6,54.4,12.0,12.1,1.7,12.0,22.3,17.4,10.9,3.2,7.4,16.0,18.5,14.2,19.7,14.1,13.7,22.8,15.0,25.5,28.0,21.6,17.2,16.8,28.4,17.5,5.1,15.5,20.1,9.0,17.0,47.5,10.5,3.8,9.6,6.0,5.2,16.6,6.1,11.5,12.7,16.7,10.8,10.8,22.1,6.5,9.6,6.2,10.4,15.0],\"yaxis\":\"y\",\"type\":\"scattergl\"},{\"marker\":{\"color\":\"red\",\"size\":5,\"symbol\":\"circle\"},\"mode\":\"markers\",\"name\":\"Anomalies Months\",\"x\":[1907.0,1911.0,1917.0,1918.0,1967.0,1990.0,1907.0,1911.0,1917.0,1918.0,1967.0,1990.0,1907.0,1911.0,1917.0,1918.0,1967.0,1990.0,1907.0,1911.0,1917.0,1918.0,1967.0,1990.0,1907.0,1911.0,1917.0,1918.0,1967.0,1990.0,1907.0,1911.0,1917.0,1918.0,1967.0,1990.0,1907.0,1911.0,1917.0,1918.0,1967.0,1990.0,1907.0,1911.0,1917.0,1918.0,1967.0,1990.0,1907.0,1911.0,1917.0,1918.0,1967.0,1990.0,1907.0,1911.0,1917.0,1918.0,1967.0,1990.0,1907.0,1911.0,1917.0,1918.0,1967.0,1990.0,1907.0,1911.0,1917.0,1918.0,1967.0,1990.0],\"y\":[16.2,45.7,8.7,12.2,11.2,14.9,46.0,5.6,38.7,4.4,13.4,44.3,37.8,49.9,22.8,41.6,63.3,53.3,62.8,22.8,43.2,38.8,29.1,42.0,32.6,47.6,75.0,102.8,42.4,114.5,154.4,191.9,231.8,212.6,144.9,194.0,225.4,162.7,285.2,183.8,304.6,286.7,310.4,213.5,296.5,242.7,262.9,293.2,96.9,182.3,281.0,109.7,170.4,196.6,22.7,70.6,158.8,20.0,40.3,103.2,22.5,42.8,28.2,41.1,11.4,29.5,12.1,12.0,10.3,16.4,54.4,28.4],\"type\":\"scatter\"}],                        {\"template\":{\"data\":{\"barpolar\":[{\"marker\":{\"line\":{\"color\":\"white\",\"width\":0.5},\"pattern\":{\"fillmode\":\"overlay\",\"size\":10,\"solidity\":0.2}},\"type\":\"barpolar\"}],\"bar\":[{\"error_x\":{\"color\":\"#2a3f5f\"},\"error_y\":{\"color\":\"#2a3f5f\"},\"marker\":{\"line\":{\"color\":\"white\",\"width\":0.5},\"pattern\":{\"fillmode\":\"overlay\",\"size\":10,\"solidity\":0.2}},\"type\":\"bar\"}],\"carpet\":[{\"aaxis\":{\"endlinecolor\":\"#2a3f5f\",\"gridcolor\":\"#C8D4E3\",\"linecolor\":\"#C8D4E3\",\"minorgridcolor\":\"#C8D4E3\",\"startlinecolor\":\"#2a3f5f\"},\"baxis\":{\"endlinecolor\":\"#2a3f5f\",\"gridcolor\":\"#C8D4E3\",\"linecolor\":\"#C8D4E3\",\"minorgridcolor\":\"#C8D4E3\",\"startlinecolor\":\"#2a3f5f\"},\"type\":\"carpet\"}],\"choropleth\":[{\"colorbar\":{\"outlinewidth\":0,\"ticks\":\"\"},\"type\":\"choropleth\"}],\"contourcarpet\":[{\"colorbar\":{\"outlinewidth\":0,\"ticks\":\"\"},\"type\":\"contourcarpet\"}],\"contour\":[{\"colorbar\":{\"outlinewidth\":0,\"ticks\":\"\"},\"colorscale\":[[0.0,\"#0d0887\"],[0.1111111111111111,\"#46039f\"],[0.2222222222222222,\"#7201a8\"],[0.3333333333333333,\"#9c179e\"],[0.4444444444444444,\"#bd3786\"],[0.5555555555555556,\"#d8576b\"],[0.6666666666666666,\"#ed7953\"],[0.7777777777777778,\"#fb9f3a\"],[0.8888888888888888,\"#fdca26\"],[1.0,\"#f0f921\"]],\"type\":\"contour\"}],\"heatmapgl\":[{\"colorbar\":{\"outlinewidth\":0,\"ticks\":\"\"},\"colorscale\":[[0.0,\"#0d0887\"],[0.1111111111111111,\"#46039f\"],[0.2222222222222222,\"#7201a8\"],[0.3333333333333333,\"#9c179e\"],[0.4444444444444444,\"#bd3786\"],[0.5555555555555556,\"#d8576b\"],[0.6666666666666666,\"#ed7953\"],[0.7777777777777778,\"#fb9f3a\"],[0.8888888888888888,\"#fdca26\"],[1.0,\"#f0f921\"]],\"type\":\"heatmapgl\"}],\"heatmap\":[{\"colorbar\":{\"outlinewidth\":0,\"ticks\":\"\"},\"colorscale\":[[0.0,\"#0d0887\"],[0.1111111111111111,\"#46039f\"],[0.2222222222222222,\"#7201a8\"],[0.3333333333333333,\"#9c179e\"],[0.4444444444444444,\"#bd3786\"],[0.5555555555555556,\"#d8576b\"],[0.6666666666666666,\"#ed7953\"],[0.7777777777777778,\"#fb9f3a\"],[0.8888888888888888,\"#fdca26\"],[1.0,\"#f0f921\"]],\"type\":\"heatmap\"}],\"histogram2dcontour\":[{\"colorbar\":{\"outlinewidth\":0,\"ticks\":\"\"},\"colorscale\":[[0.0,\"#0d0887\"],[0.1111111111111111,\"#46039f\"],[0.2222222222222222,\"#7201a8\"],[0.3333333333333333,\"#9c179e\"],[0.4444444444444444,\"#bd3786\"],[0.5555555555555556,\"#d8576b\"],[0.6666666666666666,\"#ed7953\"],[0.7777777777777778,\"#fb9f3a\"],[0.8888888888888888,\"#fdca26\"],[1.0,\"#f0f921\"]],\"type\":\"histogram2dcontour\"}],\"histogram2d\":[{\"colorbar\":{\"outlinewidth\":0,\"ticks\":\"\"},\"colorscale\":[[0.0,\"#0d0887\"],[0.1111111111111111,\"#46039f\"],[0.2222222222222222,\"#7201a8\"],[0.3333333333333333,\"#9c179e\"],[0.4444444444444444,\"#bd3786\"],[0.5555555555555556,\"#d8576b\"],[0.6666666666666666,\"#ed7953\"],[0.7777777777777778,\"#fb9f3a\"],[0.8888888888888888,\"#fdca26\"],[1.0,\"#f0f921\"]],\"type\":\"histogram2d\"}],\"histogram\":[{\"marker\":{\"pattern\":{\"fillmode\":\"overlay\",\"size\":10,\"solidity\":0.2}},\"type\":\"histogram\"}],\"mesh3d\":[{\"colorbar\":{\"outlinewidth\":0,\"ticks\":\"\"},\"type\":\"mesh3d\"}],\"parcoords\":[{\"line\":{\"colorbar\":{\"outlinewidth\":0,\"ticks\":\"\"}},\"type\":\"parcoords\"}],\"pie\":[{\"automargin\":true,\"type\":\"pie\"}],\"scatter3d\":[{\"line\":{\"colorbar\":{\"outlinewidth\":0,\"ticks\":\"\"}},\"marker\":{\"colorbar\":{\"outlinewidth\":0,\"ticks\":\"\"}},\"type\":\"scatter3d\"}],\"scattercarpet\":[{\"marker\":{\"colorbar\":{\"outlinewidth\":0,\"ticks\":\"\"}},\"type\":\"scattercarpet\"}],\"scattergeo\":[{\"marker\":{\"colorbar\":{\"outlinewidth\":0,\"ticks\":\"\"}},\"type\":\"scattergeo\"}],\"scattergl\":[{\"marker\":{\"colorbar\":{\"outlinewidth\":0,\"ticks\":\"\"}},\"type\":\"scattergl\"}],\"scattermapbox\":[{\"marker\":{\"colorbar\":{\"outlinewidth\":0,\"ticks\":\"\"}},\"type\":\"scattermapbox\"}],\"scatterpolargl\":[{\"marker\":{\"colorbar\":{\"outlinewidth\":0,\"ticks\":\"\"}},\"type\":\"scatterpolargl\"}],\"scatterpolar\":[{\"marker\":{\"colorbar\":{\"outlinewidth\":0,\"ticks\":\"\"}},\"type\":\"scatterpolar\"}],\"scatter\":[{\"fillpattern\":{\"fillmode\":\"overlay\",\"size\":10,\"solidity\":0.2},\"type\":\"scatter\"}],\"scatterternary\":[{\"marker\":{\"colorbar\":{\"outlinewidth\":0,\"ticks\":\"\"}},\"type\":\"scatterternary\"}],\"surface\":[{\"colorbar\":{\"outlinewidth\":0,\"ticks\":\"\"},\"colorscale\":[[0.0,\"#0d0887\"],[0.1111111111111111,\"#46039f\"],[0.2222222222222222,\"#7201a8\"],[0.3333333333333333,\"#9c179e\"],[0.4444444444444444,\"#bd3786\"],[0.5555555555555556,\"#d8576b\"],[0.6666666666666666,\"#ed7953\"],[0.7777777777777778,\"#fb9f3a\"],[0.8888888888888888,\"#fdca26\"],[1.0,\"#f0f921\"]],\"type\":\"surface\"}],\"table\":[{\"cells\":{\"fill\":{\"color\":\"#EBF0F8\"},\"line\":{\"color\":\"white\"}},\"header\":{\"fill\":{\"color\":\"#C8D4E3\"},\"line\":{\"color\":\"white\"}},\"type\":\"table\"}]},\"layout\":{\"annotationdefaults\":{\"arrowcolor\":\"#2a3f5f\",\"arrowhead\":0,\"arrowwidth\":1},\"autotypenumbers\":\"strict\",\"coloraxis\":{\"colorbar\":{\"outlinewidth\":0,\"ticks\":\"\"}},\"colorscale\":{\"diverging\":[[0,\"#8e0152\"],[0.1,\"#c51b7d\"],[0.2,\"#de77ae\"],[0.3,\"#f1b6da\"],[0.4,\"#fde0ef\"],[0.5,\"#f7f7f7\"],[0.6,\"#e6f5d0\"],[0.7,\"#b8e186\"],[0.8,\"#7fbc41\"],[0.9,\"#4d9221\"],[1,\"#276419\"]],\"sequential\":[[0.0,\"#0d0887\"],[0.1111111111111111,\"#46039f\"],[0.2222222222222222,\"#7201a8\"],[0.3333333333333333,\"#9c179e\"],[0.4444444444444444,\"#bd3786\"],[0.5555555555555556,\"#d8576b\"],[0.6666666666666666,\"#ed7953\"],[0.7777777777777778,\"#fb9f3a\"],[0.8888888888888888,\"#fdca26\"],[1.0,\"#f0f921\"]],\"sequentialminus\":[[0.0,\"#0d0887\"],[0.1111111111111111,\"#46039f\"],[0.2222222222222222,\"#7201a8\"],[0.3333333333333333,\"#9c179e\"],[0.4444444444444444,\"#bd3786\"],[0.5555555555555556,\"#d8576b\"],[0.6666666666666666,\"#ed7953\"],[0.7777777777777778,\"#fb9f3a\"],[0.8888888888888888,\"#fdca26\"],[1.0,\"#f0f921\"]]},\"colorway\":[\"#636efa\",\"#EF553B\",\"#00cc96\",\"#ab63fa\",\"#FFA15A\",\"#19d3f3\",\"#FF6692\",\"#B6E880\",\"#FF97FF\",\"#FECB52\"],\"font\":{\"color\":\"#2a3f5f\"},\"geo\":{\"bgcolor\":\"white\",\"lakecolor\":\"white\",\"landcolor\":\"white\",\"showlakes\":true,\"showland\":true,\"subunitcolor\":\"#C8D4E3\"},\"hoverlabel\":{\"align\":\"left\"},\"hovermode\":\"closest\",\"mapbox\":{\"style\":\"light\"},\"paper_bgcolor\":\"white\",\"plot_bgcolor\":\"white\",\"polar\":{\"angularaxis\":{\"gridcolor\":\"#EBF0F8\",\"linecolor\":\"#EBF0F8\",\"ticks\":\"\"},\"bgcolor\":\"white\",\"radialaxis\":{\"gridcolor\":\"#EBF0F8\",\"linecolor\":\"#EBF0F8\",\"ticks\":\"\"}},\"scene\":{\"xaxis\":{\"backgroundcolor\":\"white\",\"gridcolor\":\"#DFE8F3\",\"gridwidth\":2,\"linecolor\":\"#EBF0F8\",\"showbackground\":true,\"ticks\":\"\",\"zerolinecolor\":\"#EBF0F8\"},\"yaxis\":{\"backgroundcolor\":\"white\",\"gridcolor\":\"#DFE8F3\",\"gridwidth\":2,\"linecolor\":\"#EBF0F8\",\"showbackground\":true,\"ticks\":\"\",\"zerolinecolor\":\"#EBF0F8\"},\"zaxis\":{\"backgroundcolor\":\"white\",\"gridcolor\":\"#DFE8F3\",\"gridwidth\":2,\"linecolor\":\"#EBF0F8\",\"showbackground\":true,\"ticks\":\"\",\"zerolinecolor\":\"#EBF0F8\"}},\"shapedefaults\":{\"line\":{\"color\":\"#2a3f5f\"}},\"ternary\":{\"aaxis\":{\"gridcolor\":\"#DFE8F3\",\"linecolor\":\"#A2B1C6\",\"ticks\":\"\"},\"baxis\":{\"gridcolor\":\"#DFE8F3\",\"linecolor\":\"#A2B1C6\",\"ticks\":\"\"},\"bgcolor\":\"white\",\"caxis\":{\"gridcolor\":\"#DFE8F3\",\"linecolor\":\"#A2B1C6\",\"ticks\":\"\"}},\"title\":{\"x\":0.05},\"xaxis\":{\"automargin\":true,\"gridcolor\":\"#EBF0F8\",\"linecolor\":\"#EBF0F8\",\"ticks\":\"\",\"title\":{\"standoff\":15},\"zerolinecolor\":\"#EBF0F8\",\"zerolinewidth\":2},\"yaxis\":{\"automargin\":true,\"gridcolor\":\"#EBF0F8\",\"linecolor\":\"#EBF0F8\",\"ticks\":\"\",\"title\":{\"standoff\":15},\"zerolinecolor\":\"#EBF0F8\",\"zerolinewidth\":2}}},\"xaxis\":{\"anchor\":\"y\",\"domain\":[0.0,1.0],\"title\":{\"text\":\"Year\"}},\"yaxis\":{\"anchor\":\"x\",\"domain\":[0.0,1.0],\"title\":{\"text\":\"Rainfall (mm)\"}},\"legend\":{\"title\":{\"text\":\"Legend\"},\"tracegroupgap\":0},\"title\":{\"text\":\"Monthly Rainfall Anomalies in India (1901-2015)\"},\"height\":500,\"width\":800},                        {\"responsive\": true}                    ).then(function(){\n",
              "                            \n",
              "var gd = document.getElementById('4351ba2d-42ca-4975-a73c-8c718417fd10');\n",
              "var x = new MutationObserver(function (mutations, observer) {{\n",
              "        var display = window.getComputedStyle(gd).display;\n",
              "        if (!display || display === 'none') {{\n",
              "            console.log([gd, 'removed!']);\n",
              "            Plotly.purge(gd);\n",
              "            observer.disconnect();\n",
              "        }}\n",
              "}});\n",
              "\n",
              "// Listen for the removal of the full notebook cells\n",
              "var notebookContainer = gd.closest('#notebook-container');\n",
              "if (notebookContainer) {{\n",
              "    x.observe(notebookContainer, {childList: true});\n",
              "}}\n",
              "\n",
              "// Listen for the clearing of the current output cell\n",
              "var outputEl = gd.closest('.output');\n",
              "if (outputEl) {{\n",
              "    x.observe(outputEl, {childList: true});\n",
              "}}\n",
              "\n",
              "                        })                };                            </script>        </div>\n",
              "</body>\n",
              "</html>"
            ]
          },
          "metadata": {}
        }
      ]
    },
    {
      "cell_type": "code",
      "source": [],
      "metadata": {
        "id": "oHjlJ2f2VsWR"
      },
      "execution_count": null,
      "outputs": []
    },
    {
      "cell_type": "markdown",
      "source": [
        "# Correlating Seasonal Rainfall with Annual Totals"
      ],
      "metadata": {
        "id": "IhjX7pVzbOZc"
      }
    },
    {
      "cell_type": "markdown",
      "source": [
        "we will calculate the correlation coefficients between seasonal rainfall and annual rainfall totals to understand how much each season contributes to the overall yearly rainfall:"
      ],
      "metadata": {
        "id": "nQGonKDNbUsf"
      }
    },
    {
      "cell_type": "markdown",
      "source": [],
      "metadata": {
        "id": "I-Giv4gObSXB"
      }
    },
    {
      "cell_type": "code",
      "source": [
        "#correlation analysis between monsoon (Jun-Sep) rainfall and other seasons\n",
        "seasonal_column = ['Jan-Feb', 'Mar-May', 'Jun-Sep', 'Oct-Dec']\n",
        "monsoon_column = 'Jun-Sep'\n",
        "relationship ={}"
      ],
      "metadata": {
        "id": "Fn-K018qbYuq"
      },
      "execution_count": 11,
      "outputs": []
    },
    {
      "cell_type": "code",
      "source": [
        "for season in seasonal_column:\n",
        "  if season != monsoon_column:\n",
        "    corr, _ = pearsonr(rainfall_data[season], rainfall_data[monsoon_column])\n",
        "    relationship[season] = corr\n",
        "\n",
        "correlational_data = pd.DataFrame({\n",
        "    'Season': list(relationship.keys()),\n",
        "    'Correlation': list(relationship.values())\n",
        "})\n",
        "correlational_data.head()"
      ],
      "metadata": {
        "colab": {
          "base_uri": "https://localhost:8080/",
          "height": 143
        },
        "id": "n4yVFnsXMyZW",
        "outputId": "743b325f-523c-465d-fdd7-b41238b0c772"
      },
      "execution_count": 15,
      "outputs": [
        {
          "output_type": "execute_result",
          "data": {
            "text/plain": [
              "    Season  Correlation\n",
              "0  Jan-Feb     0.142731\n",
              "1  Mar-May     0.104340\n",
              "2  Oct-Dec     0.286520"
            ],
            "text/html": [
              "\n",
              "  <div id=\"df-9fb72292-278c-4547-a302-5d0e3665f444\" class=\"colab-df-container\">\n",
              "    <div>\n",
              "<style scoped>\n",
              "    .dataframe tbody tr th:only-of-type {\n",
              "        vertical-align: middle;\n",
              "    }\n",
              "\n",
              "    .dataframe tbody tr th {\n",
              "        vertical-align: top;\n",
              "    }\n",
              "\n",
              "    .dataframe thead th {\n",
              "        text-align: right;\n",
              "    }\n",
              "</style>\n",
              "<table border=\"1\" class=\"dataframe\">\n",
              "  <thead>\n",
              "    <tr style=\"text-align: right;\">\n",
              "      <th></th>\n",
              "      <th>Season</th>\n",
              "      <th>Correlation</th>\n",
              "    </tr>\n",
              "  </thead>\n",
              "  <tbody>\n",
              "    <tr>\n",
              "      <th>0</th>\n",
              "      <td>Jan-Feb</td>\n",
              "      <td>0.142731</td>\n",
              "    </tr>\n",
              "    <tr>\n",
              "      <th>1</th>\n",
              "      <td>Mar-May</td>\n",
              "      <td>0.104340</td>\n",
              "    </tr>\n",
              "    <tr>\n",
              "      <th>2</th>\n",
              "      <td>Oct-Dec</td>\n",
              "      <td>0.286520</td>\n",
              "    </tr>\n",
              "  </tbody>\n",
              "</table>\n",
              "</div>\n",
              "    <div class=\"colab-df-buttons\">\n",
              "\n",
              "  <div class=\"colab-df-container\">\n",
              "    <button class=\"colab-df-convert\" onclick=\"convertToInteractive('df-9fb72292-278c-4547-a302-5d0e3665f444')\"\n",
              "            title=\"Convert this dataframe to an interactive table.\"\n",
              "            style=\"display:none;\">\n",
              "\n",
              "  <svg xmlns=\"http://www.w3.org/2000/svg\" height=\"24px\" viewBox=\"0 -960 960 960\">\n",
              "    <path d=\"M120-120v-720h720v720H120Zm60-500h600v-160H180v160Zm220 220h160v-160H400v160Zm0 220h160v-160H400v160ZM180-400h160v-160H180v160Zm440 0h160v-160H620v160ZM180-180h160v-160H180v160Zm440 0h160v-160H620v160Z\"/>\n",
              "  </svg>\n",
              "    </button>\n",
              "\n",
              "  <style>\n",
              "    .colab-df-container {\n",
              "      display:flex;\n",
              "      gap: 12px;\n",
              "    }\n",
              "\n",
              "    .colab-df-convert {\n",
              "      background-color: #E8F0FE;\n",
              "      border: none;\n",
              "      border-radius: 50%;\n",
              "      cursor: pointer;\n",
              "      display: none;\n",
              "      fill: #1967D2;\n",
              "      height: 32px;\n",
              "      padding: 0 0 0 0;\n",
              "      width: 32px;\n",
              "    }\n",
              "\n",
              "    .colab-df-convert:hover {\n",
              "      background-color: #E2EBFA;\n",
              "      box-shadow: 0px 1px 2px rgba(60, 64, 67, 0.3), 0px 1px 3px 1px rgba(60, 64, 67, 0.15);\n",
              "      fill: #174EA6;\n",
              "    }\n",
              "\n",
              "    .colab-df-buttons div {\n",
              "      margin-bottom: 4px;\n",
              "    }\n",
              "\n",
              "    [theme=dark] .colab-df-convert {\n",
              "      background-color: #3B4455;\n",
              "      fill: #D2E3FC;\n",
              "    }\n",
              "\n",
              "    [theme=dark] .colab-df-convert:hover {\n",
              "      background-color: #434B5C;\n",
              "      box-shadow: 0px 1px 3px 1px rgba(0, 0, 0, 0.15);\n",
              "      filter: drop-shadow(0px 1px 2px rgba(0, 0, 0, 0.3));\n",
              "      fill: #FFFFFF;\n",
              "    }\n",
              "  </style>\n",
              "\n",
              "    <script>\n",
              "      const buttonEl =\n",
              "        document.querySelector('#df-9fb72292-278c-4547-a302-5d0e3665f444 button.colab-df-convert');\n",
              "      buttonEl.style.display =\n",
              "        google.colab.kernel.accessAllowed ? 'block' : 'none';\n",
              "\n",
              "      async function convertToInteractive(key) {\n",
              "        const element = document.querySelector('#df-9fb72292-278c-4547-a302-5d0e3665f444');\n",
              "        const dataTable =\n",
              "          await google.colab.kernel.invokeFunction('convertToInteractive',\n",
              "                                                    [key], {});\n",
              "        if (!dataTable) return;\n",
              "\n",
              "        const docLinkHtml = 'Like what you see? Visit the ' +\n",
              "          '<a target=\"_blank\" href=https://colab.research.google.com/notebooks/data_table.ipynb>data table notebook</a>'\n",
              "          + ' to learn more about interactive tables.';\n",
              "        element.innerHTML = '';\n",
              "        dataTable['output_type'] = 'display_data';\n",
              "        await google.colab.output.renderOutput(dataTable, element);\n",
              "        const docLink = document.createElement('div');\n",
              "        docLink.innerHTML = docLinkHtml;\n",
              "        element.appendChild(docLink);\n",
              "      }\n",
              "    </script>\n",
              "  </div>\n",
              "\n",
              "\n",
              "<div id=\"df-582dc7e6-c8d3-4a3d-860c-e1388ac0ca5e\">\n",
              "  <button class=\"colab-df-quickchart\" onclick=\"quickchart('df-582dc7e6-c8d3-4a3d-860c-e1388ac0ca5e')\"\n",
              "            title=\"Suggest charts\"\n",
              "            style=\"display:none;\">\n",
              "\n",
              "<svg xmlns=\"http://www.w3.org/2000/svg\" height=\"24px\"viewBox=\"0 0 24 24\"\n",
              "     width=\"24px\">\n",
              "    <g>\n",
              "        <path d=\"M19 3H5c-1.1 0-2 .9-2 2v14c0 1.1.9 2 2 2h14c1.1 0 2-.9 2-2V5c0-1.1-.9-2-2-2zM9 17H7v-7h2v7zm4 0h-2V7h2v10zm4 0h-2v-4h2v4z\"/>\n",
              "    </g>\n",
              "</svg>\n",
              "  </button>\n",
              "\n",
              "<style>\n",
              "  .colab-df-quickchart {\n",
              "      --bg-color: #E8F0FE;\n",
              "      --fill-color: #1967D2;\n",
              "      --hover-bg-color: #E2EBFA;\n",
              "      --hover-fill-color: #174EA6;\n",
              "      --disabled-fill-color: #AAA;\n",
              "      --disabled-bg-color: #DDD;\n",
              "  }\n",
              "\n",
              "  [theme=dark] .colab-df-quickchart {\n",
              "      --bg-color: #3B4455;\n",
              "      --fill-color: #D2E3FC;\n",
              "      --hover-bg-color: #434B5C;\n",
              "      --hover-fill-color: #FFFFFF;\n",
              "      --disabled-bg-color: #3B4455;\n",
              "      --disabled-fill-color: #666;\n",
              "  }\n",
              "\n",
              "  .colab-df-quickchart {\n",
              "    background-color: var(--bg-color);\n",
              "    border: none;\n",
              "    border-radius: 50%;\n",
              "    cursor: pointer;\n",
              "    display: none;\n",
              "    fill: var(--fill-color);\n",
              "    height: 32px;\n",
              "    padding: 0;\n",
              "    width: 32px;\n",
              "  }\n",
              "\n",
              "  .colab-df-quickchart:hover {\n",
              "    background-color: var(--hover-bg-color);\n",
              "    box-shadow: 0 1px 2px rgba(60, 64, 67, 0.3), 0 1px 3px 1px rgba(60, 64, 67, 0.15);\n",
              "    fill: var(--button-hover-fill-color);\n",
              "  }\n",
              "\n",
              "  .colab-df-quickchart-complete:disabled,\n",
              "  .colab-df-quickchart-complete:disabled:hover {\n",
              "    background-color: var(--disabled-bg-color);\n",
              "    fill: var(--disabled-fill-color);\n",
              "    box-shadow: none;\n",
              "  }\n",
              "\n",
              "  .colab-df-spinner {\n",
              "    border: 2px solid var(--fill-color);\n",
              "    border-color: transparent;\n",
              "    border-bottom-color: var(--fill-color);\n",
              "    animation:\n",
              "      spin 1s steps(1) infinite;\n",
              "  }\n",
              "\n",
              "  @keyframes spin {\n",
              "    0% {\n",
              "      border-color: transparent;\n",
              "      border-bottom-color: var(--fill-color);\n",
              "      border-left-color: var(--fill-color);\n",
              "    }\n",
              "    20% {\n",
              "      border-color: transparent;\n",
              "      border-left-color: var(--fill-color);\n",
              "      border-top-color: var(--fill-color);\n",
              "    }\n",
              "    30% {\n",
              "      border-color: transparent;\n",
              "      border-left-color: var(--fill-color);\n",
              "      border-top-color: var(--fill-color);\n",
              "      border-right-color: var(--fill-color);\n",
              "    }\n",
              "    40% {\n",
              "      border-color: transparent;\n",
              "      border-right-color: var(--fill-color);\n",
              "      border-top-color: var(--fill-color);\n",
              "    }\n",
              "    60% {\n",
              "      border-color: transparent;\n",
              "      border-right-color: var(--fill-color);\n",
              "    }\n",
              "    80% {\n",
              "      border-color: transparent;\n",
              "      border-right-color: var(--fill-color);\n",
              "      border-bottom-color: var(--fill-color);\n",
              "    }\n",
              "    90% {\n",
              "      border-color: transparent;\n",
              "      border-bottom-color: var(--fill-color);\n",
              "    }\n",
              "  }\n",
              "</style>\n",
              "\n",
              "  <script>\n",
              "    async function quickchart(key) {\n",
              "      const quickchartButtonEl =\n",
              "        document.querySelector('#' + key + ' button');\n",
              "      quickchartButtonEl.disabled = true;  // To prevent multiple clicks.\n",
              "      quickchartButtonEl.classList.add('colab-df-spinner');\n",
              "      try {\n",
              "        const charts = await google.colab.kernel.invokeFunction(\n",
              "            'suggestCharts', [key], {});\n",
              "      } catch (error) {\n",
              "        console.error('Error during call to suggestCharts:', error);\n",
              "      }\n",
              "      quickchartButtonEl.classList.remove('colab-df-spinner');\n",
              "      quickchartButtonEl.classList.add('colab-df-quickchart-complete');\n",
              "    }\n",
              "    (() => {\n",
              "      let quickchartButtonEl =\n",
              "        document.querySelector('#df-582dc7e6-c8d3-4a3d-860c-e1388ac0ca5e button');\n",
              "      quickchartButtonEl.style.display =\n",
              "        google.colab.kernel.accessAllowed ? 'block' : 'none';\n",
              "    })();\n",
              "  </script>\n",
              "</div>\n",
              "\n",
              "    </div>\n",
              "  </div>\n"
            ],
            "application/vnd.google.colaboratory.intrinsic+json": {
              "type": "dataframe",
              "variable_name": "correlational_data",
              "summary": "{\n  \"name\": \"correlational_data\",\n  \"rows\": 3,\n  \"fields\": [\n    {\n      \"column\": \"Season\",\n      \"properties\": {\n        \"dtype\": \"string\",\n        \"num_unique_values\": 3,\n        \"samples\": [\n          \"Jan-Feb\",\n          \"Mar-May\",\n          \"Oct-Dec\"\n        ],\n        \"semantic_type\": \"\",\n        \"description\": \"\"\n      }\n    },\n    {\n      \"column\": \"Correlation\",\n      \"properties\": {\n        \"dtype\": \"number\",\n        \"std\": 0.09603680512356116,\n        \"min\": 0.10433984966925228,\n        \"max\": 0.2865195645352356,\n        \"num_unique_values\": 3,\n        \"samples\": [\n          0.14273134438067206,\n          0.10433984966925228,\n          0.2865195645352356\n        ],\n        \"semantic_type\": \"\",\n        \"description\": \"\"\n      }\n    }\n  ]\n}"
            }
          },
          "metadata": {},
          "execution_count": 15
        }
      ]
    },
    {
      "cell_type": "code",
      "source": [
        "#plotting\n",
        "fig_correlation = px.bar(\n",
        "    correlational_data,\n",
        "    x='Season',\n",
        "    y='Correlation',\n",
        "    labels={'Season': 'Season', 'Correlation': 'Correlation Coefficient'},\n",
        "    title='Correlation between Seasonal Rainfall and Monsoon Rainfall(Jun-Sep)',\n",
        "    color='Correlation',\n",
        "    color_continuous_scale='RdBu',\n",
        "    text='Correlation'\n",
        ")\n",
        "fig_correlation.update_traces(marker_line_color='black',marker_line_width=1.5, opacity=0.6,texttemplate='%{text:.2f}')\n",
        "fig_correlation.update_layout(\n",
        "    template='plotly_white',\n",
        "    height=500,\n",
        ")\n",
        "fig_correlation.add_hline(\n",
        "    y=0,\n",
        "    line_dash=\"dash\",\n",
        "    line_color=\"red\",\n",
        "    annotation_text=\"No Correlation\",\n",
        "    annotation_position=\"left bottom\"\n",
        "    )\n",
        "fig_correlation.show()"
      ],
      "metadata": {
        "colab": {
          "base_uri": "https://localhost:8080/",
          "height": 517
        },
        "id": "OwB1CvMiNc71",
        "outputId": "251d179a-e012-4ac8-88e5-fe7af960ff9a"
      },
      "execution_count": 25,
      "outputs": [
        {
          "output_type": "display_data",
          "data": {
            "text/html": [
              "<html>\n",
              "<head><meta charset=\"utf-8\" /></head>\n",
              "<body>\n",
              "    <div>            <script src=\"https://cdnjs.cloudflare.com/ajax/libs/mathjax/2.7.5/MathJax.js?config=TeX-AMS-MML_SVG\"></script><script type=\"text/javascript\">if (window.MathJax && window.MathJax.Hub && window.MathJax.Hub.Config) {window.MathJax.Hub.Config({SVG: {font: \"STIX-Web\"}});}</script>                <script type=\"text/javascript\">window.PlotlyConfig = {MathJaxConfig: 'local'};</script>\n",
              "        <script charset=\"utf-8\" src=\"https://cdn.plot.ly/plotly-2.35.2.min.js\"></script>                <div id=\"9e6f3d90-3937-4bc6-bd84-c83b0fde446a\" class=\"plotly-graph-div\" style=\"height:500px; width:100%;\"></div>            <script type=\"text/javascript\">                                    window.PLOTLYENV=window.PLOTLYENV || {};                                    if (document.getElementById(\"9e6f3d90-3937-4bc6-bd84-c83b0fde446a\")) {                    Plotly.newPlot(                        \"9e6f3d90-3937-4bc6-bd84-c83b0fde446a\",                        [{\"alignmentgroup\":\"True\",\"hovertemplate\":\"Season=%{x}\\u003cbr\\u003eCorrelation Coefficient=%{marker.color}\\u003cextra\\u003e\\u003c\\u002fextra\\u003e\",\"legendgroup\":\"\",\"marker\":{\"color\":[0.14273134438067206,0.10433984966925228,0.2865195645352356],\"coloraxis\":\"coloraxis\",\"pattern\":{\"shape\":\"\"},\"line\":{\"color\":\"black\",\"width\":1.5}},\"name\":\"\",\"offsetgroup\":\"\",\"orientation\":\"v\",\"showlegend\":false,\"text\":[0.14273134438067206,0.10433984966925228,0.2865195645352356],\"textposition\":\"auto\",\"x\":[\"Jan-Feb\",\"Mar-May\",\"Oct-Dec\"],\"xaxis\":\"x\",\"y\":[0.14273134438067206,0.10433984966925228,0.2865195645352356],\"yaxis\":\"y\",\"type\":\"bar\",\"opacity\":0.6,\"texttemplate\":\"%{text:.2f}\"}],                        {\"template\":{\"data\":{\"barpolar\":[{\"marker\":{\"line\":{\"color\":\"white\",\"width\":0.5},\"pattern\":{\"fillmode\":\"overlay\",\"size\":10,\"solidity\":0.2}},\"type\":\"barpolar\"}],\"bar\":[{\"error_x\":{\"color\":\"#2a3f5f\"},\"error_y\":{\"color\":\"#2a3f5f\"},\"marker\":{\"line\":{\"color\":\"white\",\"width\":0.5},\"pattern\":{\"fillmode\":\"overlay\",\"size\":10,\"solidity\":0.2}},\"type\":\"bar\"}],\"carpet\":[{\"aaxis\":{\"endlinecolor\":\"#2a3f5f\",\"gridcolor\":\"#C8D4E3\",\"linecolor\":\"#C8D4E3\",\"minorgridcolor\":\"#C8D4E3\",\"startlinecolor\":\"#2a3f5f\"},\"baxis\":{\"endlinecolor\":\"#2a3f5f\",\"gridcolor\":\"#C8D4E3\",\"linecolor\":\"#C8D4E3\",\"minorgridcolor\":\"#C8D4E3\",\"startlinecolor\":\"#2a3f5f\"},\"type\":\"carpet\"}],\"choropleth\":[{\"colorbar\":{\"outlinewidth\":0,\"ticks\":\"\"},\"type\":\"choropleth\"}],\"contourcarpet\":[{\"colorbar\":{\"outlinewidth\":0,\"ticks\":\"\"},\"type\":\"contourcarpet\"}],\"contour\":[{\"colorbar\":{\"outlinewidth\":0,\"ticks\":\"\"},\"colorscale\":[[0.0,\"#0d0887\"],[0.1111111111111111,\"#46039f\"],[0.2222222222222222,\"#7201a8\"],[0.3333333333333333,\"#9c179e\"],[0.4444444444444444,\"#bd3786\"],[0.5555555555555556,\"#d8576b\"],[0.6666666666666666,\"#ed7953\"],[0.7777777777777778,\"#fb9f3a\"],[0.8888888888888888,\"#fdca26\"],[1.0,\"#f0f921\"]],\"type\":\"contour\"}],\"heatmapgl\":[{\"colorbar\":{\"outlinewidth\":0,\"ticks\":\"\"},\"colorscale\":[[0.0,\"#0d0887\"],[0.1111111111111111,\"#46039f\"],[0.2222222222222222,\"#7201a8\"],[0.3333333333333333,\"#9c179e\"],[0.4444444444444444,\"#bd3786\"],[0.5555555555555556,\"#d8576b\"],[0.6666666666666666,\"#ed7953\"],[0.7777777777777778,\"#fb9f3a\"],[0.8888888888888888,\"#fdca26\"],[1.0,\"#f0f921\"]],\"type\":\"heatmapgl\"}],\"heatmap\":[{\"colorbar\":{\"outlinewidth\":0,\"ticks\":\"\"},\"colorscale\":[[0.0,\"#0d0887\"],[0.1111111111111111,\"#46039f\"],[0.2222222222222222,\"#7201a8\"],[0.3333333333333333,\"#9c179e\"],[0.4444444444444444,\"#bd3786\"],[0.5555555555555556,\"#d8576b\"],[0.6666666666666666,\"#ed7953\"],[0.7777777777777778,\"#fb9f3a\"],[0.8888888888888888,\"#fdca26\"],[1.0,\"#f0f921\"]],\"type\":\"heatmap\"}],\"histogram2dcontour\":[{\"colorbar\":{\"outlinewidth\":0,\"ticks\":\"\"},\"colorscale\":[[0.0,\"#0d0887\"],[0.1111111111111111,\"#46039f\"],[0.2222222222222222,\"#7201a8\"],[0.3333333333333333,\"#9c179e\"],[0.4444444444444444,\"#bd3786\"],[0.5555555555555556,\"#d8576b\"],[0.6666666666666666,\"#ed7953\"],[0.7777777777777778,\"#fb9f3a\"],[0.8888888888888888,\"#fdca26\"],[1.0,\"#f0f921\"]],\"type\":\"histogram2dcontour\"}],\"histogram2d\":[{\"colorbar\":{\"outlinewidth\":0,\"ticks\":\"\"},\"colorscale\":[[0.0,\"#0d0887\"],[0.1111111111111111,\"#46039f\"],[0.2222222222222222,\"#7201a8\"],[0.3333333333333333,\"#9c179e\"],[0.4444444444444444,\"#bd3786\"],[0.5555555555555556,\"#d8576b\"],[0.6666666666666666,\"#ed7953\"],[0.7777777777777778,\"#fb9f3a\"],[0.8888888888888888,\"#fdca26\"],[1.0,\"#f0f921\"]],\"type\":\"histogram2d\"}],\"histogram\":[{\"marker\":{\"pattern\":{\"fillmode\":\"overlay\",\"size\":10,\"solidity\":0.2}},\"type\":\"histogram\"}],\"mesh3d\":[{\"colorbar\":{\"outlinewidth\":0,\"ticks\":\"\"},\"type\":\"mesh3d\"}],\"parcoords\":[{\"line\":{\"colorbar\":{\"outlinewidth\":0,\"ticks\":\"\"}},\"type\":\"parcoords\"}],\"pie\":[{\"automargin\":true,\"type\":\"pie\"}],\"scatter3d\":[{\"line\":{\"colorbar\":{\"outlinewidth\":0,\"ticks\":\"\"}},\"marker\":{\"colorbar\":{\"outlinewidth\":0,\"ticks\":\"\"}},\"type\":\"scatter3d\"}],\"scattercarpet\":[{\"marker\":{\"colorbar\":{\"outlinewidth\":0,\"ticks\":\"\"}},\"type\":\"scattercarpet\"}],\"scattergeo\":[{\"marker\":{\"colorbar\":{\"outlinewidth\":0,\"ticks\":\"\"}},\"type\":\"scattergeo\"}],\"scattergl\":[{\"marker\":{\"colorbar\":{\"outlinewidth\":0,\"ticks\":\"\"}},\"type\":\"scattergl\"}],\"scattermapbox\":[{\"marker\":{\"colorbar\":{\"outlinewidth\":0,\"ticks\":\"\"}},\"type\":\"scattermapbox\"}],\"scatterpolargl\":[{\"marker\":{\"colorbar\":{\"outlinewidth\":0,\"ticks\":\"\"}},\"type\":\"scatterpolargl\"}],\"scatterpolar\":[{\"marker\":{\"colorbar\":{\"outlinewidth\":0,\"ticks\":\"\"}},\"type\":\"scatterpolar\"}],\"scatter\":[{\"fillpattern\":{\"fillmode\":\"overlay\",\"size\":10,\"solidity\":0.2},\"type\":\"scatter\"}],\"scatterternary\":[{\"marker\":{\"colorbar\":{\"outlinewidth\":0,\"ticks\":\"\"}},\"type\":\"scatterternary\"}],\"surface\":[{\"colorbar\":{\"outlinewidth\":0,\"ticks\":\"\"},\"colorscale\":[[0.0,\"#0d0887\"],[0.1111111111111111,\"#46039f\"],[0.2222222222222222,\"#7201a8\"],[0.3333333333333333,\"#9c179e\"],[0.4444444444444444,\"#bd3786\"],[0.5555555555555556,\"#d8576b\"],[0.6666666666666666,\"#ed7953\"],[0.7777777777777778,\"#fb9f3a\"],[0.8888888888888888,\"#fdca26\"],[1.0,\"#f0f921\"]],\"type\":\"surface\"}],\"table\":[{\"cells\":{\"fill\":{\"color\":\"#EBF0F8\"},\"line\":{\"color\":\"white\"}},\"header\":{\"fill\":{\"color\":\"#C8D4E3\"},\"line\":{\"color\":\"white\"}},\"type\":\"table\"}]},\"layout\":{\"annotationdefaults\":{\"arrowcolor\":\"#2a3f5f\",\"arrowhead\":0,\"arrowwidth\":1},\"autotypenumbers\":\"strict\",\"coloraxis\":{\"colorbar\":{\"outlinewidth\":0,\"ticks\":\"\"}},\"colorscale\":{\"diverging\":[[0,\"#8e0152\"],[0.1,\"#c51b7d\"],[0.2,\"#de77ae\"],[0.3,\"#f1b6da\"],[0.4,\"#fde0ef\"],[0.5,\"#f7f7f7\"],[0.6,\"#e6f5d0\"],[0.7,\"#b8e186\"],[0.8,\"#7fbc41\"],[0.9,\"#4d9221\"],[1,\"#276419\"]],\"sequential\":[[0.0,\"#0d0887\"],[0.1111111111111111,\"#46039f\"],[0.2222222222222222,\"#7201a8\"],[0.3333333333333333,\"#9c179e\"],[0.4444444444444444,\"#bd3786\"],[0.5555555555555556,\"#d8576b\"],[0.6666666666666666,\"#ed7953\"],[0.7777777777777778,\"#fb9f3a\"],[0.8888888888888888,\"#fdca26\"],[1.0,\"#f0f921\"]],\"sequentialminus\":[[0.0,\"#0d0887\"],[0.1111111111111111,\"#46039f\"],[0.2222222222222222,\"#7201a8\"],[0.3333333333333333,\"#9c179e\"],[0.4444444444444444,\"#bd3786\"],[0.5555555555555556,\"#d8576b\"],[0.6666666666666666,\"#ed7953\"],[0.7777777777777778,\"#fb9f3a\"],[0.8888888888888888,\"#fdca26\"],[1.0,\"#f0f921\"]]},\"colorway\":[\"#636efa\",\"#EF553B\",\"#00cc96\",\"#ab63fa\",\"#FFA15A\",\"#19d3f3\",\"#FF6692\",\"#B6E880\",\"#FF97FF\",\"#FECB52\"],\"font\":{\"color\":\"#2a3f5f\"},\"geo\":{\"bgcolor\":\"white\",\"lakecolor\":\"white\",\"landcolor\":\"white\",\"showlakes\":true,\"showland\":true,\"subunitcolor\":\"#C8D4E3\"},\"hoverlabel\":{\"align\":\"left\"},\"hovermode\":\"closest\",\"mapbox\":{\"style\":\"light\"},\"paper_bgcolor\":\"white\",\"plot_bgcolor\":\"white\",\"polar\":{\"angularaxis\":{\"gridcolor\":\"#EBF0F8\",\"linecolor\":\"#EBF0F8\",\"ticks\":\"\"},\"bgcolor\":\"white\",\"radialaxis\":{\"gridcolor\":\"#EBF0F8\",\"linecolor\":\"#EBF0F8\",\"ticks\":\"\"}},\"scene\":{\"xaxis\":{\"backgroundcolor\":\"white\",\"gridcolor\":\"#DFE8F3\",\"gridwidth\":2,\"linecolor\":\"#EBF0F8\",\"showbackground\":true,\"ticks\":\"\",\"zerolinecolor\":\"#EBF0F8\"},\"yaxis\":{\"backgroundcolor\":\"white\",\"gridcolor\":\"#DFE8F3\",\"gridwidth\":2,\"linecolor\":\"#EBF0F8\",\"showbackground\":true,\"ticks\":\"\",\"zerolinecolor\":\"#EBF0F8\"},\"zaxis\":{\"backgroundcolor\":\"white\",\"gridcolor\":\"#DFE8F3\",\"gridwidth\":2,\"linecolor\":\"#EBF0F8\",\"showbackground\":true,\"ticks\":\"\",\"zerolinecolor\":\"#EBF0F8\"}},\"shapedefaults\":{\"line\":{\"color\":\"#2a3f5f\"}},\"ternary\":{\"aaxis\":{\"gridcolor\":\"#DFE8F3\",\"linecolor\":\"#A2B1C6\",\"ticks\":\"\"},\"baxis\":{\"gridcolor\":\"#DFE8F3\",\"linecolor\":\"#A2B1C6\",\"ticks\":\"\"},\"bgcolor\":\"white\",\"caxis\":{\"gridcolor\":\"#DFE8F3\",\"linecolor\":\"#A2B1C6\",\"ticks\":\"\"}},\"title\":{\"x\":0.05},\"xaxis\":{\"automargin\":true,\"gridcolor\":\"#EBF0F8\",\"linecolor\":\"#EBF0F8\",\"ticks\":\"\",\"title\":{\"standoff\":15},\"zerolinecolor\":\"#EBF0F8\",\"zerolinewidth\":2},\"yaxis\":{\"automargin\":true,\"gridcolor\":\"#EBF0F8\",\"linecolor\":\"#EBF0F8\",\"ticks\":\"\",\"title\":{\"standoff\":15},\"zerolinecolor\":\"#EBF0F8\",\"zerolinewidth\":2}}},\"xaxis\":{\"anchor\":\"y\",\"domain\":[0.0,1.0],\"title\":{\"text\":\"Season\"}},\"yaxis\":{\"anchor\":\"x\",\"domain\":[0.0,1.0],\"title\":{\"text\":\"Correlation Coefficient\"}},\"coloraxis\":{\"colorbar\":{\"title\":{\"text\":\"Correlation Coefficient\"}},\"colorscale\":[[0.0,\"rgb(103,0,31)\"],[0.1,\"rgb(178,24,43)\"],[0.2,\"rgb(214,96,77)\"],[0.3,\"rgb(244,165,130)\"],[0.4,\"rgb(253,219,199)\"],[0.5,\"rgb(247,247,247)\"],[0.6,\"rgb(209,229,240)\"],[0.7,\"rgb(146,197,222)\"],[0.8,\"rgb(67,147,195)\"],[0.9,\"rgb(33,102,172)\"],[1.0,\"rgb(5,48,97)\"]]},\"legend\":{\"tracegroupgap\":0},\"title\":{\"text\":\"Correlation between Seasonal Rainfall and Monsoon Rainfall(Jun-Sep)\"},\"barmode\":\"relative\",\"height\":500,\"shapes\":[{\"line\":{\"color\":\"red\",\"dash\":\"dash\"},\"type\":\"line\",\"x0\":0,\"x1\":1,\"xref\":\"x domain\",\"y0\":0,\"y1\":0,\"yref\":\"y\"}],\"annotations\":[{\"showarrow\":false,\"text\":\"No Correlation\",\"x\":0,\"xanchor\":\"left\",\"xref\":\"x domain\",\"y\":0,\"yanchor\":\"top\",\"yref\":\"y\"}]},                        {\"responsive\": true}                    ).then(function(){\n",
              "                            \n",
              "var gd = document.getElementById('9e6f3d90-3937-4bc6-bd84-c83b0fde446a');\n",
              "var x = new MutationObserver(function (mutations, observer) {{\n",
              "        var display = window.getComputedStyle(gd).display;\n",
              "        if (!display || display === 'none') {{\n",
              "            console.log([gd, 'removed!']);\n",
              "            Plotly.purge(gd);\n",
              "            observer.disconnect();\n",
              "        }}\n",
              "}});\n",
              "\n",
              "// Listen for the removal of the full notebook cells\n",
              "var notebookContainer = gd.closest('#notebook-container');\n",
              "if (notebookContainer) {{\n",
              "    x.observe(notebookContainer, {childList: true});\n",
              "}}\n",
              "\n",
              "// Listen for the clearing of the current output cell\n",
              "var outputEl = gd.closest('.output');\n",
              "if (outputEl) {{\n",
              "    x.observe(outputEl, {childList: true});\n",
              "}}\n",
              "\n",
              "                        })                };                            </script>        </div>\n",
              "</body>\n",
              "</html>"
            ]
          },
          "metadata": {}
        }
      ]
    },
    {
      "cell_type": "markdown",
      "source": [
        "# Grouping Years Based on Rainfall Patterns"
      ],
      "metadata": {
        "id": "uMwAxO2zYVTm"
      }
    },
    {
      "cell_type": "markdown",
      "source": [
        "Now, by applying k-means clustering, we will group years into three categories: Dry, Normal, and Wet, based on rainfall patterns:\n"
      ],
      "metadata": {
        "id": "j0psexRwYOF1"
      }
    },
    {
      "cell_type": "code",
      "source": [
        "from sklearn.cluster import KMeans\n",
        "from sklearn.preprocessing import StandardScaler"
      ],
      "metadata": {
        "id": "I-vVSz6jYX6t"
      },
      "execution_count": 26,
      "outputs": []
    },
    {
      "cell_type": "code",
      "source": [
        "#preprocessing data for clustering\n",
        "rainfall_features = rainfall_data[['Jan-Feb','Mar-May','Jun-Sep','Oct-Dec','ANNUAL']]\n",
        "scaler = StandardScaler()\n",
        "scaled_features = scaler.fit_transform(rainfall_features)\n",
        "print(scaled_features)"
      ],
      "metadata": {
        "id": "Lhd7oAJmrZ82"
      },
      "execution_count": null,
      "outputs": []
    },
    {
      "cell_type": "code",
      "source": [
        "#perform k-means clustering\n",
        "kmeans = KMeans(n_clusters=3, random_state=42)\n",
        "rainfall_data['Rainfall_Cluster'] = kmeans.fit_predict(scaled_features)\n",
        "print(rainfall_data[['YEAR', 'Rainfall_Cluster']])"
      ],
      "metadata": {
        "colab": {
          "base_uri": "https://localhost:8080/"
        },
        "id": "s_feVgCOti3d",
        "outputId": "6eb5a04c-d6fe-4b87-c88a-ac6c1514e590"
      },
      "execution_count": 32,
      "outputs": [
        {
          "output_type": "stream",
          "name": "stdout",
          "text": [
            "     YEAR  Rainfall_Cluster\n",
            "0    1901                 1\n",
            "1    1902                 1\n",
            "2    1903                 2\n",
            "3    1904                 1\n",
            "4    1905                 1\n",
            "..    ...               ...\n",
            "110  2011                 1\n",
            "111  2012                 1\n",
            "112  2013                 2\n",
            "113  2014                 1\n",
            "114  2015                 1\n",
            "\n",
            "[115 rows x 2 columns]\n"
          ]
        }
      ]
    },
    {
      "cell_type": "code",
      "source": [
        "#map cluster labels to catergories (eg. Dry, Normal and Wet)\n",
        "cluster_labels = {\n",
        "    0: 'Dry',\n",
        "    1: 'Normal',\n",
        "    2: 'Wet'\n",
        "}\n",
        "rainfall_data['Rainfall_Category'] = rainfall_data['Rainfall_Cluster'].map(cluster_labels)"
      ],
      "metadata": {
        "id": "H9vB2SNzu8Qr"
      },
      "execution_count": 33,
      "outputs": []
    },
    {
      "cell_type": "code",
      "source": [
        "#plotting\n",
        "fig_cluster = px.scatter(\n",
        "    rainfall_data,\n",
        "    x='YEAR',\n",
        "    y='ANNUAL',\n",
        "    color='Rainfall_Category',\n",
        "    color_discrete_sequence=px.colors.qualitative.Set2,\n",
        "    hover_data= {'Rainfall_Cluster':True,'Rainfall_Category':True},\n",
        "    labels={'YEAR': 'Year', 'ANNUAL': 'Annual Rainfall (mm)'},\n",
        "    title='Rainfall Patterns in India (1901-2015)'\n",
        ")\n",
        "fig_cluster.update_layout(\n",
        "    template='plotly_white',\n",
        "    height=500\n",
        ")\n",
        "\n",
        "fig_cluster.show()"
      ],
      "metadata": {
        "colab": {
          "base_uri": "https://localhost:8080/",
          "height": 517
        },
        "id": "A-llxahewxiy",
        "outputId": "459631d9-0a3f-43a2-c595-fd379ff910d3"
      },
      "execution_count": 39,
      "outputs": [
        {
          "output_type": "display_data",
          "data": {
            "text/html": [
              "<html>\n",
              "<head><meta charset=\"utf-8\" /></head>\n",
              "<body>\n",
              "    <div>            <script src=\"https://cdnjs.cloudflare.com/ajax/libs/mathjax/2.7.5/MathJax.js?config=TeX-AMS-MML_SVG\"></script><script type=\"text/javascript\">if (window.MathJax && window.MathJax.Hub && window.MathJax.Hub.Config) {window.MathJax.Hub.Config({SVG: {font: \"STIX-Web\"}});}</script>                <script type=\"text/javascript\">window.PlotlyConfig = {MathJaxConfig: 'local'};</script>\n",
              "        <script charset=\"utf-8\" src=\"https://cdn.plot.ly/plotly-2.35.2.min.js\"></script>                <div id=\"9767afeb-3570-4a21-a500-4972e51a01cf\" class=\"plotly-graph-div\" style=\"height:500px; width:100%;\"></div>            <script type=\"text/javascript\">                                    window.PLOTLYENV=window.PLOTLYENV || {};                                    if (document.getElementById(\"9767afeb-3570-4a21-a500-4972e51a01cf\")) {                    Plotly.newPlot(                        \"9767afeb-3570-4a21-a500-4972e51a01cf\",                        [{\"customdata\":[[1,\"Normal\"],[1,\"Normal\"],[1,\"Normal\"],[1,\"Normal\"],[1,\"Normal\"],[1,\"Normal\"],[1,\"Normal\"],[1,\"Normal\"],[1,\"Normal\"],[1,\"Normal\"],[1,\"Normal\"],[1,\"Normal\"],[1,\"Normal\"],[1,\"Normal\"],[1,\"Normal\"],[1,\"Normal\"],[1,\"Normal\"],[1,\"Normal\"],[1,\"Normal\"],[1,\"Normal\"],[1,\"Normal\"],[1,\"Normal\"],[1,\"Normal\"],[1,\"Normal\"],[1,\"Normal\"],[1,\"Normal\"],[1,\"Normal\"],[1,\"Normal\"],[1,\"Normal\"],[1,\"Normal\"],[1,\"Normal\"],[1,\"Normal\"],[1,\"Normal\"],[1,\"Normal\"],[1,\"Normal\"],[1,\"Normal\"],[1,\"Normal\"],[1,\"Normal\"],[1,\"Normal\"],[1,\"Normal\"],[1,\"Normal\"],[1,\"Normal\"],[1,\"Normal\"],[1,\"Normal\"]],\"hovertemplate\":\"Rainfall_Category=%{customdata[1]}\\u003cbr\\u003eYear=%{x}\\u003cbr\\u003eAnnual Rainfall (mm)=%{y}\\u003cbr\\u003eRainfall_Cluster=%{customdata[0]}\\u003cextra\\u003e\\u003c\\u002fextra\\u003e\",\"legendgroup\":\"Normal\",\"marker\":{\"color\":\"rgb(102,194,165)\",\"symbol\":\"circle\"},\"mode\":\"markers\",\"name\":\"Normal\",\"orientation\":\"v\",\"showlegend\":true,\"x\":[1901,1902,1904,1905,1907,1908,1909,1911,1912,1913,1918,1920,1935,1939,1941,1951,1952,1960,1965,1966,1967,1968,1969,1972,1974,1976,1979,1982,1986,1987,1989,1991,1992,1999,2000,2001,2002,2004,2008,2009,2011,2012,2014,2015],\"xaxis\":\"x\",\"y\":[1032.3,1030.2,1019.8,975.3,1039.7,1096.6,1158.1,1047.5,1078.1,1068.9,1026.2,1047.9,1143.4,1125.9,1080.9,1061.3,1108.2,1149.0,938.4,1064.0,1148.3,1054.2,1147.7,948.5,1043.7,1124.8,1023.4,1086.8,1126.6,1078.9,1122.4,1159.9,1121.3,1132.0,1050.4,1083.3,920.8,1071.3,1132.1,959.3,1110.1,1073.5,1033.7,1093.2],\"yaxis\":\"y\",\"type\":\"scatter\"},{\"customdata\":[[2,\"Wet\"],[2,\"Wet\"],[2,\"Wet\"],[2,\"Wet\"],[2,\"Wet\"],[2,\"Wet\"],[2,\"Wet\"],[2,\"Wet\"],[2,\"Wet\"],[2,\"Wet\"],[2,\"Wet\"],[2,\"Wet\"],[2,\"Wet\"],[2,\"Wet\"],[2,\"Wet\"],[2,\"Wet\"],[2,\"Wet\"],[2,\"Wet\"],[2,\"Wet\"],[2,\"Wet\"],[2,\"Wet\"],[2,\"Wet\"],[2,\"Wet\"],[2,\"Wet\"]],\"hovertemplate\":\"Rainfall_Category=%{customdata[1]}\\u003cbr\\u003eYear=%{x}\\u003cbr\\u003eAnnual Rainfall (mm)=%{y}\\u003cbr\\u003eRainfall_Cluster=%{customdata[0]}\\u003cextra\\u003e\\u003c\\u002fextra\\u003e\",\"legendgroup\":\"Wet\",\"marker\":{\"color\":\"rgb(252,141,98)\",\"symbol\":\"circle\"},\"mode\":\"markers\",\"name\":\"Wet\",\"orientation\":\"v\",\"showlegend\":true,\"x\":[1903,1910,1916,1917,1922,1924,1925,1931,1932,1934,1946,1955,1956,1958,1962,1963,1964,1973,1975,1977,1985,1997,2010,2013],\"xaxis\":\"x\",\"y\":[1190.5,1200.3,1337.1,1480.3,1211.9,1268.3,1210.4,1314.6,1218.9,1227.6,1332.6,1298.3,1386.2,1331.0,1196.4,1210.2,1235.1,1214.0,1290.2,1270.4,1140.0,1171.4,1200.5,1216.2],\"yaxis\":\"y\",\"type\":\"scatter\"},{\"customdata\":[[0,\"Dry\"],[0,\"Dry\"],[0,\"Dry\"],[0,\"Dry\"],[0,\"Dry\"],[0,\"Dry\"],[0,\"Dry\"],[0,\"Dry\"],[0,\"Dry\"],[0,\"Dry\"],[0,\"Dry\"],[0,\"Dry\"],[0,\"Dry\"],[0,\"Dry\"],[0,\"Dry\"],[0,\"Dry\"],[0,\"Dry\"],[0,\"Dry\"],[0,\"Dry\"],[0,\"Dry\"],[0,\"Dry\"],[0,\"Dry\"],[0,\"Dry\"],[0,\"Dry\"],[0,\"Dry\"],[0,\"Dry\"],[0,\"Dry\"],[0,\"Dry\"],[0,\"Dry\"],[0,\"Dry\"],[0,\"Dry\"],[0,\"Dry\"],[0,\"Dry\"],[0,\"Dry\"],[0,\"Dry\"],[0,\"Dry\"],[0,\"Dry\"],[0,\"Dry\"],[0,\"Dry\"],[0,\"Dry\"],[0,\"Dry\"],[0,\"Dry\"],[0,\"Dry\"],[0,\"Dry\"],[0,\"Dry\"],[0,\"Dry\"],[0,\"Dry\"]],\"hovertemplate\":\"Rainfall_Category=%{customdata[1]}\\u003cbr\\u003eYear=%{x}\\u003cbr\\u003eAnnual Rainfall (mm)=%{y}\\u003cbr\\u003eRainfall_Cluster=%{customdata[0]}\\u003cextra\\u003e\\u003c\\u002fextra\\u003e\",\"legendgroup\":\"Dry\",\"marker\":{\"color\":\"rgb(141,160,203)\",\"symbol\":\"circle\"},\"mode\":\"markers\",\"name\":\"Dry\",\"orientation\":\"v\",\"showlegend\":true,\"x\":[1906,1914,1915,1919,1921,1923,1926,1927,1928,1929,1930,1933,1936,1937,1938,1940,1942,1943,1944,1945,1947,1948,1949,1950,1953,1954,1957,1959,1961,1970,1971,1978,1980,1981,1983,1984,1988,1990,1993,1994,1995,1996,1998,2003,2005,2006,2007],\"xaxis\":\"x\",\"y\":[1144.1,1214.3,1137.2,1308.9,1240.2,1176.3,1246.8,1262.6,1218.4,1208.5,1209.4,1393.5,1341.7,1218.1,1306.7,1214.6,1292.7,1282.1,1319.1,1225.8,1236.6,1341.9,1272.4,1172.5,1222.9,1180.3,1178.2,1382.1,1403.0,1247.0,1218.0,1239.3,1189.5,1171.6,1331.5,1155.9,1351.0,1400.6,1201.9,1295.6,1243.6,1181.8,1243.5,1174.5,1232.5,1199.4,1215.6],\"yaxis\":\"y\",\"type\":\"scatter\"}],                        {\"template\":{\"data\":{\"barpolar\":[{\"marker\":{\"line\":{\"color\":\"white\",\"width\":0.5},\"pattern\":{\"fillmode\":\"overlay\",\"size\":10,\"solidity\":0.2}},\"type\":\"barpolar\"}],\"bar\":[{\"error_x\":{\"color\":\"#2a3f5f\"},\"error_y\":{\"color\":\"#2a3f5f\"},\"marker\":{\"line\":{\"color\":\"white\",\"width\":0.5},\"pattern\":{\"fillmode\":\"overlay\",\"size\":10,\"solidity\":0.2}},\"type\":\"bar\"}],\"carpet\":[{\"aaxis\":{\"endlinecolor\":\"#2a3f5f\",\"gridcolor\":\"#C8D4E3\",\"linecolor\":\"#C8D4E3\",\"minorgridcolor\":\"#C8D4E3\",\"startlinecolor\":\"#2a3f5f\"},\"baxis\":{\"endlinecolor\":\"#2a3f5f\",\"gridcolor\":\"#C8D4E3\",\"linecolor\":\"#C8D4E3\",\"minorgridcolor\":\"#C8D4E3\",\"startlinecolor\":\"#2a3f5f\"},\"type\":\"carpet\"}],\"choropleth\":[{\"colorbar\":{\"outlinewidth\":0,\"ticks\":\"\"},\"type\":\"choropleth\"}],\"contourcarpet\":[{\"colorbar\":{\"outlinewidth\":0,\"ticks\":\"\"},\"type\":\"contourcarpet\"}],\"contour\":[{\"colorbar\":{\"outlinewidth\":0,\"ticks\":\"\"},\"colorscale\":[[0.0,\"#0d0887\"],[0.1111111111111111,\"#46039f\"],[0.2222222222222222,\"#7201a8\"],[0.3333333333333333,\"#9c179e\"],[0.4444444444444444,\"#bd3786\"],[0.5555555555555556,\"#d8576b\"],[0.6666666666666666,\"#ed7953\"],[0.7777777777777778,\"#fb9f3a\"],[0.8888888888888888,\"#fdca26\"],[1.0,\"#f0f921\"]],\"type\":\"contour\"}],\"heatmapgl\":[{\"colorbar\":{\"outlinewidth\":0,\"ticks\":\"\"},\"colorscale\":[[0.0,\"#0d0887\"],[0.1111111111111111,\"#46039f\"],[0.2222222222222222,\"#7201a8\"],[0.3333333333333333,\"#9c179e\"],[0.4444444444444444,\"#bd3786\"],[0.5555555555555556,\"#d8576b\"],[0.6666666666666666,\"#ed7953\"],[0.7777777777777778,\"#fb9f3a\"],[0.8888888888888888,\"#fdca26\"],[1.0,\"#f0f921\"]],\"type\":\"heatmapgl\"}],\"heatmap\":[{\"colorbar\":{\"outlinewidth\":0,\"ticks\":\"\"},\"colorscale\":[[0.0,\"#0d0887\"],[0.1111111111111111,\"#46039f\"],[0.2222222222222222,\"#7201a8\"],[0.3333333333333333,\"#9c179e\"],[0.4444444444444444,\"#bd3786\"],[0.5555555555555556,\"#d8576b\"],[0.6666666666666666,\"#ed7953\"],[0.7777777777777778,\"#fb9f3a\"],[0.8888888888888888,\"#fdca26\"],[1.0,\"#f0f921\"]],\"type\":\"heatmap\"}],\"histogram2dcontour\":[{\"colorbar\":{\"outlinewidth\":0,\"ticks\":\"\"},\"colorscale\":[[0.0,\"#0d0887\"],[0.1111111111111111,\"#46039f\"],[0.2222222222222222,\"#7201a8\"],[0.3333333333333333,\"#9c179e\"],[0.4444444444444444,\"#bd3786\"],[0.5555555555555556,\"#d8576b\"],[0.6666666666666666,\"#ed7953\"],[0.7777777777777778,\"#fb9f3a\"],[0.8888888888888888,\"#fdca26\"],[1.0,\"#f0f921\"]],\"type\":\"histogram2dcontour\"}],\"histogram2d\":[{\"colorbar\":{\"outlinewidth\":0,\"ticks\":\"\"},\"colorscale\":[[0.0,\"#0d0887\"],[0.1111111111111111,\"#46039f\"],[0.2222222222222222,\"#7201a8\"],[0.3333333333333333,\"#9c179e\"],[0.4444444444444444,\"#bd3786\"],[0.5555555555555556,\"#d8576b\"],[0.6666666666666666,\"#ed7953\"],[0.7777777777777778,\"#fb9f3a\"],[0.8888888888888888,\"#fdca26\"],[1.0,\"#f0f921\"]],\"type\":\"histogram2d\"}],\"histogram\":[{\"marker\":{\"pattern\":{\"fillmode\":\"overlay\",\"size\":10,\"solidity\":0.2}},\"type\":\"histogram\"}],\"mesh3d\":[{\"colorbar\":{\"outlinewidth\":0,\"ticks\":\"\"},\"type\":\"mesh3d\"}],\"parcoords\":[{\"line\":{\"colorbar\":{\"outlinewidth\":0,\"ticks\":\"\"}},\"type\":\"parcoords\"}],\"pie\":[{\"automargin\":true,\"type\":\"pie\"}],\"scatter3d\":[{\"line\":{\"colorbar\":{\"outlinewidth\":0,\"ticks\":\"\"}},\"marker\":{\"colorbar\":{\"outlinewidth\":0,\"ticks\":\"\"}},\"type\":\"scatter3d\"}],\"scattercarpet\":[{\"marker\":{\"colorbar\":{\"outlinewidth\":0,\"ticks\":\"\"}},\"type\":\"scattercarpet\"}],\"scattergeo\":[{\"marker\":{\"colorbar\":{\"outlinewidth\":0,\"ticks\":\"\"}},\"type\":\"scattergeo\"}],\"scattergl\":[{\"marker\":{\"colorbar\":{\"outlinewidth\":0,\"ticks\":\"\"}},\"type\":\"scattergl\"}],\"scattermapbox\":[{\"marker\":{\"colorbar\":{\"outlinewidth\":0,\"ticks\":\"\"}},\"type\":\"scattermapbox\"}],\"scatterpolargl\":[{\"marker\":{\"colorbar\":{\"outlinewidth\":0,\"ticks\":\"\"}},\"type\":\"scatterpolargl\"}],\"scatterpolar\":[{\"marker\":{\"colorbar\":{\"outlinewidth\":0,\"ticks\":\"\"}},\"type\":\"scatterpolar\"}],\"scatter\":[{\"fillpattern\":{\"fillmode\":\"overlay\",\"size\":10,\"solidity\":0.2},\"type\":\"scatter\"}],\"scatterternary\":[{\"marker\":{\"colorbar\":{\"outlinewidth\":0,\"ticks\":\"\"}},\"type\":\"scatterternary\"}],\"surface\":[{\"colorbar\":{\"outlinewidth\":0,\"ticks\":\"\"},\"colorscale\":[[0.0,\"#0d0887\"],[0.1111111111111111,\"#46039f\"],[0.2222222222222222,\"#7201a8\"],[0.3333333333333333,\"#9c179e\"],[0.4444444444444444,\"#bd3786\"],[0.5555555555555556,\"#d8576b\"],[0.6666666666666666,\"#ed7953\"],[0.7777777777777778,\"#fb9f3a\"],[0.8888888888888888,\"#fdca26\"],[1.0,\"#f0f921\"]],\"type\":\"surface\"}],\"table\":[{\"cells\":{\"fill\":{\"color\":\"#EBF0F8\"},\"line\":{\"color\":\"white\"}},\"header\":{\"fill\":{\"color\":\"#C8D4E3\"},\"line\":{\"color\":\"white\"}},\"type\":\"table\"}]},\"layout\":{\"annotationdefaults\":{\"arrowcolor\":\"#2a3f5f\",\"arrowhead\":0,\"arrowwidth\":1},\"autotypenumbers\":\"strict\",\"coloraxis\":{\"colorbar\":{\"outlinewidth\":0,\"ticks\":\"\"}},\"colorscale\":{\"diverging\":[[0,\"#8e0152\"],[0.1,\"#c51b7d\"],[0.2,\"#de77ae\"],[0.3,\"#f1b6da\"],[0.4,\"#fde0ef\"],[0.5,\"#f7f7f7\"],[0.6,\"#e6f5d0\"],[0.7,\"#b8e186\"],[0.8,\"#7fbc41\"],[0.9,\"#4d9221\"],[1,\"#276419\"]],\"sequential\":[[0.0,\"#0d0887\"],[0.1111111111111111,\"#46039f\"],[0.2222222222222222,\"#7201a8\"],[0.3333333333333333,\"#9c179e\"],[0.4444444444444444,\"#bd3786\"],[0.5555555555555556,\"#d8576b\"],[0.6666666666666666,\"#ed7953\"],[0.7777777777777778,\"#fb9f3a\"],[0.8888888888888888,\"#fdca26\"],[1.0,\"#f0f921\"]],\"sequentialminus\":[[0.0,\"#0d0887\"],[0.1111111111111111,\"#46039f\"],[0.2222222222222222,\"#7201a8\"],[0.3333333333333333,\"#9c179e\"],[0.4444444444444444,\"#bd3786\"],[0.5555555555555556,\"#d8576b\"],[0.6666666666666666,\"#ed7953\"],[0.7777777777777778,\"#fb9f3a\"],[0.8888888888888888,\"#fdca26\"],[1.0,\"#f0f921\"]]},\"colorway\":[\"#636efa\",\"#EF553B\",\"#00cc96\",\"#ab63fa\",\"#FFA15A\",\"#19d3f3\",\"#FF6692\",\"#B6E880\",\"#FF97FF\",\"#FECB52\"],\"font\":{\"color\":\"#2a3f5f\"},\"geo\":{\"bgcolor\":\"white\",\"lakecolor\":\"white\",\"landcolor\":\"white\",\"showlakes\":true,\"showland\":true,\"subunitcolor\":\"#C8D4E3\"},\"hoverlabel\":{\"align\":\"left\"},\"hovermode\":\"closest\",\"mapbox\":{\"style\":\"light\"},\"paper_bgcolor\":\"white\",\"plot_bgcolor\":\"white\",\"polar\":{\"angularaxis\":{\"gridcolor\":\"#EBF0F8\",\"linecolor\":\"#EBF0F8\",\"ticks\":\"\"},\"bgcolor\":\"white\",\"radialaxis\":{\"gridcolor\":\"#EBF0F8\",\"linecolor\":\"#EBF0F8\",\"ticks\":\"\"}},\"scene\":{\"xaxis\":{\"backgroundcolor\":\"white\",\"gridcolor\":\"#DFE8F3\",\"gridwidth\":2,\"linecolor\":\"#EBF0F8\",\"showbackground\":true,\"ticks\":\"\",\"zerolinecolor\":\"#EBF0F8\"},\"yaxis\":{\"backgroundcolor\":\"white\",\"gridcolor\":\"#DFE8F3\",\"gridwidth\":2,\"linecolor\":\"#EBF0F8\",\"showbackground\":true,\"ticks\":\"\",\"zerolinecolor\":\"#EBF0F8\"},\"zaxis\":{\"backgroundcolor\":\"white\",\"gridcolor\":\"#DFE8F3\",\"gridwidth\":2,\"linecolor\":\"#EBF0F8\",\"showbackground\":true,\"ticks\":\"\",\"zerolinecolor\":\"#EBF0F8\"}},\"shapedefaults\":{\"line\":{\"color\":\"#2a3f5f\"}},\"ternary\":{\"aaxis\":{\"gridcolor\":\"#DFE8F3\",\"linecolor\":\"#A2B1C6\",\"ticks\":\"\"},\"baxis\":{\"gridcolor\":\"#DFE8F3\",\"linecolor\":\"#A2B1C6\",\"ticks\":\"\"},\"bgcolor\":\"white\",\"caxis\":{\"gridcolor\":\"#DFE8F3\",\"linecolor\":\"#A2B1C6\",\"ticks\":\"\"}},\"title\":{\"x\":0.05},\"xaxis\":{\"automargin\":true,\"gridcolor\":\"#EBF0F8\",\"linecolor\":\"#EBF0F8\",\"ticks\":\"\",\"title\":{\"standoff\":15},\"zerolinecolor\":\"#EBF0F8\",\"zerolinewidth\":2},\"yaxis\":{\"automargin\":true,\"gridcolor\":\"#EBF0F8\",\"linecolor\":\"#EBF0F8\",\"ticks\":\"\",\"title\":{\"standoff\":15},\"zerolinecolor\":\"#EBF0F8\",\"zerolinewidth\":2}}},\"xaxis\":{\"anchor\":\"y\",\"domain\":[0.0,1.0],\"title\":{\"text\":\"Year\"}},\"yaxis\":{\"anchor\":\"x\",\"domain\":[0.0,1.0],\"title\":{\"text\":\"Annual Rainfall (mm)\"}},\"legend\":{\"title\":{\"text\":\"Rainfall_Category\"},\"tracegroupgap\":0},\"title\":{\"text\":\"Rainfall Patterns in India (1901-2015)\"},\"height\":500},                        {\"responsive\": true}                    ).then(function(){\n",
              "                            \n",
              "var gd = document.getElementById('9767afeb-3570-4a21-a500-4972e51a01cf');\n",
              "var x = new MutationObserver(function (mutations, observer) {{\n",
              "        var display = window.getComputedStyle(gd).display;\n",
              "        if (!display || display === 'none') {{\n",
              "            console.log([gd, 'removed!']);\n",
              "            Plotly.purge(gd);\n",
              "            observer.disconnect();\n",
              "        }}\n",
              "}});\n",
              "\n",
              "// Listen for the removal of the full notebook cells\n",
              "var notebookContainer = gd.closest('#notebook-container');\n",
              "if (notebookContainer) {{\n",
              "    x.observe(notebookContainer, {childList: true});\n",
              "}}\n",
              "\n",
              "// Listen for the clearing of the current output cell\n",
              "var outputEl = gd.closest('.output');\n",
              "if (outputEl) {{\n",
              "    x.observe(outputEl, {childList: true});\n",
              "}}\n",
              "\n",
              "                        })                };                            </script>        </div>\n",
              "</body>\n",
              "</html>"
            ]
          },
          "metadata": {}
        }
      ]
    },
    {
      "cell_type": "markdown",
      "source": [
        "# Forecasting Future Rainfall"
      ],
      "metadata": {
        "id": "EMDna1bY6DG5"
      }
    },
    {
      "cell_type": "markdown",
      "source": [
        " we will use the Prophet library to forecast annual rainfall for the next 20 years:"
      ],
      "metadata": {
        "id": "dgiNxi9Q6HNh"
      }
    },
    {
      "cell_type": "code",
      "source": [
        "rainfall_data['DATE'] = pd.to_datetime(rainfall_data['YEAR'], format='%Y')\n",
        "annual_rainfall_ts = rainfall_data.set_index('DATE')['ANNUAL']\n",
        "print(annual_rainfall_ts)"
      ],
      "metadata": {
        "id": "3ttJaiNt6fjV"
      },
      "execution_count": null,
      "outputs": []
    },
    {
      "cell_type": "code",
      "source": [
        "#forcasting using prophet algorithm\n",
        "from prophet import Prophet\n",
        "#prepare the data for prophet\n",
        "prophet_data = annual_rainfall_ts.reset_index()\n",
        "prophet_data.columns = ['ds', 'y']\n",
        "# print(prophet_data)\n",
        "\n",
        "from prophet.plot import plot_plotly, plot_components_plotly\n",
        "\n",
        "prophet_model = Prophet()\n",
        "prophet_model.fit(prophet_data)\n",
        "\n",
        "#create a future dataframe for the next 20 years\n",
        "future = prophet_model.make_future_dataframe(periods=20, freq='YE')\n",
        "forecast = prophet_model.predict(future)\n",
        "print(\"the predicted values from 2016-2035\")\n",
        "print(forecast[['ds', 'yhat']].tail(20))\n",
        "\n"
      ],
      "metadata": {
        "colab": {
          "base_uri": "https://localhost:8080/"
        },
        "id": "SLngPJYhIfyl",
        "outputId": "43c440e2-8691-4720-8efc-9219195e82b6"
      },
      "execution_count": 53,
      "outputs": [
        {
          "output_type": "stream",
          "name": "stderr",
          "text": [
            "INFO:prophet:Disabling weekly seasonality. Run prophet with weekly_seasonality=True to override this.\n",
            "INFO:prophet:Disabling daily seasonality. Run prophet with daily_seasonality=True to override this.\n",
            "DEBUG:cmdstanpy:input tempfile: /tmp/tmpbica02lw/ik_4ppci.json\n",
            "DEBUG:cmdstanpy:input tempfile: /tmp/tmpbica02lw/sc1zz_f1.json\n",
            "DEBUG:cmdstanpy:idx 0\n",
            "DEBUG:cmdstanpy:running CmdStan, num_threads: None\n",
            "DEBUG:cmdstanpy:CmdStan args: ['/usr/local/lib/python3.11/dist-packages/prophet/stan_model/prophet_model.bin', 'random', 'seed=40889', 'data', 'file=/tmp/tmpbica02lw/ik_4ppci.json', 'init=/tmp/tmpbica02lw/sc1zz_f1.json', 'output', 'file=/tmp/tmpbica02lw/prophet_model4jthimsd/prophet_model-20250305164041.csv', 'method=optimize', 'algorithm=lbfgs', 'iter=10000']\n",
            "16:40:41 - cmdstanpy - INFO - Chain [1] start processing\n",
            "INFO:cmdstanpy:Chain [1] start processing\n",
            "16:40:41 - cmdstanpy - INFO - Chain [1] done processing\n",
            "INFO:cmdstanpy:Chain [1] done processing\n"
          ]
        },
        {
          "output_type": "stream",
          "name": "stdout",
          "text": [
            "the predicted values from 2016-2035\n",
            "            ds         yhat\n",
            "115 2015-12-31  1112.452604\n",
            "116 2016-12-31  1121.831442\n",
            "117 2017-12-31  1116.986029\n",
            "118 2018-12-31  1112.077926\n",
            "119 2019-12-31  1107.111483\n",
            "120 2020-12-31  1116.490321\n",
            "121 2021-12-31  1111.644907\n",
            "122 2022-12-31  1106.736805\n",
            "123 2023-12-31  1101.770361\n",
            "124 2024-12-31  1111.149200\n",
            "125 2025-12-31  1106.303786\n",
            "126 2026-12-31  1101.395684\n",
            "127 2027-12-31  1096.429240\n",
            "128 2028-12-31  1105.808079\n",
            "129 2029-12-31  1100.962665\n",
            "130 2030-12-31  1096.054563\n",
            "131 2031-12-31  1091.088119\n",
            "132 2032-12-31  1100.466957\n",
            "133 2033-12-31  1095.621544\n",
            "134 2034-12-31  1090.713442\n"
          ]
        }
      ]
    },
    {
      "cell_type": "code",
      "source": [
        "fig_forcast = plot_plotly(prophet_model, forecast)\n",
        "fig_forcast.update_layout(\n",
        "    title='Annual Rainfall Forecast for the Next 20 Years',\n",
        "    xaxis_title='Year',\n",
        "    yaxis_title='Rainfall (mm)',\n",
        "    template='plotly_white',\n",
        "    height=500,\n",
        ")\n",
        "\n",
        "fig_forcast.show()"
      ],
      "metadata": {
        "colab": {
          "base_uri": "https://localhost:8080/",
          "height": 517
        },
        "id": "DCsK2BmELi3x",
        "outputId": "a9ef7bf2-6cf8-42fb-fcd8-800543a5cffa"
      },
      "execution_count": 54,
      "outputs": [
        {
          "output_type": "display_data",
          "data": {
            "text/html": [
              "<html>\n",
              "<head><meta charset=\"utf-8\" /></head>\n",
              "<body>\n",
              "    <div>            <script src=\"https://cdnjs.cloudflare.com/ajax/libs/mathjax/2.7.5/MathJax.js?config=TeX-AMS-MML_SVG\"></script><script type=\"text/javascript\">if (window.MathJax && window.MathJax.Hub && window.MathJax.Hub.Config) {window.MathJax.Hub.Config({SVG: {font: \"STIX-Web\"}});}</script>                <script type=\"text/javascript\">window.PlotlyConfig = {MathJaxConfig: 'local'};</script>\n",
              "        <script charset=\"utf-8\" src=\"https://cdn.plot.ly/plotly-2.35.2.min.js\"></script>                <div id=\"f4c02e07-324b-4359-bfb1-8554bba34f13\" class=\"plotly-graph-div\" style=\"height:500px; width:900px;\"></div>            <script type=\"text/javascript\">                                    window.PLOTLYENV=window.PLOTLYENV || {};                                    if (document.getElementById(\"f4c02e07-324b-4359-bfb1-8554bba34f13\")) {                    Plotly.newPlot(                        \"f4c02e07-324b-4359-bfb1-8554bba34f13\",                        [{\"marker\":{\"color\":\"black\",\"size\":4},\"mode\":\"markers\",\"name\":\"Actual\",\"x\":[\"1901-01-01T00:00:00\",\"1902-01-01T00:00:00\",\"1903-01-01T00:00:00\",\"1904-01-01T00:00:00\",\"1905-01-01T00:00:00\",\"1906-01-01T00:00:00\",\"1907-01-01T00:00:00\",\"1908-01-01T00:00:00\",\"1909-01-01T00:00:00\",\"1910-01-01T00:00:00\",\"1911-01-01T00:00:00\",\"1912-01-01T00:00:00\",\"1913-01-01T00:00:00\",\"1914-01-01T00:00:00\",\"1915-01-01T00:00:00\",\"1916-01-01T00:00:00\",\"1917-01-01T00:00:00\",\"1918-01-01T00:00:00\",\"1919-01-01T00:00:00\",\"1920-01-01T00:00:00\",\"1921-01-01T00:00:00\",\"1922-01-01T00:00:00\",\"1923-01-01T00:00:00\",\"1924-01-01T00:00:00\",\"1925-01-01T00:00:00\",\"1926-01-01T00:00:00\",\"1927-01-01T00:00:00\",\"1928-01-01T00:00:00\",\"1929-01-01T00:00:00\",\"1930-01-01T00:00:00\",\"1931-01-01T00:00:00\",\"1932-01-01T00:00:00\",\"1933-01-01T00:00:00\",\"1934-01-01T00:00:00\",\"1935-01-01T00:00:00\",\"1936-01-01T00:00:00\",\"1937-01-01T00:00:00\",\"1938-01-01T00:00:00\",\"1939-01-01T00:00:00\",\"1940-01-01T00:00:00\",\"1941-01-01T00:00:00\",\"1942-01-01T00:00:00\",\"1943-01-01T00:00:00\",\"1944-01-01T00:00:00\",\"1945-01-01T00:00:00\",\"1946-01-01T00:00:00\",\"1947-01-01T00:00:00\",\"1948-01-01T00:00:00\",\"1949-01-01T00:00:00\",\"1950-01-01T00:00:00\",\"1951-01-01T00:00:00\",\"1952-01-01T00:00:00\",\"1953-01-01T00:00:00\",\"1954-01-01T00:00:00\",\"1955-01-01T00:00:00\",\"1956-01-01T00:00:00\",\"1957-01-01T00:00:00\",\"1958-01-01T00:00:00\",\"1959-01-01T00:00:00\",\"1960-01-01T00:00:00\",\"1961-01-01T00:00:00\",\"1962-01-01T00:00:00\",\"1963-01-01T00:00:00\",\"1964-01-01T00:00:00\",\"1965-01-01T00:00:00\",\"1966-01-01T00:00:00\",\"1967-01-01T00:00:00\",\"1968-01-01T00:00:00\",\"1969-01-01T00:00:00\",\"1970-01-01T00:00:00\",\"1971-01-01T00:00:00\",\"1972-01-01T00:00:00\",\"1973-01-01T00:00:00\",\"1974-01-01T00:00:00\",\"1975-01-01T00:00:00\",\"1976-01-01T00:00:00\",\"1977-01-01T00:00:00\",\"1978-01-01T00:00:00\",\"1979-01-01T00:00:00\",\"1980-01-01T00:00:00\",\"1981-01-01T00:00:00\",\"1982-01-01T00:00:00\",\"1983-01-01T00:00:00\",\"1984-01-01T00:00:00\",\"1985-01-01T00:00:00\",\"1986-01-01T00:00:00\",\"1987-01-01T00:00:00\",\"1988-01-01T00:00:00\",\"1989-01-01T00:00:00\",\"1990-01-01T00:00:00\",\"1991-01-01T00:00:00\",\"1992-01-01T00:00:00\",\"1993-01-01T00:00:00\",\"1994-01-01T00:00:00\",\"1995-01-01T00:00:00\",\"1996-01-01T00:00:00\",\"1997-01-01T00:00:00\",\"1998-01-01T00:00:00\",\"1999-01-01T00:00:00\",\"2000-01-01T00:00:00\",\"2001-01-01T00:00:00\",\"2002-01-01T00:00:00\",\"2003-01-01T00:00:00\",\"2004-01-01T00:00:00\",\"2005-01-01T00:00:00\",\"2006-01-01T00:00:00\",\"2007-01-01T00:00:00\",\"2008-01-01T00:00:00\",\"2009-01-01T00:00:00\",\"2010-01-01T00:00:00\",\"2011-01-01T00:00:00\",\"2012-01-01T00:00:00\",\"2013-01-01T00:00:00\",\"2014-01-01T00:00:00\",\"2015-01-01T00:00:00\"],\"y\":[1032.3,1030.2,1190.5,1019.8,975.3,1144.1,1039.7,1096.6,1158.1,1200.3,1047.5,1078.1,1068.9,1214.3,1137.2,1337.1,1480.3,1026.2,1308.9,1047.9,1240.2,1211.9,1176.3,1268.3,1210.4,1246.8,1262.6,1218.4,1208.5,1209.4,1314.6,1218.9,1393.5,1227.6,1143.4,1341.7,1218.1,1306.7,1125.9,1214.6,1080.9,1292.7,1282.1,1319.1,1225.8,1332.6,1236.6,1341.9,1272.4,1172.5,1061.3,1108.2,1222.9,1180.3,1298.3,1386.2,1178.2,1331.0,1382.1,1149.0,1403.0,1196.4,1210.2,1235.1,938.4,1064.0,1148.3,1054.2,1147.7,1247.0,1218.0,948.5,1214.0,1043.7,1290.2,1124.8,1270.4,1239.3,1023.4,1189.5,1171.6,1086.8,1331.5,1155.9,1140.0,1126.6,1078.9,1351.0,1122.4,1400.6,1159.9,1121.3,1201.9,1295.6,1243.6,1181.8,1171.4,1243.5,1132.0,1050.4,1083.3,920.8,1174.5,1071.3,1232.5,1199.4,1215.6,1132.1,959.3,1200.5,1110.1,1073.5,1216.2,1033.7,1093.2],\"type\":\"scatter\"},{\"hoverinfo\":\"skip\",\"line\":{\"width\":0},\"mode\":\"lines\",\"x\":[\"1901-01-01T00:00:00\",\"1902-01-01T00:00:00\",\"1903-01-01T00:00:00\",\"1904-01-01T00:00:00\",\"1905-01-01T00:00:00\",\"1906-01-01T00:00:00\",\"1907-01-01T00:00:00\",\"1908-01-01T00:00:00\",\"1909-01-01T00:00:00\",\"1910-01-01T00:00:00\",\"1911-01-01T00:00:00\",\"1912-01-01T00:00:00\",\"1913-01-01T00:00:00\",\"1914-01-01T00:00:00\",\"1915-01-01T00:00:00\",\"1916-01-01T00:00:00\",\"1917-01-01T00:00:00\",\"1918-01-01T00:00:00\",\"1919-01-01T00:00:00\",\"1920-01-01T00:00:00\",\"1921-01-01T00:00:00\",\"1922-01-01T00:00:00\",\"1923-01-01T00:00:00\",\"1924-01-01T00:00:00\",\"1925-01-01T00:00:00\",\"1926-01-01T00:00:00\",\"1927-01-01T00:00:00\",\"1928-01-01T00:00:00\",\"1929-01-01T00:00:00\",\"1930-01-01T00:00:00\",\"1931-01-01T00:00:00\",\"1932-01-01T00:00:00\",\"1933-01-01T00:00:00\",\"1934-01-01T00:00:00\",\"1935-01-01T00:00:00\",\"1936-01-01T00:00:00\",\"1937-01-01T00:00:00\",\"1938-01-01T00:00:00\",\"1939-01-01T00:00:00\",\"1940-01-01T00:00:00\",\"1941-01-01T00:00:00\",\"1942-01-01T00:00:00\",\"1943-01-01T00:00:00\",\"1944-01-01T00:00:00\",\"1945-01-01T00:00:00\",\"1946-01-01T00:00:00\",\"1947-01-01T00:00:00\",\"1948-01-01T00:00:00\",\"1949-01-01T00:00:00\",\"1950-01-01T00:00:00\",\"1951-01-01T00:00:00\",\"1952-01-01T00:00:00\",\"1953-01-01T00:00:00\",\"1954-01-01T00:00:00\",\"1955-01-01T00:00:00\",\"1956-01-01T00:00:00\",\"1957-01-01T00:00:00\",\"1958-01-01T00:00:00\",\"1959-01-01T00:00:00\",\"1960-01-01T00:00:00\",\"1961-01-01T00:00:00\",\"1962-01-01T00:00:00\",\"1963-01-01T00:00:00\",\"1964-01-01T00:00:00\",\"1965-01-01T00:00:00\",\"1966-01-01T00:00:00\",\"1967-01-01T00:00:00\",\"1968-01-01T00:00:00\",\"1969-01-01T00:00:00\",\"1970-01-01T00:00:00\",\"1971-01-01T00:00:00\",\"1972-01-01T00:00:00\",\"1973-01-01T00:00:00\",\"1974-01-01T00:00:00\",\"1975-01-01T00:00:00\",\"1976-01-01T00:00:00\",\"1977-01-01T00:00:00\",\"1978-01-01T00:00:00\",\"1979-01-01T00:00:00\",\"1980-01-01T00:00:00\",\"1981-01-01T00:00:00\",\"1982-01-01T00:00:00\",\"1983-01-01T00:00:00\",\"1984-01-01T00:00:00\",\"1985-01-01T00:00:00\",\"1986-01-01T00:00:00\",\"1987-01-01T00:00:00\",\"1988-01-01T00:00:00\",\"1989-01-01T00:00:00\",\"1990-01-01T00:00:00\",\"1991-01-01T00:00:00\",\"1992-01-01T00:00:00\",\"1993-01-01T00:00:00\",\"1994-01-01T00:00:00\",\"1995-01-01T00:00:00\",\"1996-01-01T00:00:00\",\"1997-01-01T00:00:00\",\"1998-01-01T00:00:00\",\"1999-01-01T00:00:00\",\"2000-01-01T00:00:00\",\"2001-01-01T00:00:00\",\"2002-01-01T00:00:00\",\"2003-01-01T00:00:00\",\"2004-01-01T00:00:00\",\"2005-01-01T00:00:00\",\"2006-01-01T00:00:00\",\"2007-01-01T00:00:00\",\"2008-01-01T00:00:00\",\"2009-01-01T00:00:00\",\"2010-01-01T00:00:00\",\"2011-01-01T00:00:00\",\"2012-01-01T00:00:00\",\"2013-01-01T00:00:00\",\"2014-01-01T00:00:00\",\"2015-01-01T00:00:00\",\"2015-12-31T00:00:00\",\"2016-12-31T00:00:00\",\"2017-12-31T00:00:00\",\"2018-12-31T00:00:00\",\"2019-12-31T00:00:00\",\"2020-12-31T00:00:00\",\"2021-12-31T00:00:00\",\"2022-12-31T00:00:00\",\"2023-12-31T00:00:00\",\"2024-12-31T00:00:00\",\"2025-12-31T00:00:00\",\"2026-12-31T00:00:00\",\"2027-12-31T00:00:00\",\"2028-12-31T00:00:00\",\"2029-12-31T00:00:00\",\"2030-12-31T00:00:00\",\"2031-12-31T00:00:00\",\"2032-12-31T00:00:00\",\"2033-12-31T00:00:00\",\"2034-12-31T00:00:00\"],\"y\":[1015.5065949902145,1017.6768125048519,1012.9739963966896,1015.1614542551113,1026.2471761251784,1032.5672610027384,1028.8573103499941,1024.0609651964637,1033.1552301171107,1031.3327866678462,1022.2831265989666,1028.91951309599,1036.0107931008806,1041.6941999305004,1041.8712642645417,1041.8840376582075,1052.8899215041056,1047.3656040689227,1054.5078594974264,1044.8504983932903,1047.2107030219468,1063.4392473823875,1065.6367009047449,1057.230690870369,1071.094883073561,1069.6671246196074,1064.5181642351954,1057.673399921817,1069.1235330294387,1076.275267155332,1065.2110178690627,1064.3917661227033,1085.1228058446159,1071.4369086456231,1081.4740481435683,1081.2921885469914,1082.0965754709675,1086.06954999853,1089.220867698628,1085.8432784489953,1086.9564598200145,1086.0433358478163,1068.5620309016272,1078.0239902502894,1087.153746336669,1086.3672336112325,1079.3379940667241,1072.812823603063,1085.7620639127554,1093.1206285233282,1085.3911923608484,1077.8518093447403,1085.1336824920438,1081.4641745454248,1083.7660341013216,1082.71969777885,1089.242275650392,1086.6981399972312,1073.4520874640555,1070.2188642675976,1081.807792556564,1071.040928130902,1070.301630364416,1062.071191042784,1060.5900815331604,1071.6993477477645,1059.572331382983,1059.1655805299163,1066.1398633865026,1066.1022612783145,1062.7084982464123,1059.333580626848,1062.958022938644,1063.6312904076228,1047.3222765205019,1037.2505351031025,1057.066118970388,1060.523130453215,1050.2562990145682,1032.9488394824884,1049.366160753856,1049.4673676417356,1050.933279794567,1041.9983176014082,1050.4476921584396,1051.6424221172401,1049.7286968224876,1030.4739064477362,1046.0655961457458,1043.2707155630167,1028.4373781018298,1023.0135192680308,1036.3376971605217,1030.296081121882,1025.4441000807444,1016.7296170374183,1031.9698866877904,1022.4906497666088,1016.5139185375504,1016.8143184395876,1024.9647341699447,1026.9152668963786,1008.917101859458,1009.6085449338573,1017.498791285707,1014.6609536610085,1010.5553315930334,1009.0821445752784,1001.9823802156252,1011.0647660009253,1011.8585718218724,997.4875533078691,1012.5120856030545,997.1838731932894,999.6633756209917,979.9175539813999,991.4610098013969,990.7416861135226,989.2150086495898,974.060091561919,990.0532198575928,970.5392280283755,981.1999368924645,962.9122466195522,974.6698509661578,986.9800618832824,961.1016501162037,960.4641355860631,975.6499063583856,970.0059345626094,972.1732410666415,946.7267390965817,967.3323871505378,969.9447289981384,970.6358031552254],\"type\":\"scatter\"},{\"fill\":\"tonexty\",\"fillcolor\":\"rgba(0, 114, 178, 0.2)\",\"line\":{\"color\":\"#0072B2\",\"width\":2},\"mode\":\"lines\",\"name\":\"Predicted\",\"x\":[\"1901-01-01T00:00:00\",\"1902-01-01T00:00:00\",\"1903-01-01T00:00:00\",\"1904-01-01T00:00:00\",\"1905-01-01T00:00:00\",\"1906-01-01T00:00:00\",\"1907-01-01T00:00:00\",\"1908-01-01T00:00:00\",\"1909-01-01T00:00:00\",\"1910-01-01T00:00:00\",\"1911-01-01T00:00:00\",\"1912-01-01T00:00:00\",\"1913-01-01T00:00:00\",\"1914-01-01T00:00:00\",\"1915-01-01T00:00:00\",\"1916-01-01T00:00:00\",\"1917-01-01T00:00:00\",\"1918-01-01T00:00:00\",\"1919-01-01T00:00:00\",\"1920-01-01T00:00:00\",\"1921-01-01T00:00:00\",\"1922-01-01T00:00:00\",\"1923-01-01T00:00:00\",\"1924-01-01T00:00:00\",\"1925-01-01T00:00:00\",\"1926-01-01T00:00:00\",\"1927-01-01T00:00:00\",\"1928-01-01T00:00:00\",\"1929-01-01T00:00:00\",\"1930-01-01T00:00:00\",\"1931-01-01T00:00:00\",\"1932-01-01T00:00:00\",\"1933-01-01T00:00:00\",\"1934-01-01T00:00:00\",\"1935-01-01T00:00:00\",\"1936-01-01T00:00:00\",\"1937-01-01T00:00:00\",\"1938-01-01T00:00:00\",\"1939-01-01T00:00:00\",\"1940-01-01T00:00:00\",\"1941-01-01T00:00:00\",\"1942-01-01T00:00:00\",\"1943-01-01T00:00:00\",\"1944-01-01T00:00:00\",\"1945-01-01T00:00:00\",\"1946-01-01T00:00:00\",\"1947-01-01T00:00:00\",\"1948-01-01T00:00:00\",\"1949-01-01T00:00:00\",\"1950-01-01T00:00:00\",\"1951-01-01T00:00:00\",\"1952-01-01T00:00:00\",\"1953-01-01T00:00:00\",\"1954-01-01T00:00:00\",\"1955-01-01T00:00:00\",\"1956-01-01T00:00:00\",\"1957-01-01T00:00:00\",\"1958-01-01T00:00:00\",\"1959-01-01T00:00:00\",\"1960-01-01T00:00:00\",\"1961-01-01T00:00:00\",\"1962-01-01T00:00:00\",\"1963-01-01T00:00:00\",\"1964-01-01T00:00:00\",\"1965-01-01T00:00:00\",\"1966-01-01T00:00:00\",\"1967-01-01T00:00:00\",\"1968-01-01T00:00:00\",\"1969-01-01T00:00:00\",\"1970-01-01T00:00:00\",\"1971-01-01T00:00:00\",\"1972-01-01T00:00:00\",\"1973-01-01T00:00:00\",\"1974-01-01T00:00:00\",\"1975-01-01T00:00:00\",\"1976-01-01T00:00:00\",\"1977-01-01T00:00:00\",\"1978-01-01T00:00:00\",\"1979-01-01T00:00:00\",\"1980-01-01T00:00:00\",\"1981-01-01T00:00:00\",\"1982-01-01T00:00:00\",\"1983-01-01T00:00:00\",\"1984-01-01T00:00:00\",\"1985-01-01T00:00:00\",\"1986-01-01T00:00:00\",\"1987-01-01T00:00:00\",\"1988-01-01T00:00:00\",\"1989-01-01T00:00:00\",\"1990-01-01T00:00:00\",\"1991-01-01T00:00:00\",\"1992-01-01T00:00:00\",\"1993-01-01T00:00:00\",\"1994-01-01T00:00:00\",\"1995-01-01T00:00:00\",\"1996-01-01T00:00:00\",\"1997-01-01T00:00:00\",\"1998-01-01T00:00:00\",\"1999-01-01T00:00:00\",\"2000-01-01T00:00:00\",\"2001-01-01T00:00:00\",\"2002-01-01T00:00:00\",\"2003-01-01T00:00:00\",\"2004-01-01T00:00:00\",\"2005-01-01T00:00:00\",\"2006-01-01T00:00:00\",\"2007-01-01T00:00:00\",\"2008-01-01T00:00:00\",\"2009-01-01T00:00:00\",\"2010-01-01T00:00:00\",\"2011-01-01T00:00:00\",\"2012-01-01T00:00:00\",\"2013-01-01T00:00:00\",\"2014-01-01T00:00:00\",\"2015-01-01T00:00:00\",\"2015-12-31T00:00:00\",\"2016-12-31T00:00:00\",\"2017-12-31T00:00:00\",\"2018-12-31T00:00:00\",\"2019-12-31T00:00:00\",\"2020-12-31T00:00:00\",\"2021-12-31T00:00:00\",\"2022-12-31T00:00:00\",\"2023-12-31T00:00:00\",\"2024-12-31T00:00:00\",\"2025-12-31T00:00:00\",\"2026-12-31T00:00:00\",\"2027-12-31T00:00:00\",\"2028-12-31T00:00:00\",\"2029-12-31T00:00:00\",\"2030-12-31T00:00:00\",\"2031-12-31T00:00:00\",\"2032-12-31T00:00:00\",\"2033-12-31T00:00:00\",\"2034-12-31T00:00:00\"],\"y\":[1149.8489242395294,1148.622378830627,1147.3165626873158,1145.9354881190602,1157.8218118982293,1156.5952666550718,1155.2894506774583,1153.908376275022,1165.7946999497942,1164.5681544367308,1163.2623381893293,1161.8812635170318,1173.7675865613808,1172.5410404196482,1171.235223543523,1169.8541482425337,1181.7404712770524,1180.5139251255132,1179.2081082395416,1177.8197289922405,1189.6987280794924,1188.4648779914703,1187.1517571690504,1185.7465239713845,1197.608622933078,1196.3579188947433,1194.9955583821477,1193.5579394446588,1205.3875639384758,1204.1044741602855,1202.7286014982287,1201.27747041128,1213.0935457360622,1211.79694380841,1209.9849345325688,1208.0976668318008,1219.4764106479356,1217.1148937059916,1214.6741060296451,1212.1580599284034,1222.9063026634997,1220.0473773512472,1217.1091813045978,1214.0957268330565,1224.3451984351796,1220.9209244469023,1217.4173797242192,1213.838576576665,1222.9890885042487,1219.0342061395202,1215.0000530403806,1210.8906415163722,1219.7175551142482,1215.4399585682709,1211.0830912878723,1206.6509655825955,1215.2267571749521,1210.6987247491372,1206.0914215889195,1201.3843044565683,1209.9354732262086,1205.3828852531512,1200.7510265456847,1196.0439088365597,1204.5950770278496,1200.0424884780184,1195.4106291937796,1190.7033313339075,1199.2543188808881,1194.701550180309,1190.069510939199,1185.3622132732023,1193.9132010145877,1189.3604325078818,1184.7283932625305,1180.0210955922905,1188.572083329421,1184.0193145795406,1179.3872750952587,1174.6799771860885,1183.230964683631,1178.6781955575875,1174.0461556971366,1169.3388574117935,1177.8898445321454,1173.337075919501,1168.7050365724679,1163.9977388005318,1172.5487264506914,1167.9959578529972,1163.3639185209026,1158.6566207639291,1167.2076076352273,1162.6548382608069,1158.022798151981,1153.315499618279,1161.8664864895704,1157.3137171151611,1152.6816770063383,1147.9743784726106,1156.525365343918,1151.9725959694995,1147.3405558606728,1142.6332573269906,1151.1842441982585,1146.631474823866,1141.999434715039,1137.2921361813262,1145.8431230526314,1141.2903536782107,1136.6583135693847,1131.9510150356784,1140.5020019069634,1135.9492325325423,1131.3171924237522,1112.452603674116,1121.8314419898811,1116.9860286015569,1112.0779263684824,1107.111482528497,1116.4903208442079,1111.6449074559177,1106.7368052228435,1101.7703613828332,1111.1491996985962,1106.3037863102597,1101.3956840771943,1096.4292402372057,1105.808078552945,1100.9626651645794,1096.0545629315538,1091.0881190915095,1100.4669574072598,1095.621544018956,1090.7134417858385],\"type\":\"scatter\"},{\"fill\":\"tonexty\",\"fillcolor\":\"rgba(0, 114, 178, 0.2)\",\"hoverinfo\":\"skip\",\"line\":{\"width\":0},\"mode\":\"lines\",\"x\":[\"1901-01-01T00:00:00\",\"1902-01-01T00:00:00\",\"1903-01-01T00:00:00\",\"1904-01-01T00:00:00\",\"1905-01-01T00:00:00\",\"1906-01-01T00:00:00\",\"1907-01-01T00:00:00\",\"1908-01-01T00:00:00\",\"1909-01-01T00:00:00\",\"1910-01-01T00:00:00\",\"1911-01-01T00:00:00\",\"1912-01-01T00:00:00\",\"1913-01-01T00:00:00\",\"1914-01-01T00:00:00\",\"1915-01-01T00:00:00\",\"1916-01-01T00:00:00\",\"1917-01-01T00:00:00\",\"1918-01-01T00:00:00\",\"1919-01-01T00:00:00\",\"1920-01-01T00:00:00\",\"1921-01-01T00:00:00\",\"1922-01-01T00:00:00\",\"1923-01-01T00:00:00\",\"1924-01-01T00:00:00\",\"1925-01-01T00:00:00\",\"1926-01-01T00:00:00\",\"1927-01-01T00:00:00\",\"1928-01-01T00:00:00\",\"1929-01-01T00:00:00\",\"1930-01-01T00:00:00\",\"1931-01-01T00:00:00\",\"1932-01-01T00:00:00\",\"1933-01-01T00:00:00\",\"1934-01-01T00:00:00\",\"1935-01-01T00:00:00\",\"1936-01-01T00:00:00\",\"1937-01-01T00:00:00\",\"1938-01-01T00:00:00\",\"1939-01-01T00:00:00\",\"1940-01-01T00:00:00\",\"1941-01-01T00:00:00\",\"1942-01-01T00:00:00\",\"1943-01-01T00:00:00\",\"1944-01-01T00:00:00\",\"1945-01-01T00:00:00\",\"1946-01-01T00:00:00\",\"1947-01-01T00:00:00\",\"1948-01-01T00:00:00\",\"1949-01-01T00:00:00\",\"1950-01-01T00:00:00\",\"1951-01-01T00:00:00\",\"1952-01-01T00:00:00\",\"1953-01-01T00:00:00\",\"1954-01-01T00:00:00\",\"1955-01-01T00:00:00\",\"1956-01-01T00:00:00\",\"1957-01-01T00:00:00\",\"1958-01-01T00:00:00\",\"1959-01-01T00:00:00\",\"1960-01-01T00:00:00\",\"1961-01-01T00:00:00\",\"1962-01-01T00:00:00\",\"1963-01-01T00:00:00\",\"1964-01-01T00:00:00\",\"1965-01-01T00:00:00\",\"1966-01-01T00:00:00\",\"1967-01-01T00:00:00\",\"1968-01-01T00:00:00\",\"1969-01-01T00:00:00\",\"1970-01-01T00:00:00\",\"1971-01-01T00:00:00\",\"1972-01-01T00:00:00\",\"1973-01-01T00:00:00\",\"1974-01-01T00:00:00\",\"1975-01-01T00:00:00\",\"1976-01-01T00:00:00\",\"1977-01-01T00:00:00\",\"1978-01-01T00:00:00\",\"1979-01-01T00:00:00\",\"1980-01-01T00:00:00\",\"1981-01-01T00:00:00\",\"1982-01-01T00:00:00\",\"1983-01-01T00:00:00\",\"1984-01-01T00:00:00\",\"1985-01-01T00:00:00\",\"1986-01-01T00:00:00\",\"1987-01-01T00:00:00\",\"1988-01-01T00:00:00\",\"1989-01-01T00:00:00\",\"1990-01-01T00:00:00\",\"1991-01-01T00:00:00\",\"1992-01-01T00:00:00\",\"1993-01-01T00:00:00\",\"1994-01-01T00:00:00\",\"1995-01-01T00:00:00\",\"1996-01-01T00:00:00\",\"1997-01-01T00:00:00\",\"1998-01-01T00:00:00\",\"1999-01-01T00:00:00\",\"2000-01-01T00:00:00\",\"2001-01-01T00:00:00\",\"2002-01-01T00:00:00\",\"2003-01-01T00:00:00\",\"2004-01-01T00:00:00\",\"2005-01-01T00:00:00\",\"2006-01-01T00:00:00\",\"2007-01-01T00:00:00\",\"2008-01-01T00:00:00\",\"2009-01-01T00:00:00\",\"2010-01-01T00:00:00\",\"2011-01-01T00:00:00\",\"2012-01-01T00:00:00\",\"2013-01-01T00:00:00\",\"2014-01-01T00:00:00\",\"2015-01-01T00:00:00\",\"2015-12-31T00:00:00\",\"2016-12-31T00:00:00\",\"2017-12-31T00:00:00\",\"2018-12-31T00:00:00\",\"2019-12-31T00:00:00\",\"2020-12-31T00:00:00\",\"2021-12-31T00:00:00\",\"2022-12-31T00:00:00\",\"2023-12-31T00:00:00\",\"2024-12-31T00:00:00\",\"2025-12-31T00:00:00\",\"2026-12-31T00:00:00\",\"2027-12-31T00:00:00\",\"2028-12-31T00:00:00\",\"2029-12-31T00:00:00\",\"2030-12-31T00:00:00\",\"2031-12-31T00:00:00\",\"2032-12-31T00:00:00\",\"2033-12-31T00:00:00\",\"2034-12-31T00:00:00\"],\"y\":[1276.6860914031133,1275.9099283435219,1287.3896981434443,1278.0306112127098,1291.446887447965,1283.3418309169424,1287.9008875096506,1283.545365066969,1295.0275815309847,1300.7813079027162,1285.7744766624169,1293.157049814009,1298.6590893447867,1310.3042368998078,1304.980021540292,1304.914864963017,1316.6232421498428,1317.176450654446,1309.1639779723535,1313.7125426508826,1312.1631133054918,1320.8648330516023,1311.3180528018954,1317.623703069581,1338.8879996316537,1325.7337046049277,1320.9881182277236,1328.1691341587223,1335.9209635579298,1332.233517041792,1337.2960769539059,1328.3075760772654,1341.6832550877814,1341.371036181721,1350.8851858206322,1324.1876517123642,1353.1494159851648,1335.7563770394725,1348.736392402116,1352.5861572453446,1354.8239245720474,1350.9350970628873,1348.3559988997542,1342.3193291349908,1363.1612343613883,1351.779835901731,1348.627118634157,1336.4872853316394,1351.32391038435,1348.2101681554097,1345.4664559482032,1340.5662052479206,1342.8637430145336,1344.8025729303815,1345.3297596270354,1342.5953226976796,1350.9049114378017,1338.183860512469,1343.655959323204,1344.064530276733,1342.0609177355807,1336.6151929493146,1336.3690039324067,1323.479718787627,1326.5166760651443,1330.4661583385537,1322.7370825827363,1316.516538098999,1323.3811726312213,1318.2203446316246,1333.4007118802317,1319.8050852856277,1321.6586651616244,1317.1733948416017,1307.8298862697304,1315.5900755913535,1317.2406809128388,1323.9249817695645,1312.9755877688492,1307.1439434398426,1320.0087032928861,1312.35554309348,1295.78354303009,1292.0339644224202,1309.9715572090338,1299.8220974202245,1302.2475611045718,1295.3994295881287,1291.1823122429082,1295.5712775703755,1302.9330971175514,1277.2822846439071,1307.7467998763145,1289.4535657632036,1289.657346488236,1279.183630964435,1292.8636381177457,1288.6099838067248,1280.0488111756576,1279.7398833478826,1276.424863389434,1294.2321768617264,1278.9853930776048,1284.7509154322368,1290.9153062923929,1277.872455855182,1273.4900643384688,1270.6722712938222,1291.7565730927272,1275.575290242968,1271.9004105490035,1257.1286975806706,1273.1392142641628,1265.2518438888274,1271.4644829497963,1243.0558923047313,1252.6245885074875,1255.949477048641,1243.621140879258,1240.3222195273054,1256.2920763965394,1240.8641526434374,1236.945612009284,1221.1938160400127,1238.3957607326458,1241.5282276838084,1233.5901976723337,1223.5488573322014,1236.8028398975766,1226.547863595104,1226.6457357604959,1225.1746802469336,1230.7974851432664,1222.9650763669385,1219.3554037017327],\"type\":\"scatter\"}],                        {\"height\":500,\"showlegend\":false,\"width\":900,\"xaxis\":{\"rangeselector\":{\"buttons\":[{\"count\":7,\"label\":\"1w\",\"step\":\"day\",\"stepmode\":\"backward\"},{\"count\":1,\"label\":\"1m\",\"step\":\"month\",\"stepmode\":\"backward\"},{\"count\":6,\"label\":\"6m\",\"step\":\"month\",\"stepmode\":\"backward\"},{\"count\":1,\"label\":\"1y\",\"step\":\"year\",\"stepmode\":\"backward\"},{\"step\":\"all\"}]},\"rangeslider\":{\"visible\":true},\"title\":{\"text\":\"Year\"},\"type\":\"date\"},\"yaxis\":{\"title\":{\"text\":\"Rainfall (mm)\"}},\"template\":{\"data\":{\"barpolar\":[{\"marker\":{\"line\":{\"color\":\"white\",\"width\":0.5},\"pattern\":{\"fillmode\":\"overlay\",\"size\":10,\"solidity\":0.2}},\"type\":\"barpolar\"}],\"bar\":[{\"error_x\":{\"color\":\"#2a3f5f\"},\"error_y\":{\"color\":\"#2a3f5f\"},\"marker\":{\"line\":{\"color\":\"white\",\"width\":0.5},\"pattern\":{\"fillmode\":\"overlay\",\"size\":10,\"solidity\":0.2}},\"type\":\"bar\"}],\"carpet\":[{\"aaxis\":{\"endlinecolor\":\"#2a3f5f\",\"gridcolor\":\"#C8D4E3\",\"linecolor\":\"#C8D4E3\",\"minorgridcolor\":\"#C8D4E3\",\"startlinecolor\":\"#2a3f5f\"},\"baxis\":{\"endlinecolor\":\"#2a3f5f\",\"gridcolor\":\"#C8D4E3\",\"linecolor\":\"#C8D4E3\",\"minorgridcolor\":\"#C8D4E3\",\"startlinecolor\":\"#2a3f5f\"},\"type\":\"carpet\"}],\"choropleth\":[{\"colorbar\":{\"outlinewidth\":0,\"ticks\":\"\"},\"type\":\"choropleth\"}],\"contourcarpet\":[{\"colorbar\":{\"outlinewidth\":0,\"ticks\":\"\"},\"type\":\"contourcarpet\"}],\"contour\":[{\"colorbar\":{\"outlinewidth\":0,\"ticks\":\"\"},\"colorscale\":[[0.0,\"#0d0887\"],[0.1111111111111111,\"#46039f\"],[0.2222222222222222,\"#7201a8\"],[0.3333333333333333,\"#9c179e\"],[0.4444444444444444,\"#bd3786\"],[0.5555555555555556,\"#d8576b\"],[0.6666666666666666,\"#ed7953\"],[0.7777777777777778,\"#fb9f3a\"],[0.8888888888888888,\"#fdca26\"],[1.0,\"#f0f921\"]],\"type\":\"contour\"}],\"heatmapgl\":[{\"colorbar\":{\"outlinewidth\":0,\"ticks\":\"\"},\"colorscale\":[[0.0,\"#0d0887\"],[0.1111111111111111,\"#46039f\"],[0.2222222222222222,\"#7201a8\"],[0.3333333333333333,\"#9c179e\"],[0.4444444444444444,\"#bd3786\"],[0.5555555555555556,\"#d8576b\"],[0.6666666666666666,\"#ed7953\"],[0.7777777777777778,\"#fb9f3a\"],[0.8888888888888888,\"#fdca26\"],[1.0,\"#f0f921\"]],\"type\":\"heatmapgl\"}],\"heatmap\":[{\"colorbar\":{\"outlinewidth\":0,\"ticks\":\"\"},\"colorscale\":[[0.0,\"#0d0887\"],[0.1111111111111111,\"#46039f\"],[0.2222222222222222,\"#7201a8\"],[0.3333333333333333,\"#9c179e\"],[0.4444444444444444,\"#bd3786\"],[0.5555555555555556,\"#d8576b\"],[0.6666666666666666,\"#ed7953\"],[0.7777777777777778,\"#fb9f3a\"],[0.8888888888888888,\"#fdca26\"],[1.0,\"#f0f921\"]],\"type\":\"heatmap\"}],\"histogram2dcontour\":[{\"colorbar\":{\"outlinewidth\":0,\"ticks\":\"\"},\"colorscale\":[[0.0,\"#0d0887\"],[0.1111111111111111,\"#46039f\"],[0.2222222222222222,\"#7201a8\"],[0.3333333333333333,\"#9c179e\"],[0.4444444444444444,\"#bd3786\"],[0.5555555555555556,\"#d8576b\"],[0.6666666666666666,\"#ed7953\"],[0.7777777777777778,\"#fb9f3a\"],[0.8888888888888888,\"#fdca26\"],[1.0,\"#f0f921\"]],\"type\":\"histogram2dcontour\"}],\"histogram2d\":[{\"colorbar\":{\"outlinewidth\":0,\"ticks\":\"\"},\"colorscale\":[[0.0,\"#0d0887\"],[0.1111111111111111,\"#46039f\"],[0.2222222222222222,\"#7201a8\"],[0.3333333333333333,\"#9c179e\"],[0.4444444444444444,\"#bd3786\"],[0.5555555555555556,\"#d8576b\"],[0.6666666666666666,\"#ed7953\"],[0.7777777777777778,\"#fb9f3a\"],[0.8888888888888888,\"#fdca26\"],[1.0,\"#f0f921\"]],\"type\":\"histogram2d\"}],\"histogram\":[{\"marker\":{\"pattern\":{\"fillmode\":\"overlay\",\"size\":10,\"solidity\":0.2}},\"type\":\"histogram\"}],\"mesh3d\":[{\"colorbar\":{\"outlinewidth\":0,\"ticks\":\"\"},\"type\":\"mesh3d\"}],\"parcoords\":[{\"line\":{\"colorbar\":{\"outlinewidth\":0,\"ticks\":\"\"}},\"type\":\"parcoords\"}],\"pie\":[{\"automargin\":true,\"type\":\"pie\"}],\"scatter3d\":[{\"line\":{\"colorbar\":{\"outlinewidth\":0,\"ticks\":\"\"}},\"marker\":{\"colorbar\":{\"outlinewidth\":0,\"ticks\":\"\"}},\"type\":\"scatter3d\"}],\"scattercarpet\":[{\"marker\":{\"colorbar\":{\"outlinewidth\":0,\"ticks\":\"\"}},\"type\":\"scattercarpet\"}],\"scattergeo\":[{\"marker\":{\"colorbar\":{\"outlinewidth\":0,\"ticks\":\"\"}},\"type\":\"scattergeo\"}],\"scattergl\":[{\"marker\":{\"colorbar\":{\"outlinewidth\":0,\"ticks\":\"\"}},\"type\":\"scattergl\"}],\"scattermapbox\":[{\"marker\":{\"colorbar\":{\"outlinewidth\":0,\"ticks\":\"\"}},\"type\":\"scattermapbox\"}],\"scatterpolargl\":[{\"marker\":{\"colorbar\":{\"outlinewidth\":0,\"ticks\":\"\"}},\"type\":\"scatterpolargl\"}],\"scatterpolar\":[{\"marker\":{\"colorbar\":{\"outlinewidth\":0,\"ticks\":\"\"}},\"type\":\"scatterpolar\"}],\"scatter\":[{\"fillpattern\":{\"fillmode\":\"overlay\",\"size\":10,\"solidity\":0.2},\"type\":\"scatter\"}],\"scatterternary\":[{\"marker\":{\"colorbar\":{\"outlinewidth\":0,\"ticks\":\"\"}},\"type\":\"scatterternary\"}],\"surface\":[{\"colorbar\":{\"outlinewidth\":0,\"ticks\":\"\"},\"colorscale\":[[0.0,\"#0d0887\"],[0.1111111111111111,\"#46039f\"],[0.2222222222222222,\"#7201a8\"],[0.3333333333333333,\"#9c179e\"],[0.4444444444444444,\"#bd3786\"],[0.5555555555555556,\"#d8576b\"],[0.6666666666666666,\"#ed7953\"],[0.7777777777777778,\"#fb9f3a\"],[0.8888888888888888,\"#fdca26\"],[1.0,\"#f0f921\"]],\"type\":\"surface\"}],\"table\":[{\"cells\":{\"fill\":{\"color\":\"#EBF0F8\"},\"line\":{\"color\":\"white\"}},\"header\":{\"fill\":{\"color\":\"#C8D4E3\"},\"line\":{\"color\":\"white\"}},\"type\":\"table\"}]},\"layout\":{\"annotationdefaults\":{\"arrowcolor\":\"#2a3f5f\",\"arrowhead\":0,\"arrowwidth\":1},\"autotypenumbers\":\"strict\",\"coloraxis\":{\"colorbar\":{\"outlinewidth\":0,\"ticks\":\"\"}},\"colorscale\":{\"diverging\":[[0,\"#8e0152\"],[0.1,\"#c51b7d\"],[0.2,\"#de77ae\"],[0.3,\"#f1b6da\"],[0.4,\"#fde0ef\"],[0.5,\"#f7f7f7\"],[0.6,\"#e6f5d0\"],[0.7,\"#b8e186\"],[0.8,\"#7fbc41\"],[0.9,\"#4d9221\"],[1,\"#276419\"]],\"sequential\":[[0.0,\"#0d0887\"],[0.1111111111111111,\"#46039f\"],[0.2222222222222222,\"#7201a8\"],[0.3333333333333333,\"#9c179e\"],[0.4444444444444444,\"#bd3786\"],[0.5555555555555556,\"#d8576b\"],[0.6666666666666666,\"#ed7953\"],[0.7777777777777778,\"#fb9f3a\"],[0.8888888888888888,\"#fdca26\"],[1.0,\"#f0f921\"]],\"sequentialminus\":[[0.0,\"#0d0887\"],[0.1111111111111111,\"#46039f\"],[0.2222222222222222,\"#7201a8\"],[0.3333333333333333,\"#9c179e\"],[0.4444444444444444,\"#bd3786\"],[0.5555555555555556,\"#d8576b\"],[0.6666666666666666,\"#ed7953\"],[0.7777777777777778,\"#fb9f3a\"],[0.8888888888888888,\"#fdca26\"],[1.0,\"#f0f921\"]]},\"colorway\":[\"#636efa\",\"#EF553B\",\"#00cc96\",\"#ab63fa\",\"#FFA15A\",\"#19d3f3\",\"#FF6692\",\"#B6E880\",\"#FF97FF\",\"#FECB52\"],\"font\":{\"color\":\"#2a3f5f\"},\"geo\":{\"bgcolor\":\"white\",\"lakecolor\":\"white\",\"landcolor\":\"white\",\"showlakes\":true,\"showland\":true,\"subunitcolor\":\"#C8D4E3\"},\"hoverlabel\":{\"align\":\"left\"},\"hovermode\":\"closest\",\"mapbox\":{\"style\":\"light\"},\"paper_bgcolor\":\"white\",\"plot_bgcolor\":\"white\",\"polar\":{\"angularaxis\":{\"gridcolor\":\"#EBF0F8\",\"linecolor\":\"#EBF0F8\",\"ticks\":\"\"},\"bgcolor\":\"white\",\"radialaxis\":{\"gridcolor\":\"#EBF0F8\",\"linecolor\":\"#EBF0F8\",\"ticks\":\"\"}},\"scene\":{\"xaxis\":{\"backgroundcolor\":\"white\",\"gridcolor\":\"#DFE8F3\",\"gridwidth\":2,\"linecolor\":\"#EBF0F8\",\"showbackground\":true,\"ticks\":\"\",\"zerolinecolor\":\"#EBF0F8\"},\"yaxis\":{\"backgroundcolor\":\"white\",\"gridcolor\":\"#DFE8F3\",\"gridwidth\":2,\"linecolor\":\"#EBF0F8\",\"showbackground\":true,\"ticks\":\"\",\"zerolinecolor\":\"#EBF0F8\"},\"zaxis\":{\"backgroundcolor\":\"white\",\"gridcolor\":\"#DFE8F3\",\"gridwidth\":2,\"linecolor\":\"#EBF0F8\",\"showbackground\":true,\"ticks\":\"\",\"zerolinecolor\":\"#EBF0F8\"}},\"shapedefaults\":{\"line\":{\"color\":\"#2a3f5f\"}},\"ternary\":{\"aaxis\":{\"gridcolor\":\"#DFE8F3\",\"linecolor\":\"#A2B1C6\",\"ticks\":\"\"},\"baxis\":{\"gridcolor\":\"#DFE8F3\",\"linecolor\":\"#A2B1C6\",\"ticks\":\"\"},\"bgcolor\":\"white\",\"caxis\":{\"gridcolor\":\"#DFE8F3\",\"linecolor\":\"#A2B1C6\",\"ticks\":\"\"}},\"title\":{\"x\":0.05},\"xaxis\":{\"automargin\":true,\"gridcolor\":\"#EBF0F8\",\"linecolor\":\"#EBF0F8\",\"ticks\":\"\",\"title\":{\"standoff\":15},\"zerolinecolor\":\"#EBF0F8\",\"zerolinewidth\":2},\"yaxis\":{\"automargin\":true,\"gridcolor\":\"#EBF0F8\",\"linecolor\":\"#EBF0F8\",\"ticks\":\"\",\"title\":{\"standoff\":15},\"zerolinecolor\":\"#EBF0F8\",\"zerolinewidth\":2}}},\"title\":{\"text\":\"Annual Rainfall Forecast for the Next 20 Years\"}},                        {\"responsive\": true}                    ).then(function(){\n",
              "                            \n",
              "var gd = document.getElementById('f4c02e07-324b-4359-bfb1-8554bba34f13');\n",
              "var x = new MutationObserver(function (mutations, observer) {{\n",
              "        var display = window.getComputedStyle(gd).display;\n",
              "        if (!display || display === 'none') {{\n",
              "            console.log([gd, 'removed!']);\n",
              "            Plotly.purge(gd);\n",
              "            observer.disconnect();\n",
              "        }}\n",
              "}});\n",
              "\n",
              "// Listen for the removal of the full notebook cells\n",
              "var notebookContainer = gd.closest('#notebook-container');\n",
              "if (notebookContainer) {{\n",
              "    x.observe(notebookContainer, {childList: true});\n",
              "}}\n",
              "\n",
              "// Listen for the clearing of the current output cell\n",
              "var outputEl = gd.closest('.output');\n",
              "if (outputEl) {{\n",
              "    x.observe(outputEl, {childList: true});\n",
              "}}\n",
              "\n",
              "                        })                };                            </script>        </div>\n",
              "</body>\n",
              "</html>"
            ]
          },
          "metadata": {}
        }
      ]
    }
  ]
}